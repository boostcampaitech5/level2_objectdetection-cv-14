{
 "cells": [
  {
   "cell_type": "code",
   "execution_count": 15,
   "id": "113adbac-f09f-48fa-8d52-db9dd883b07e",
   "metadata": {
    "tags": []
   },
   "outputs": [],
   "source": [
    "import json\n",
    "import cv2\n",
    "import numpy as np\n",
    "import os"
   ]
  },
  {
   "cell_type": "code",
   "execution_count": 16,
   "id": "afb8c29e-d752-4090-b514-3c4c1a2ca1e9",
   "metadata": {
    "tags": []
   },
   "outputs": [],
   "source": [
    "with open('train.json', 'r') as f:\n",
    "    annotations = json.load(f)"
   ]
  },
  {
   "cell_type": "code",
   "execution_count": 17,
   "id": "85c8c610-4432-4c5f-8734-a476223a9bf7",
   "metadata": {
    "tags": []
   },
   "outputs": [
    {
     "name": "stdout",
     "output_type": "stream",
     "text": [
      "{0: 'General trash', 1: 'Paper', 2: 'Paper pack', 3: 'Metal', 4: 'Glass', 5: 'Plastic', 6: 'Styrofoam', 7: 'Plastic bag', 8: 'Battery', 9: 'Clothing'}\n",
      "{'width': 1024, 'height': 1024, 'file_name': 'train/0000.jpg', 'license': 0, 'flickr_url': None, 'coco_url': None, 'date_captured': '2020-12-26 14:44:23', 'id': 0}\n",
      "{'image_id': 0, 'category_id': 0, 'area': 257301.66, 'bbox': [197.6, 193.7, 547.8, 469.7], 'iscrowd': 0, 'id': 0}\n",
      "4\n"
     ]
    }
   ],
   "source": [
    "class_names = {}\n",
    "for category in annotations['categories']:\n",
    "    class_names[category['id']] = category['name']\n",
    "print(class_names)\n",
    "print(annotations['images'][0])\n",
    "print(annotations['annotations'][0])\n",
    "print(len(annotations['annotations'][image_id]['bbox']))"
   ]
  },
  {
   "cell_type": "code",
   "execution_count": 20,
   "id": "4860c636-e02e-4e4e-930c-c5192a9d9420",
   "metadata": {
    "tags": []
   },
   "outputs": [],
   "source": [
    "#현재는 전체 이미지에 박스를 씌운 이미지를 생성하는 코드\n",
    "\n",
    "for image_info in annotations['images']:\n",
    "    image_id = image_info['id']\n",
    "    image_path = os.path.join('train', image_info['file_name'][6:])\n",
    "    image = cv2.imread(image_path)\n",
    "    \n",
    "    # 해당 이미지에 대한 annotation 정보 추출\n",
    "    image_annotations = [ann for ann in annotations['annotations'] if ann['image_id'] == image_id]\n",
    "    boxes = [ann['bbox'] for ann in image_annotations]\n",
    "    class_ids = [ann['category_id'] for ann in image_annotations]\n",
    "\n",
    "    # 클래스 id와 색상 매핑\n",
    "    class_colors = {\n",
    "    0: (0, 255, 0),   # 클래스0에 대한 색상 (초록색)\n",
    "    1: (0, 0, 255),   # 클래스1에 대한 색상 (빨간색)\n",
    "    2: (255, 0, 0),   # 클래스2에 대한 색상 (파란색)\n",
    "    3: (255, 255, 0), # 클래스3에 대한 색상 (노란색)\n",
    "    4: (255, 0, 255), # 클래스4에 대한 색상 (자홍색)\n",
    "    5: (0, 255, 255), # 클래스5에 대한 색상 (청록색)\n",
    "    6: (128, 128, 0), # 클래스6에 대한 색상 (올리브색)\n",
    "    7: (128, 0, 128), # 클래스7에 대한 색상 (보라색)\n",
    "    8: (0, 128, 128), # 클래스8에 대한 색상 (청록색)\n",
    "    9: (128, 128, 128)# 클래스9에 대한 색상 (회색)\n",
    "}\n",
    "\n",
    "    # 박스 시각화\n",
    "    for i, box in enumerate(boxes):\n",
    "        x, y, w, h = box\n",
    "        class_id = class_ids[i]\n",
    "        color = class_colors[class_id]\n",
    "        class_name = class_names[class_id]\n",
    "        font = cv2.FONT_HERSHEY_SIMPLEX\n",
    "        font_scale = 1\n",
    "        thickness = 2\n",
    "        cv2.rectangle(image, (int(x), int(y)), (int(x+w), int(y+h)), color, thickness)\n",
    "        cv2.putText(image, class_name, (int(x), int(y)-5), font, font_scale, color, thickness)\n",
    "\n",
    "    # 결과 이미지 저장 (output 폴더안에 생성됨 output폴더 외에 다른 폴더에 만들고싶으면 ouput을 폴더명으로 바꺼주면댐)\n",
    "    output_path = os.path.join('output', 'output_{}.jpg'.format(str(image_id).zfill(4)))\n",
    "    cv2.imwrite(output_path, image)"
   ]
  },
  {
   "cell_type": "code",
   "execution_count": 17,
   "id": "f2f886ba-cd73-4f2c-bdb0-6ba71a53ac0c",
   "metadata": {},
   "outputs": [],
   "source": [
    "for image_info in annotations['images']:\n",
    "    image_id = image_info['id']\n",
    "    image_path = os.path.join('train', image_info['file_name'][6:])\n",
    "    image = cv2.imread(image_path)\n",
    "\n",
    "    # 해당 이미지에 대한 annotation 정보 추출\n",
    "    image_annotations = [ann for ann in annotations['annotations'] if ann['image_id'] == image_id]\n",
    "    boxes = [ann['bbox'] for ann in image_annotations]\n",
    "    class_ids = [ann['category_id'] for ann in image_annotations]\n",
    "\n",
    "    # 클래스 id와 색상 매핑\n",
    "    class_colors = {\n",
    "    0: (0, 255, 0),   # 클래스0에 대한 색상 (초록색)\n",
    "    1: (0, 0, 255),   # 클래스1에 대한 색상 (빨간색)\n",
    "    2: (255, 0, 0),   # 클래스2에 대한 색상 (파란색)\n",
    "    3: (255, 255, 0), # 클래스3에 대한 색상 (노란색)\n",
    "    4: (255, 0, 255), # 클래스4에 대한 색상 (자홍색)\n",
    "    5: (0, 255, 255), # 클래스5에 대한 색상 (청록색)\n",
    "    6: (128, 128, 0), # 클래스6에 대한 색상 (올리브색)\n",
    "     7: (128, 0, 128), # 클래스7에 대한 색상 (보라색)\n",
    "     8: (0, 128, 128), # 클래스8에 대한 색상 (청록색)\n",
    "     9: (128, 128, 128)# 클래스9에 대한 색상 (회색)\n",
    "}\n",
    "\n",
    "    # 박스 시각화\n",
    "    if len(boxes) >= 30: # 박스가 30개 이상인 경우에만 시각화\n",
    "        for i, box in enumerate(boxes):\n",
    "            x, y, w, h = box\n",
    "            class_id = class_ids[i]\n",
    "            color = class_colors[class_id]\n",
    "            class_name = class_names[class_id]\n",
    "            font = cv2.FONT_HERSHEY_SIMPLEX\n",
    "            font_scale = 1\n",
    "            thickness = 2\n",
    "            cv2.rectangle(image, (int(x), int(y)), (int(x+w), int(y+h)), color, thickness)\n",
    "            cv2.putText(image, class_name, (int(x), int(y)-5), font, font_scale, color, thickness)\n",
    "\n",
    "        # 결과 이미지 저장 (output 폴더안에 생성됨 output폴더 외에 다른 폴더에 만들고싶으면 ouput을 폴더명으로 바꺼주면댐)\n",
    "        output_path = os.path.join('bbox30', 'output_{}.jpg'.format(image_id))\n",
    "        cv2.imwrite(output_path, image)"
   ]
  },
  {
   "cell_type": "code",
   "execution_count": null,
   "id": "f97d94c6-db7b-4691-9001-e5a1856c2f87",
   "metadata": {},
   "outputs": [],
   "source": []
  }
 ],
 "metadata": {
  "kernelspec": {
   "display_name": "detection",
   "language": "python",
   "name": "detection"
  },
  "language_info": {
   "codemirror_mode": {
    "name": "ipython",
    "version": 3
   },
   "file_extension": ".py",
   "mimetype": "text/x-python",
   "name": "python",
   "nbconvert_exporter": "python",
   "pygments_lexer": "ipython3",
   "version": "3.7.16"
  }
 },
 "nbformat": 4,
 "nbformat_minor": 5
}
