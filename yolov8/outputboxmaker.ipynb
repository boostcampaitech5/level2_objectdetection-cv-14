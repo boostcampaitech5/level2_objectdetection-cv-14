{
 "cells": [
  {
   "cell_type": "code",
   "execution_count": null,
   "id": "7e7a35b1-4bfd-4a2f-9c01-3cabe131e8e6",
   "metadata": {},
   "outputs": [],
   "source": []
  },
  {
   "cell_type": "code",
   "execution_count": 109,
   "id": "1ed3144a-a527-416f-94c6-a19aa1b9e041",
   "metadata": {
    "tags": []
   },
   "outputs": [],
   "source": [
    "import os\n",
    "import pandas as pd\n",
    "from pandas import DataFrame\n",
    "import numpy as np"
   ]
  },
  {
   "cell_type": "code",
   "execution_count": 110,
   "id": "13fd4088-28fb-4941-bec0-ed72ec06b281",
   "metadata": {
    "tags": []
   },
   "outputs": [
    {
     "name": "stdout",
     "output_type": "stream",
     "text": [
      "                                       PredictionString       image_id\n",
      "0     0 0.094164036 473.1461 556.53516 558.7289 591....  test/0000.jpg\n",
      "1     3 0.5278075 344.90585 243.8132 755.0635 696.19...  test/0001.jpg\n",
      "2     0 0.9000873 879.67224 466.05133 1022.0185 630....  test/0002.jpg\n",
      "3     9 0.9947879 156.05684 263.59015 911.9555 812.0...  test/0003.jpg\n",
      "4     0 0.19444406 411.32422 400.38705 657.9198 573....  test/0004.jpg\n",
      "...                                                 ...            ...\n",
      "4866  0 0.6686456 293.25284 346.89975 669.64667 690....  test/4866.jpg\n",
      "4867  0 0.9198968 629.68054 666.003 775.4372 722.428...  test/4867.jpg\n",
      "4868  0 0.17426667 544.76636 508.56384 722.8225 800....  test/4868.jpg\n",
      "4869  0 0.99836004 4.368046 224.47337 1017.9979 932....  test/4869.jpg\n",
      "4870  0 0.14799047 241.8742 821.79517 290.6881 854.4...  test/4870.jpg\n",
      "\n",
      "[4871 rows x 2 columns]\n",
      "9 0.9947879 156.05684 263.59015 911.9555 812.063 9 0.806569 29.460182 65.87979 989.43384 940.96643 9 0.14509879 1.4558204 509.44946 1017.1527 1012.8651 9 0.12002353 9.068686 2.833436 1008.85614 545.7007 9 0.07624993 44.81688 205.12332 460.889 994.7953 \n",
      "<class 'str'>\n"
     ]
    }
   ],
   "source": [
    "import pandas as pd\n",
    "\n",
    "# CSV 파일 경로 (이미지 만들어줄 csv파일의 경로를 넣어주세요!!!!!!!!!!!!!!!!!!!!!!!!!!!!!!!)\n",
    "csv_file_path ='./swinT최대(0.6553).csv'\n",
    "# CSV 파일을 데이터프레임으로 불러오기\n",
    "dataframe = pd.read_csv(csv_file_path)\n",
    "#앙상블 결과를 그릴떄에는 중간에 코드 한줄이 다름 (csv파일 형식이 좀 달라서)\n",
    "\n",
    "# 데이터프레임 확인\n",
    "print(dataframe)\n",
    "#데이터프레임을 리스트로\n",
    "df_list = dataframe.values.tolist()\n",
    "newlist=[0]*len(df_list)\n",
    "print(df_list[3][0])\n",
    "print(type(df_list[1][0]))\n",
    "for i in range(len(df_list)):\n",
    "    #앙상블 안한 일반 모델일떄 \n",
    "    newlist[i]=str(df_list[i][0]).split(' ')\n",
    "    #앙상블 한 결과일때 (앙상블 결과면 위에꺼 주석처리하고 밑에꺼 주석해제)!!!!!!!!!!!!!!!!!!!!!!\n",
    "    #newlist[i]=str(df_list[i][1]).split(' ')\n",
    "    newlist[i].pop()\n",
    "reallist=list([[] for _ in range(10)] for idx in range(len(df_list)))\n",
    "#print(reallist)\n",
    "for i,temp in enumerate(newlist):\n",
    "    for j in range(0,len(temp),6):   \n",
    "        reallist[i][int(temp[j])].append([float(x) for x in temp[j+1:j+6]]) #[float(x) for x in a]    append(temp[j+1:j+6])\n",
    "    "
   ]
  },
  {
   "cell_type": "code",
   "execution_count": 111,
   "id": "12eb3077-a2a6-4cee-95dc-bf8d69c03fbf",
   "metadata": {
    "tags": []
   },
   "outputs": [],
   "source": [
    "#output 시각화 (원래 없던 코드 내가 만든거)\n",
    "#output[i][j] > i번째 이미지에 j번째 클래스 박스들 모음 [x1(왼쪽상단x좌표),y1(왼쪽상단),x2(오른쪽하단),y2,클래스에 속할 확률]\n",
    "#현재는 전체 이미지에 박스를 씌운 이미지를 생성하는 코드\n",
    "\n",
    "\n",
    "#이미지 저장할 폴더 생성\n",
    "#생성할 폴더명 입력!!!!!!!!!!!!!!!!!!!\n",
    "folder_name='swinT최대(0.6553)'\n",
    "os.mkdir(folder_name)\n",
    "\n",
    "import cv2\n",
    "class_names=[\"General trash\",\"Paper\",\"Paper pack\",\"Metal\",\"Glass\",\"Plastic\",\"Styrofoam\",\"Plastic bag\",\"Battery\",\"Clothing\"]\n",
    "for i,image_info in enumerate(reallist):\n",
    "    if i==100: #4천장여러개 만들면 서버가 힘들어해서 0번부터 100개만 만듬\n",
    "        break\n",
    "    #image_id = image_info['id']\n",
    "    #test dataset일때랑 train data일때는 'test'를 'train'으로 변경\n",
    "    #숫자를 4자리 문자열로 바꿔줌 ( 3 >'0003')\n",
    "    stridx = str(i).zfill(4)\n",
    "    #test이미지가 있는 경로 수정하기 !!!!!! \n",
    "    image_path = os.path.join('./dataset/images/test',stridx+'.jpg')\n",
    "    image = cv2.imread(image_path)\n",
    "    #boxes에는 박스 좌표를, class_ids는 클래스 ids를 저장\n",
    "    boxes=[]\n",
    "    class_ids=[]\n",
    "    for idx in range(10):\n",
    "        for tempidx in range(len(reallist[i][idx])):\n",
    "            boxes.append(reallist[i][idx][tempidx][1:5])\n",
    "            class_ids.append(idx)\n",
    "           \n",
    "\n",
    "    # 클래스 id와 색상 매핑\n",
    "    class_colors = {\n",
    "    0: (0, 255, 0),   # 클래스0에 대한 색상 (초록색)\n",
    "    1: (0, 0, 255),   # 클래스1에 대한 색상 (빨간색)\n",
    "    2: (255, 0, 0),   # 클래스2에 대한 색상 (파란색)\n",
    "    3: (255, 255, 0), # 클래스3에 대한 색상 (노란색)\n",
    "    4: (255, 0, 255), # 클래스4에 대한 색상 (자홍색)\n",
    "    5: (0, 255, 255), # 클래스5에 대한 색상 (청록색)\n",
    "    6: (128, 128, 0), # 클래스6에 대한 색상 (올리브색)\n",
    "    7: (128, 0, 128), # 클래스7에 대한 색상 (보라색)\n",
    "    8: (0, 128, 128), # 클래스8에 대한 색상 (청록색)\n",
    "    9: (128, 128, 128)# 클래스9에 대한 색상 (회색)\n",
    "}\n",
    "\n",
    "    # 박스 시각화\n",
    "    for i, box in enumerate(boxes):\n",
    "        x1, y1, x2, y2 = box\n",
    "        class_id = class_ids[i]\n",
    "        color = class_colors[class_id]\n",
    "        class_name = class_names[class_id]\n",
    "        font = cv2.FONT_HERSHEY_SIMPLEX\n",
    "        font_scale = 1\n",
    "        thickness = 2\n",
    "        cv2.rectangle(image, (int(x1), int(y1)), (int(x2), int(y2)), color, thickness)\n",
    "        cv2.putText(image, class_name, (int(x1), int(y1)-5), font, font_scale, color, thickness)\n",
    "        if i==99:\n",
    "            break\n",
    "    \n",
    "    # 결과 이미지 저장 (output 폴더안에 생성됨 inferenceoutput폴더 외에 다른 폴더에 만들고싶으면 ouput을 폴더명으로 바꺼주면댐)\n",
    "    #현재 경로에서 yolov8x4863 폴더를 만들어준 다음에 안에 yolo_output_0001.jpg 이런식으로 데이터가 생성되게 됨\n",
    "    output_path = os.path.join(folder_name, folder_name+'_output_{}.jpg'.format(stridx))\n",
    "    cv2.imwrite(output_path, image)"
   ]
  },
  {
   "cell_type": "code",
   "execution_count": null,
   "id": "0542aaa3-cf1e-4312-ad14-44109400608d",
   "metadata": {},
   "outputs": [],
   "source": []
  },
  {
   "cell_type": "code",
   "execution_count": null,
   "id": "0a6d0910-40c0-49ee-a228-c6c4ef8ec212",
   "metadata": {},
   "outputs": [],
   "source": []
  }
 ],
 "metadata": {
  "kernelspec": {
   "display_name": "eda",
   "language": "python",
   "name": "eda"
  },
  "language_info": {
   "codemirror_mode": {
    "name": "ipython",
    "version": 3
   },
   "file_extension": ".py",
   "mimetype": "text/x-python",
   "name": "python",
   "nbconvert_exporter": "python",
   "pygments_lexer": "ipython3",
   "version": "3.8.0"
  }
 },
 "nbformat": 4,
 "nbformat_minor": 5
}
