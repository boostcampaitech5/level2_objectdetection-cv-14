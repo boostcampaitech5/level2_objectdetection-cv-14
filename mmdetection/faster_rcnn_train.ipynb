{
 "cells": [
  {
   "cell_type": "code",
   "execution_count": null,
   "metadata": {},
   "outputs": [],
   "source": [
    "# 모듈 import\n",
    "\n",
    "from mmcv import Config\n",
    "from mmdet.datasets import build_dataset\n",
    "from mmdet.models import build_detector\n",
    "from mmdet.apis import train_detector\n",
    "from mmdet.datasets import (build_dataloader, build_dataset,\n",
    "                            replace_ImageToTensor)\n",
    "from mmdet.utils import get_device\n",
    "# from mmcv.runner.hooks import HOOKS, Hook\n",
    "#import wandb"
   ]
  },
  {
   "cell_type": "code",
   "execution_count": null,
   "metadata": {},
   "outputs": [],
   "source": [
    "# @HOOKS.register_module()\n",
    "# class ImageDetection(Hook):\n",
    "#     \"\"\"Check invalid loss hook.\n",
    "#     This hook will regularly check whether the loss is valid\n",
    "#     during training.\n",
    "#     Args:\n",
    "#         interval (int): Checking interval (every k iterations).\n",
    "#             Default: 50.\n",
    "#     \"\"\"\n",
    "\n",
    "#     def __init__(self, interval=50):\n",
    "#         self.interval = interval\n",
    "        \n",
    "#     def after_train_epoch(self, runner):\n",
    "#         print(dir(runner))"
   ]
  },
  {
   "cell_type": "code",
   "execution_count": null,
   "metadata": {},
   "outputs": [],
   "source": [
    "classes = (\"General trash\", \"Paper\", \"Paper pack\", \"Metal\", \"Glass\", \n",
    "           \"Plastic\", \"Styrofoam\", \"Plastic bag\", \"Battery\", \"Clothing\")\n",
    "\n",
    "# config file 들고오기\n",
    "cfg = Config.fromfile('./configs/_custom_/retinanet/retinanet_r18_fpn_1x_coco_cosineAnn.py')\n",
    "root='../../dataset/'\n",
    "\n",
    "# dataset config 수정\n",
    "cfg.data.train.classes = classes\n",
    "cfg.data.train.img_prefix = root\n",
    "cfg.data.train.ann_file = root + 'stratified_v2/train_fold_1.json' # train json 정보\n",
    "#cfg.data.train.pipeline[2]['img_scale'] = (512,512) # Resize\n",
    "\n",
    "cfg.data.val.classes = classes\n",
    "cfg.data.val.img_prefix = root\n",
    "cfg.data.val.ann_file = root + 'stratified_v2/val_fold_1.json'\n",
    "#cfg.data.test.pipeline[1]['img_scale'] = (512,512) # Resize\n",
    "\n",
    "cfg.data.test.classes = classes\n",
    "cfg.data.test.img_prefix = root\n",
    "cfg.data.test.ann_file = root + 'test.json' # test json 정보\n",
    "\n",
    "# cfg.train_pipeline = cfg.train_pipeline\n",
    "# cfg.val_pipeline = cfg.test_pipeline\n",
    "# cfg.test_pipeline = cfg.test_pipeline\n",
    "\n",
    "# cfg.data.train.pipeline = cfg.train_pipeline\n",
    "# cfg.data.val.pipeline = cfg.val_pipeline\n",
    "# cfg.data.test.pipeline = cfg.test_pipeline\n",
    "\n",
    "cfg.data.samples_per_gpu = 1\n",
    "cfg.data.workers_per_gpu = 4\n",
    "\n",
    "cfg.seed = 2022\n",
    "cfg.gpu_ids = [0]\n",
    "cfg.work_dir = './work_dirs/kfold5_retinanet_r18_trash'\n",
    "\n",
    "#cfg.evaluation = dict(interval=1, start=1,save_best='auto')\n",
    "\n",
    "#faster_rcnn : resnet50, resnet101 계열을 classes 지정해줘야 오류가 안 생김\n",
    "#cfg.model.roi_head.bbox_head.num_classes = 10\n",
    "\n",
    "cfg.optimizer_config.grad_clip = None #dict(max_norm=35, norm_type=2)\n",
    "# 옵티마이저 lr 수정해 볼 수 있음\n",
    "#cfg.optimizer.lr=0.000005\n",
    "#cfg.lr_config.step=[4]\n",
    "cfg.checkpoint_config = dict(max_keep_ckpts=3, interval=1)\n",
    "\n",
    "log_config = dict(\n",
    "    interval=50,\n",
    "    hooks=[\n",
    "        dict(type='TextLoggerHook'),\n",
    "        dict(\n",
    "            type='WandbLoggerHook',\n",
    "            init_kwargs=dict(project='Model', name='RetinaNet+ResNet18', entity='hi-ai')\n",
    "            )])\n",
    "# for wandb\n",
    "cfg.log_config = log_config\n",
    "\n",
    "cfg.device = get_device()\n",
    "cfg.runner = dict(type='EpochBasedRunner', max_epochs=12)"
   ]
  },
  {
   "cell_type": "code",
   "execution_count": null,
   "metadata": {},
   "outputs": [],
   "source": [
    "# build_dataset\n",
    "datasets = [build_dataset(cfg.data.train)]"
   ]
  },
  {
   "cell_type": "code",
   "execution_count": null,
   "metadata": {},
   "outputs": [],
   "source": [
    "# dataset 확인\n",
    "datasets[0]"
   ]
  },
  {
   "cell_type": "code",
   "execution_count": null,
   "metadata": {},
   "outputs": [],
   "source": [
    "# 모델 build 및 pretrained network 불러오기\n",
    "model = build_detector(cfg.model)\n",
    "model.init_weights()"
   ]
  },
  {
   "cell_type": "code",
   "execution_count": null,
   "metadata": {},
   "outputs": [],
   "source": [
    "# meta = dict()\n",
    "# meta['fp16'] = dict(loss_scale=dict(init_scale=512))"
   ]
  },
  {
   "cell_type": "code",
   "execution_count": null,
   "metadata": {},
   "outputs": [],
   "source": [
    "# 모델 학습\n",
    "train_detector(model, datasets[0], cfg, distributed=False, validate=True)\n",
    "#train_detector(model, datasets, cfg, distributed=False, validate=True)\n",
    "#train_detector(model, datasets, cfg, distributed=False, validate=True, meta=meta)"
   ]
  },
  {
   "cell_type": "code",
   "execution_count": null,
   "metadata": {},
   "outputs": [],
   "source": []
  }
 ],
 "metadata": {
  "kernelspec": {
   "display_name": "detection",
   "language": "python",
   "name": "python3"
  },
  "language_info": {
   "codemirror_mode": {
    "name": "ipython",
    "version": 3
   },
   "file_extension": ".py",
   "mimetype": "text/x-python",
   "name": "python",
   "nbconvert_exporter": "python",
   "pygments_lexer": "ipython3",
   "version": "3.7.16"
  }
 },
 "nbformat": 4,
 "nbformat_minor": 4
}
