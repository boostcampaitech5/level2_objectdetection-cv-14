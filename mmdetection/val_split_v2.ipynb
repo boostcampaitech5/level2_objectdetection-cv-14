{
 "cells": [
  {
   "cell_type": "code",
   "execution_count": 2,
   "id": "80a8308f-083e-4a22-848f-a7a573b0aaa6",
   "metadata": {
    "tags": []
   },
   "outputs": [
    {
     "name": "stdout",
     "output_type": "stream",
     "text": [
      "23144\n",
      "{'width': 1024, 'height': 1024, 'file_name': 'train/0002.jpg', 'license': 0, 'flickr_url': None, 'coco_url': None, 'date_captured': '2020-12-27 17:55:52', 'id': 2}\n",
      "train_data_img_ids :  3914\n",
      "len(val_data_img_ids) : 969\n",
      "4883\n",
      "train_data_img_ids :  3906\n",
      "len(val_data_img_ids) : 977\n",
      "4883\n",
      "train_data_img_ids :  3901\n",
      "len(val_data_img_ids) : 982\n",
      "4883\n",
      "train_data_img_ids :  3902\n",
      "len(val_data_img_ids) : 981\n",
      "4883\n",
      "train_data_img_ids :  3909\n",
      "len(val_data_img_ids) : 974\n",
      "4883\n"
     ]
    }
   ],
   "source": [
    "import json\n",
    "import numpy as np\n",
    "import os\n",
    "from sklearn.model_selection import StratifiedGroupKFold\n",
    "\n",
    "# load json: modify the path to your own ‘train.json’ file\n",
    "annotation = \"../../dataset/train.json\"\n",
    "\n",
    "with open(annotation) as f:\n",
    "    data = json.load(f)\n",
    "\n",
    "var = [(ann['image_id'], ann['category_id']) for ann in data['annotations']]\n",
    "X = np.ones((len(data['annotations']),1))\n",
    "y = np.array([v[1] for v in var])\n",
    "groups = np.array([v[0] for v in var])\n",
    "print(len(data['annotations']))\n",
    "# print(var)\n",
    "cv = StratifiedGroupKFold(n_splits=5, shuffle=True, random_state=411)\n",
    "\n",
    "# for train_idx, val_idx in cv.split(X, y, groups):\n",
    "    # print(\"TRAIN:\", groups[train_idx])\n",
    "    # print(\" \", y[train_idx])\n",
    "    # print(\" TEST:\", groups[val_idx])\n",
    "    # print(\" \", y[val_idx])\n",
    "\n",
    "print(data['images'][2])\n",
    "    \n",
    "# 저장할 파일 경로\n",
    "output_dir = '../../dataset/stratified_v2'\n",
    "\n",
    "for i,(train_idx, val_idx) in enumerate(cv.split(X, y, groups), start = 1) :\n",
    "    train_data_img_ids = set([data['annotations'][idx]['image_id'] for idx in train_idx])\n",
    "    print('train_data_img_ids : ',len(train_data_img_ids))\n",
    "    \n",
    "    train_data_imgs = [data['images'][idx] for idx in train_data_img_ids]\n",
    "\n",
    "    train_data = {'images' : train_data_imgs,\n",
    "                 'categories' : data['categories'],\n",
    "                 'annotations': [data['annotations'][idx] for idx in train_idx],}\n",
    "    \n",
    "    val_data_img_ids = set([data['annotations'][idx]['image_id'] for idx in val_idx])\n",
    "    print('len(val_data_img_ids) :', len(val_data_img_ids))\n",
    "    print(len(train_data_img_ids)+len(val_data_img_ids))\n",
    "    \n",
    "    val_data_imgs = [data['images'][idx] for idx in val_data_img_ids]\n",
    "    \n",
    "    val_data = {'images' : val_data_imgs,\n",
    "                'categories' : data['categories'],\n",
    "               'annotations': [data['annotations'][idx] for idx in val_idx],}\n",
    "    \n",
    "    train_filename = os.path.join(output_dir, f'train_fold_{i}.json')\n",
    "    with open(train_filename, 'w') as f:\n",
    "        json.dump(train_data, f)\n",
    "        \n",
    "    val_filename = os.path.join(output_dir, f'val_fold_{i}.json')\n",
    "    with open(val_filename, 'w') as f:\n",
    "        json.dump(val_data, f)\n",
    "    "
   ]
  },
  {
   "cell_type": "code",
   "execution_count": null,
   "id": "2bc6b786-1c60-4152-998b-9c99fadd465c",
   "metadata": {},
   "outputs": [],
   "source": []
  }
 ],
 "metadata": {
  "kernelspec": {
   "display_name": "Python 3 (ipykernel)",
   "language": "python",
   "name": "python3"
  },
  "language_info": {
   "codemirror_mode": {
    "name": "ipython",
    "version": 3
   },
   "file_extension": ".py",
   "mimetype": "text/x-python",
   "name": "python",
   "nbconvert_exporter": "python",
   "pygments_lexer": "ipython3",
   "version": "3.7.16"
  }
 },
 "nbformat": 4,
 "nbformat_minor": 5
}
