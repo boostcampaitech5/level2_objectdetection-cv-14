{
 "cells": [
  {
   "cell_type": "code",
   "execution_count": 7,
   "metadata": {
    "tags": []
   },
   "outputs": [],
   "source": [
    "# 모듈 import\n",
    "from mmcv import Config\n",
    "from mmdet.datasets import build_dataset\n",
    "from mmdet.models import build_detector\n",
    "from mmdet.apis import train_detector\n",
    "from mmdet.datasets import (build_dataloader, build_dataset,\n",
    "                            replace_ImageToTensor)\n",
    "from mmdet.utils import get_device"
   ]
  },
  {
   "cell_type": "code",
   "execution_count": 8,
   "metadata": {
    "tags": []
   },
   "outputs": [
    {
     "name": "stdout",
     "output_type": "stream",
     "text": [
      "[{'type': 'LoadImageFromFile'}, {'type': 'MultiScaleFlipAug', 'img_scale': (512, 512), 'flip': False, 'transforms': [{'type': 'Resize', 'keep_ratio': True}, {'type': 'RandomFlip'}, {'type': 'Normalize', 'mean': [103.53, 116.28, 123.675], 'std': [1.0, 1.0, 1.0], 'to_rgb': False}, {'type': 'Pad', 'size_divisor': 32}, {'type': 'ImageToTensor', 'keys': ['img']}, {'type': 'Collect', 'keys': ['img']}]}]\n"
     ]
    }
   ],
   "source": [
    "classes = (\"General trash\", \"Paper\", \"Paper pack\", \"Metal\", \"Glass\", \n",
    "           \"Plastic\", \"Styrofoam\", \"Plastic bag\", \"Battery\", \"Clothing\")\n",
    "\n",
    "# config file 들고오기\n",
    "#cfg = Config.fromfile('./configs/faster_rcnn/faster_rcnn_r50_fpn_1x_coco.py')\n",
    "cfg=Config.fromfile('./configs/yolof/yolof_r50_c5_8x8_1x_coco.py')\n",
    "#cfg=Config.fromfile('./configs/yolof/yolof_r50_c5_8x8_iter-1x_coco.py')\n",
    "root='../../dataset/'\n",
    "\n",
    "# dataset config 수정\n",
    "cfg.data.train.classes = classes\n",
    "cfg.data.train.img_prefix = root\n",
    "#stratified kfold\n",
    "cfg.data.train.ann_file=root+'stratified_v2/train_fold_1.json'\n",
    "#cfg.data.train.ann_file = root + 'train.json' # train json 정보\n",
    "cfg.data.train.pipeline[2]['img_scale'] = (512,512) # Resize\n",
    "\n",
    "\n",
    "\n",
    "cfg.data.test.classes = classes\n",
    "cfg.data.test.img_prefix = root\n",
    "cfg.data.test.ann_file = root + 'test.json' # test json 정보\n",
    "cfg.data.test.pipeline[1]['img_scale'] = (512,512) # Resize\n",
    "#stratified k fold\n",
    "cfg.data.val.classes = classes\n",
    "cfg.data.val.img_prefix=root\n",
    "cfg.data.val.ann_file=root+'stratified_v2/val_fold_1.json'\n",
    "print(cfg.data.val.pipeline)\n",
    "cfg.data.val.pipeline[1]['img_scale'] = (512,512) # Resize\n",
    "\n",
    "cfg.data.samples_per_gpu = 4\n",
    "\n",
    "cfg.seed = 2022\n",
    "cfg.gpu_ids = [0]\n",
    "#cfg.work_dir = './work_dirs/faster_rcnn_r50_fpn_1x_trash'\n",
    "cfg.work_dir='./work_dirs/yolof-iter-noiter'\n",
    "\n",
    "#cfg.model.roi_heads.bbox_head.num_classes = 10\n",
    "cfg.model.bbox_head.num_classes = 10\n",
    "#직접수정함\n",
    "#cfg.optimizer.lr=0.00001\n",
    "\n",
    "#파라미터 수정함 (학습 너무 많아서 바꿈)\n",
    "cfg.optimizer_config.grad_clip = dict(max_norm=35, norm_type=2)\n",
    "cfg.checkpoint_config = dict(max_keep_ckpts=3, interval=1)\n",
    "cfg.device = get_device()"
   ]
  },
  {
   "cell_type": "code",
   "execution_count": 9,
   "metadata": {
    "tags": []
   },
   "outputs": [
    {
     "name": "stdout",
     "output_type": "stream",
     "text": [
      "loading annotations into memory...\n",
      "Done (t=0.07s)\n",
      "creating index...\n",
      "index created!\n"
     ]
    }
   ],
   "source": [
    "# build_dataset\n",
    "datasets = [build_dataset(cfg.data.train)]\n",
    "#valid까지 확인\n",
    "#datasets=[build_dataset(cfg.data.train),build_dataset(cfg.data.val)]"
   ]
  },
  {
   "cell_type": "code",
   "execution_count": 10,
   "metadata": {
    "tags": []
   },
   "outputs": [
    {
     "data": {
      "text/plain": [
       "\n",
       "CocoDataset Train dataset with number of images 3914, and instance counts: \n",
       "+-------------------+-------+---------------+-------+-----------------+-------+-------------+-------+--------------+-------+\n",
       "| category          | count | category      | count | category        | count | category    | count | category     | count |\n",
       "+-------------------+-------+---------------+-------+-----------------+-------+-------------+-------+--------------+-------+\n",
       "| 0 [General trash] | 3161  | 1 [Paper]     | 5115  | 2 [Paper pack]  | 706   | 3 [Metal]   | 769   | 4 [Glass]    | 835   |\n",
       "| 5 [Plastic]       | 2350  | 6 [Styrofoam] | 1026  | 7 [Plastic bag] | 4151  | 8 [Battery] | 143   | 9 [Clothing] | 377   |\n",
       "+-------------------+-------+---------------+-------+-----------------+-------+-------------+-------+--------------+-------+"
      ]
     },
     "execution_count": 10,
     "metadata": {},
     "output_type": "execute_result"
    }
   ],
   "source": [
    "# dataset 확인\n",
    "datasets[0]\n"
   ]
  },
  {
   "cell_type": "code",
   "execution_count": 11,
   "metadata": {
    "tags": []
   },
   "outputs": [],
   "source": [
    "# 모델 build 및 pretrained network 불러오기\n",
    "\n",
    "model = build_detector(cfg.model)\n",
    "#model.init_weights()"
   ]
  },
  {
   "cell_type": "code",
   "execution_count": 12,
   "metadata": {
    "tags": []
   },
   "outputs": [
    {
     "data": {
      "text/html": [
       "Finishing last run (ID:y534vnba) before initializing another..."
      ],
      "text/plain": [
       "<IPython.core.display.HTML object>"
      ]
     },
     "metadata": {},
     "output_type": "display_data"
    },
    {
     "data": {
      "text/html": [
       "Waiting for W&B process to finish... <strong style=\"color:green\">(success).</strong>"
      ],
      "text/plain": [
       "<IPython.core.display.HTML object>"
      ]
     },
     "metadata": {},
     "output_type": "display_data"
    },
    {
     "data": {
      "text/html": [
       "<style>\n",
       "    table.wandb td:nth-child(1) { padding: 0 10px; text-align: left ; width: auto;} td:nth-child(2) {text-align: left ; width: 100%}\n",
       "    .wandb-row { display: flex; flex-direction: row; flex-wrap: wrap; justify-content: flex-start; width: 100% }\n",
       "    .wandb-col { display: flex; flex-direction: column; flex-basis: 100%; flex: 1; padding: 10px; }\n",
       "    </style>\n",
       "<div class=\"wandb-row\"><div class=\"wandb-col\"><h3>Run history:</h3><br/><table class=\"wandb\"><tr><td>epoch</td><td>▁▁▁▁▁▁▁▁▁▁▁▁▁▁▁▁▁▁▁▅▅▅▅▅▅▅▅▅▅▅▅▅▅▅▅▅▅▅██</td></tr><tr><td>learning_rate</td><td>▁▁▁▂▂▂▂▃▃▃▃▄▄▄▄▅▅▅▅▆▆▆▆▇▇▇▇█████████████</td></tr><tr><td>momentum</td><td>▁▁▁▁▁▁▁▁▁▁▁▁▁▁▁▁▁▁▁▁▁▁▁▁▁▁▁▁▁▁▁▁▁▁▁▁▁▁▁▁</td></tr><tr><td>train/grad_norm</td><td>█▇▅▄▃▂▂▁▂▁▂▁▁▁▁▁▁▁▁▁▁▁▁▁▁▁▁▁▁▁▁▁▁▁▁▁▁▁▁▁</td></tr><tr><td>train/loss</td><td>█▇▅▄▃▂▂▂▂▁▁▁▁▁▁▁▁▁▁▁▁▁▁▁▁▁▁▁▁▁▁▁▁▁▁▁▁▁▁▁</td></tr><tr><td>train/loss_bbox</td><td>▃▅▅█▅▅▆▆▃▅▂▆▆▆▆▆▃▅▄▃▁▄▅▄▃▃▃▇▃▃▄▁▅▆▃▄▃▂▃▁</td></tr><tr><td>train/loss_cls</td><td>█▇▅▄▃▂▂▁▂▁▁▁▁▁▁▁▁▁▁▁▁▁▁▁▁▁▁▁▁▁▁▁▁▁▁▁▁▁▁▁</td></tr><tr><td>val/bbox_mAP</td><td>▁▁</td></tr><tr><td>val/bbox_mAP_50</td><td>▁█</td></tr><tr><td>val/bbox_mAP_75</td><td>▁▁</td></tr><tr><td>val/bbox_mAP_l</td><td>▁▁</td></tr><tr><td>val/bbox_mAP_m</td><td>▁▁</td></tr><tr><td>val/bbox_mAP_s</td><td>▁▁</td></tr></table><br/></div><div class=\"wandb-col\"><h3>Run summary:</h3><br/><table class=\"wandb\"><tr><td>epoch</td><td>3</td></tr><tr><td>learning_rate</td><td>1e-05</td></tr><tr><td>momentum</td><td>0.9</td></tr><tr><td>train/grad_norm</td><td>40.74296</td></tr><tr><td>train/loss</td><td>1.46007</td></tr><tr><td>train/loss_bbox</td><td>0.73528</td></tr><tr><td>train/loss_cls</td><td>0.72479</td></tr><tr><td>val/bbox_mAP</td><td>0.0</td></tr><tr><td>val/bbox_mAP_50</td><td>0.002</td></tr><tr><td>val/bbox_mAP_75</td><td>0.0</td></tr><tr><td>val/bbox_mAP_l</td><td>0.0</td></tr><tr><td>val/bbox_mAP_m</td><td>0.0</td></tr><tr><td>val/bbox_mAP_s</td><td>0.0</td></tr></table><br/></div></div>"
      ],
      "text/plain": [
       "<IPython.core.display.HTML object>"
      ]
     },
     "metadata": {},
     "output_type": "display_data"
    },
    {
     "data": {
      "text/html": [
       " View run <strong style=\"color:#cdcd00\">yolof</strong> at: <a href='https://wandb.ai/hi-ai/Model/runs/y534vnba' target=\"_blank\">https://wandb.ai/hi-ai/Model/runs/y534vnba</a><br/>Synced 6 W&B file(s), 0 media file(s), 0 artifact file(s) and 0 other file(s)"
      ],
      "text/plain": [
       "<IPython.core.display.HTML object>"
      ]
     },
     "metadata": {},
     "output_type": "display_data"
    },
    {
     "data": {
      "text/html": [
       "Find logs at: <code>./wandb/run-20230511_072952-y534vnba/logs</code>"
      ],
      "text/plain": [
       "<IPython.core.display.HTML object>"
      ]
     },
     "metadata": {},
     "output_type": "display_data"
    },
    {
     "data": {
      "text/html": [
       "Successfully finished last run (ID:y534vnba). Initializing new run:<br/>"
      ],
      "text/plain": [
       "<IPython.core.display.HTML object>"
      ]
     },
     "metadata": {},
     "output_type": "display_data"
    },
    {
     "data": {
      "application/vnd.jupyter.widget-view+json": {
       "model_id": "2dc9f736b4634f42a4f7fd9d9c6f4148",
       "version_major": 2,
       "version_minor": 0
      },
      "text/plain": [
       "VBox(children=(Label(value='Waiting for wandb.init()...\\r'), FloatProgress(value=0.01666946765035391, max=1.0)…"
      ]
     },
     "metadata": {},
     "output_type": "display_data"
    },
    {
     "data": {
      "text/html": [
       "Tracking run with wandb version 0.15.2"
      ],
      "text/plain": [
       "<IPython.core.display.HTML object>"
      ]
     },
     "metadata": {},
     "output_type": "display_data"
    },
    {
     "data": {
      "text/html": [
       "Run data is saved locally in <code>/opt/ml/baseline/mmdetection/wandb/run-20230511_073924-79pl8yto</code>"
      ],
      "text/plain": [
       "<IPython.core.display.HTML object>"
      ]
     },
     "metadata": {},
     "output_type": "display_data"
    },
    {
     "data": {
      "text/html": [
       "Syncing run <strong><a href='https://wandb.ai/hi-ai/Model/runs/79pl8yto' target=\"_blank\">avid-snowflake-74</a></strong> to <a href='https://wandb.ai/hi-ai/Model' target=\"_blank\">Weights & Biases</a> (<a href='https://wandb.me/run' target=\"_blank\">docs</a>)<br/>"
      ],
      "text/plain": [
       "<IPython.core.display.HTML object>"
      ]
     },
     "metadata": {},
     "output_type": "display_data"
    },
    {
     "data": {
      "text/html": [
       " View project at <a href='https://wandb.ai/hi-ai/Model' target=\"_blank\">https://wandb.ai/hi-ai/Model</a>"
      ],
      "text/plain": [
       "<IPython.core.display.HTML object>"
      ]
     },
     "metadata": {},
     "output_type": "display_data"
    },
    {
     "data": {
      "text/html": [
       " View run at <a href='https://wandb.ai/hi-ai/Model/runs/79pl8yto' target=\"_blank\">https://wandb.ai/hi-ai/Model/runs/79pl8yto</a>"
      ],
      "text/plain": [
       "<IPython.core.display.HTML object>"
      ]
     },
     "metadata": {},
     "output_type": "display_data"
    },
    {
     "name": "stderr",
     "output_type": "stream",
     "text": [
      "2023-05-11 07:39:34,476 - mmdet - INFO - Automatic scaling of learning rate (LR) has been disabled.\n",
      "2023-05-11 07:39:34,593 - mmdet - INFO - Start running, host: root@718ec73291f9, work_dir: /opt/ml/baseline/mmdetection/work_dirs/yolof-iter-noiter\n",
      "2023-05-11 07:39:34,616 - mmdet - INFO - Hooks will be executed in the following order:\n",
      "before_run:\n",
      "(VERY_HIGH   ) StepLrUpdaterHook                  \n",
      "(NORMAL      ) CheckpointHook                     \n",
      "(LOW         ) EvalHook                           \n",
      "(VERY_LOW    ) TextLoggerHook                     \n",
      "(VERY_LOW    ) WandbLoggerHook                    \n",
      " -------------------- \n",
      "before_train_epoch:\n",
      "(VERY_HIGH   ) StepLrUpdaterHook                  \n",
      "(NORMAL      ) NumClassCheckHook                  \n",
      "(LOW         ) IterTimerHook                      \n",
      "(LOW         ) EvalHook                           \n",
      "(VERY_LOW    ) TextLoggerHook                     \n",
      "(VERY_LOW    ) WandbLoggerHook                    \n",
      " -------------------- \n",
      "before_train_iter:\n",
      "(VERY_HIGH   ) StepLrUpdaterHook                  \n",
      "(LOW         ) IterTimerHook                      \n",
      "(LOW         ) EvalHook                           \n",
      " -------------------- \n",
      "after_train_iter:\n",
      "(ABOVE_NORMAL) OptimizerHook                      \n",
      "(NORMAL      ) CheckpointHook                     \n",
      "(LOW         ) IterTimerHook                      \n",
      "(LOW         ) EvalHook                           \n",
      "(VERY_LOW    ) TextLoggerHook                     \n",
      "(VERY_LOW    ) WandbLoggerHook                    \n",
      " -------------------- \n",
      "after_train_epoch:\n",
      "(NORMAL      ) CheckpointHook                     \n",
      "(LOW         ) EvalHook                           \n",
      "(VERY_LOW    ) TextLoggerHook                     \n",
      "(VERY_LOW    ) WandbLoggerHook                    \n",
      " -------------------- \n",
      "before_val_epoch:\n",
      "(NORMAL      ) NumClassCheckHook                  \n",
      "(LOW         ) IterTimerHook                      \n",
      "(VERY_LOW    ) TextLoggerHook                     \n",
      "(VERY_LOW    ) WandbLoggerHook                    \n",
      " -------------------- \n",
      "before_val_iter:\n",
      "(LOW         ) IterTimerHook                      \n",
      " -------------------- \n",
      "after_val_iter:\n",
      "(LOW         ) IterTimerHook                      \n",
      " -------------------- \n",
      "after_val_epoch:\n",
      "(LOW         ) EvalHook                           \n",
      "(VERY_LOW    ) TextLoggerHook                     \n",
      "(VERY_LOW    ) WandbLoggerHook                    \n",
      " -------------------- \n",
      "after_run:\n",
      "(VERY_LOW    ) TextLoggerHook                     \n",
      "(VERY_LOW    ) WandbLoggerHook                    \n",
      " -------------------- \n",
      "2023-05-11 07:39:34,617 - mmdet - INFO - workflow: [('train', 1)], max: 12 epochs\n",
      "2023-05-11 07:39:34,618 - mmdet - INFO - Checkpoints will be saved to /opt/ml/baseline/mmdetection/work_dirs/yolof-iter-noiter by HardDiskBackend.\n"
     ]
    },
    {
     "name": "stdout",
     "output_type": "stream",
     "text": [
      "loading annotations into memory...\n",
      "Done (t=0.03s)\n",
      "creating index...\n",
      "index created!\n"
     ]
    },
    {
     "data": {
      "text/html": [
       "Finishing last run (ID:79pl8yto) before initializing another..."
      ],
      "text/plain": [
       "<IPython.core.display.HTML object>"
      ]
     },
     "metadata": {},
     "output_type": "display_data"
    },
    {
     "data": {
      "text/html": [
       "Waiting for W&B process to finish... <strong style=\"color:green\">(success).</strong>"
      ],
      "text/plain": [
       "<IPython.core.display.HTML object>"
      ]
     },
     "metadata": {},
     "output_type": "display_data"
    },
    {
     "data": {
      "text/html": [
       " View run <strong style=\"color:#cdcd00\">avid-snowflake-74</strong> at: <a href='https://wandb.ai/hi-ai/Model/runs/79pl8yto' target=\"_blank\">https://wandb.ai/hi-ai/Model/runs/79pl8yto</a><br/>Synced 6 W&B file(s), 0 media file(s), 0 artifact file(s) and 0 other file(s)"
      ],
      "text/plain": [
       "<IPython.core.display.HTML object>"
      ]
     },
     "metadata": {},
     "output_type": "display_data"
    },
    {
     "data": {
      "text/html": [
       "Find logs at: <code>./wandb/run-20230511_073924-79pl8yto/logs</code>"
      ],
      "text/plain": [
       "<IPython.core.display.HTML object>"
      ]
     },
     "metadata": {},
     "output_type": "display_data"
    },
    {
     "data": {
      "text/html": [
       "Successfully finished last run (ID:79pl8yto). Initializing new run:<br/>"
      ],
      "text/plain": [
       "<IPython.core.display.HTML object>"
      ]
     },
     "metadata": {},
     "output_type": "display_data"
    },
    {
     "data": {
      "application/vnd.jupyter.widget-view+json": {
       "model_id": "1b3340114b3840e8a6494beaaf685fc9",
       "version_major": 2,
       "version_minor": 0
      },
      "text/plain": [
       "VBox(children=(Label(value='Waiting for wandb.init()...\\r'), FloatProgress(value=0.016669966699555516, max=1.0…"
      ]
     },
     "metadata": {},
     "output_type": "display_data"
    },
    {
     "data": {
      "text/html": [
       "Tracking run with wandb version 0.15.2"
      ],
      "text/plain": [
       "<IPython.core.display.HTML object>"
      ]
     },
     "metadata": {},
     "output_type": "display_data"
    },
    {
     "data": {
      "text/html": [
       "Run data is saved locally in <code>/opt/ml/baseline/mmdetection/wandb/run-20230511_073934-69545wwx</code>"
      ],
      "text/plain": [
       "<IPython.core.display.HTML object>"
      ]
     },
     "metadata": {},
     "output_type": "display_data"
    },
    {
     "data": {
      "text/html": [
       "Syncing run <strong><a href='https://wandb.ai/hi-ai/Model/runs/69545wwx' target=\"_blank\">yolof</a></strong> to <a href='https://wandb.ai/hi-ai/Model' target=\"_blank\">Weights & Biases</a> (<a href='https://wandb.me/run' target=\"_blank\">docs</a>)<br/>"
      ],
      "text/plain": [
       "<IPython.core.display.HTML object>"
      ]
     },
     "metadata": {},
     "output_type": "display_data"
    },
    {
     "data": {
      "text/html": [
       " View project at <a href='https://wandb.ai/hi-ai/Model' target=\"_blank\">https://wandb.ai/hi-ai/Model</a>"
      ],
      "text/plain": [
       "<IPython.core.display.HTML object>"
      ]
     },
     "metadata": {},
     "output_type": "display_data"
    },
    {
     "data": {
      "text/html": [
       " View run at <a href='https://wandb.ai/hi-ai/Model/runs/69545wwx' target=\"_blank\">https://wandb.ai/hi-ai/Model/runs/69545wwx</a>"
      ],
      "text/plain": [
       "<IPython.core.display.HTML object>"
      ]
     },
     "metadata": {},
     "output_type": "display_data"
    },
    {
     "name": "stderr",
     "output_type": "stream",
     "text": [
      "2023-05-11 07:39:51,307 - mmdet - INFO - Epoch [1][10/979]\tlr: 7.995e-04, eta: 1:34:02, time: 0.481, data_time: 0.291, memory: 1952, loss_cls: 5.2862, loss_bbox: 0.7241, loss: 6.0103, grad_norm: 119.5148\n",
      "2023-05-11 07:39:53,324 - mmdet - INFO - Epoch [1][20/979]\tlr: 1.599e-03, eta: 1:06:42, time: 0.202, data_time: 0.015, memory: 1952, loss_cls: 2.1949, loss_bbox: 0.8265, loss: 3.0214, grad_norm: 32.1329\n",
      "2023-05-11 07:39:55,511 - mmdet - INFO - Epoch [1][30/979]\tlr: 2.398e-03, eta: 0:58:40, time: 0.219, data_time: 0.017, memory: 1952, loss_cls: 1.9541, loss_bbox: 0.7935, loss: 2.7476, grad_norm: 23.4352\n",
      "2023-05-11 07:39:57,493 - mmdet - INFO - Epoch [1][40/979]\tlr: 3.198e-03, eta: 0:53:37, time: 0.198, data_time: 0.018, memory: 1952, loss_cls: 1.1202, loss_bbox: 0.9522, loss: 2.0723, grad_norm: 16.0595\n",
      "2023-05-11 07:39:59,508 - mmdet - INFO - Epoch [1][50/979]\tlr: 3.997e-03, eta: 0:50:43, time: 0.202, data_time: 0.013, memory: 1952, loss_cls: 1.0913, loss_bbox: 0.7810, loss: 1.8723, grad_norm: 13.1073\n",
      "2023-05-11 07:40:01,519 - mmdet - INFO - Epoch [1][60/979]\tlr: 4.797e-03, eta: 0:48:45, time: 0.201, data_time: 0.014, memory: 1952, loss_cls: 0.9156, loss_bbox: 0.8150, loss: 1.7306, grad_norm: 8.5643\n",
      "2023-05-11 07:40:03,713 - mmdet - INFO - Epoch [1][70/979]\tlr: 5.596e-03, eta: 0:47:51, time: 0.219, data_time: 0.013, memory: 1952, loss_cls: 0.8567, loss_bbox: 0.8557, loss: 1.7124, grad_norm: 9.1275\n",
      "2023-05-11 07:40:05,861 - mmdet - INFO - Epoch [1][80/979]\tlr: 6.396e-03, eta: 0:47:03, time: 0.215, data_time: 0.013, memory: 1952, loss_cls: 0.7431, loss_bbox: 0.8248, loss: 1.5679, grad_norm: 7.4656\n",
      "2023-05-11 07:40:07,857 - mmdet - INFO - Epoch [1][90/979]\tlr: 7.195e-03, eta: 0:46:06, time: 0.200, data_time: 0.014, memory: 1952, loss_cls: 0.7455, loss_bbox: 0.7668, loss: 1.5123, grad_norm: 7.4951\n",
      "2023-05-11 07:40:09,713 - mmdet - INFO - Epoch [1][100/979]\tlr: 7.995e-03, eta: 0:45:03, time: 0.186, data_time: 0.012, memory: 1952, loss_cls: 0.6935, loss_bbox: 0.7930, loss: 1.4865, grad_norm: 5.8100\n",
      "2023-05-11 07:40:11,725 - mmdet - INFO - Epoch [1][110/979]\tlr: 8.794e-03, eta: 0:44:28, time: 0.201, data_time: 0.014, memory: 1952, loss_cls: 0.7100, loss_bbox: 0.7568, loss: 1.4668, grad_norm: 5.9401\n",
      "2023-05-11 07:40:13,310 - mmdet - INFO - Epoch [1][120/979]\tlr: 9.594e-03, eta: 0:43:17, time: 0.158, data_time: 0.011, memory: 1952, loss_cls: 0.7041, loss_bbox: 0.7613, loss: 1.4654, grad_norm: 5.3807\n",
      "2023-05-11 07:40:15,151 - mmdet - INFO - Epoch [1][130/979]\tlr: 1.039e-02, eta: 0:42:40, time: 0.184, data_time: 0.015, memory: 1952, loss_cls: 0.7804, loss_bbox: 0.7756, loss: 1.5560, grad_norm: 7.1780\n",
      "2023-05-11 07:40:16,983 - mmdet - INFO - Epoch [1][140/979]\tlr: 1.119e-02, eta: 0:42:07, time: 0.183, data_time: 0.016, memory: 1952, loss_cls: 0.7545, loss_bbox: 0.7942, loss: 1.5487, grad_norm: 5.0688\n",
      "2023-05-11 07:40:18,841 - mmdet - INFO - Epoch [1][150/979]\tlr: 1.199e-02, eta: 0:41:40, time: 0.186, data_time: 0.014, memory: 1952, loss_cls: 0.7289, loss_bbox: 0.7522, loss: 1.4811, grad_norm: 4.8652\n",
      "2023-05-11 07:40:20,990 - mmdet - INFO - Epoch [1][160/979]\tlr: 1.279e-02, eta: 0:41:37, time: 0.215, data_time: 0.012, memory: 1952, loss_cls: 0.7161, loss_bbox: 0.9514, loss: 1.6675, grad_norm: 4.1256\n",
      "2023-05-11 07:40:23,120 - mmdet - INFO - Epoch [1][170/979]\tlr: 1.359e-02, eta: 0:41:34, time: 0.213, data_time: 0.013, memory: 1952, loss_cls: 0.7608, loss_bbox: 0.7902, loss: 1.5510, grad_norm: 3.7856\n",
      "2023-05-11 07:40:25,165 - mmdet - INFO - Epoch [1][180/979]\tlr: 1.439e-02, eta: 0:41:24, time: 0.204, data_time: 0.015, memory: 1952, loss_cls: 0.7369, loss_bbox: 0.7692, loss: 1.5061, grad_norm: 3.9474\n",
      "2023-05-11 07:40:27,363 - mmdet - INFO - Epoch [1][190/979]\tlr: 1.519e-02, eta: 0:41:25, time: 0.220, data_time: 0.016, memory: 1952, loss_cls: 0.8008, loss_bbox: 0.8670, loss: 1.6679, grad_norm: 3.6991\n",
      "2023-05-11 07:40:29,523 - mmdet - INFO - Epoch [1][200/979]\tlr: 1.599e-02, eta: 0:41:24, time: 0.216, data_time: 0.020, memory: 1952, loss_cls: 0.6824, loss_bbox: 0.7511, loss: 1.4336, grad_norm: 2.8839\n",
      "2023-05-11 07:40:31,639 - mmdet - INFO - Epoch [1][210/979]\tlr: 1.679e-02, eta: 0:41:19, time: 0.211, data_time: 0.018, memory: 1952, loss_cls: 0.7067, loss_bbox: 0.7076, loss: 1.4143, grad_norm: 4.6628\n",
      "2023-05-11 07:40:33,654 - mmdet - INFO - Epoch [1][220/979]\tlr: 1.759e-02, eta: 0:41:10, time: 0.202, data_time: 0.015, memory: 1952, loss_cls: 0.8379, loss_bbox: 0.7409, loss: 1.5788, grad_norm: 5.0788\n",
      "2023-05-11 07:40:36,049 - mmdet - INFO - Epoch [1][230/979]\tlr: 1.839e-02, eta: 0:41:21, time: 0.239, data_time: 0.017, memory: 1952, loss_cls: 0.8698, loss_bbox: 0.7512, loss: 1.6210, grad_norm: 5.5629\n",
      "2023-05-11 07:40:38,066 - mmdet - INFO - Epoch [1][240/979]\tlr: 1.919e-02, eta: 0:41:12, time: 0.202, data_time: 0.019, memory: 1952, loss_cls: 0.9301, loss_bbox: 0.7963, loss: 1.7265, grad_norm: 10.9851\n",
      "2023-05-11 07:40:39,948 - mmdet - INFO - Epoch [1][250/979]\tlr: 1.999e-02, eta: 0:40:58, time: 0.188, data_time: 0.016, memory: 1952, loss_cls: 1.0573, loss_bbox: 0.7060, loss: 1.7633, grad_norm: 8.6159\n",
      "2023-05-11 07:40:41,911 - mmdet - INFO - Epoch [1][260/979]\tlr: 2.079e-02, eta: 0:40:48, time: 0.196, data_time: 0.013, memory: 1952, loss_cls: 1.8200, loss_bbox: 0.7628, loss: 2.5828, grad_norm: 11.8121\n",
      "2023-05-11 07:40:43,853 - mmdet - INFO - Epoch [1][270/979]\tlr: 2.159e-02, eta: 0:40:38, time: 0.194, data_time: 0.015, memory: 1952, loss_cls: 1.1598, loss_bbox: 0.7404, loss: 1.9003, grad_norm: 8.0133\n",
      "2023-05-11 07:40:45,887 - mmdet - INFO - Epoch [1][280/979]\tlr: 2.239e-02, eta: 0:40:32, time: 0.203, data_time: 0.018, memory: 1952, loss_cls: 0.9967, loss_bbox: 0.7283, loss: 1.7250, grad_norm: 4.8610\n",
      "2023-05-11 07:40:47,945 - mmdet - INFO - Epoch [1][290/979]\tlr: 2.318e-02, eta: 0:40:27, time: 0.206, data_time: 0.015, memory: 1952, loss_cls: 1.2679, loss_bbox: 0.7604, loss: 2.0283, grad_norm: 6.6181\n",
      "2023-05-11 07:40:50,227 - mmdet - INFO - Epoch [1][300/979]\tlr: 2.398e-02, eta: 0:40:31, time: 0.228, data_time: 0.018, memory: 1952, loss_cls: 1.0446, loss_bbox: 0.9369, loss: 1.9815, grad_norm: 5.4561\n",
      "2023-05-11 07:40:52,542 - mmdet - INFO - Epoch [1][310/979]\tlr: 2.478e-02, eta: 0:40:36, time: 0.231, data_time: 0.018, memory: 1952, loss_cls: 1.8089, loss_bbox: 0.8633, loss: 2.6722, grad_norm: 10.1761\n",
      "2023-05-11 07:40:54,641 - mmdet - INFO - Epoch [1][320/979]\tlr: 2.558e-02, eta: 0:40:33, time: 0.210, data_time: 0.015, memory: 1952, loss_cls: 1.0634, loss_bbox: 0.7527, loss: 1.8160, grad_norm: 4.0452\n",
      "2023-05-11 07:40:56,843 - mmdet - INFO - Epoch [1][330/979]\tlr: 2.638e-02, eta: 0:40:33, time: 0.220, data_time: 0.018, memory: 1952, loss_cls: 0.9125, loss_bbox: 0.7529, loss: 1.6654, grad_norm: 2.8524\n",
      "2023-05-11 07:40:59,118 - mmdet - INFO - Epoch [1][340/979]\tlr: 2.718e-02, eta: 0:40:36, time: 0.227, data_time: 0.014, memory: 1952, loss_cls: 0.7248, loss_bbox: 0.8385, loss: 1.5634, grad_norm: 1.9501\n",
      "2023-05-11 07:41:01,366 - mmdet - INFO - Epoch [1][350/979]\tlr: 2.798e-02, eta: 0:40:38, time: 0.225, data_time: 0.013, memory: 1952, loss_cls: 1.0068, loss_bbox: 0.7448, loss: 1.7517, grad_norm: 3.5315\n",
      "2023-05-11 07:41:03,718 - mmdet - INFO - Epoch [1][360/979]\tlr: 2.878e-02, eta: 0:40:42, time: 0.235, data_time: 0.021, memory: 1952, loss_cls: 0.7795, loss_bbox: 0.7099, loss: 1.4894, grad_norm: 1.9851\n",
      "2023-05-11 07:41:06,099 - mmdet - INFO - Epoch [1][370/979]\tlr: 2.958e-02, eta: 0:40:47, time: 0.238, data_time: 0.020, memory: 1952, loss_cls: 0.7441, loss_bbox: 0.7158, loss: 1.4599, grad_norm: 1.7859\n",
      "2023-05-11 07:41:08,255 - mmdet - INFO - Epoch [1][380/979]\tlr: 3.038e-02, eta: 0:40:45, time: 0.216, data_time: 0.016, memory: 1952, loss_cls: 0.7873, loss_bbox: 0.7481, loss: 1.5354, grad_norm: 1.8233\n",
      "2023-05-11 07:41:10,442 - mmdet - INFO - Epoch [1][390/979]\tlr: 3.118e-02, eta: 0:40:44, time: 0.219, data_time: 0.015, memory: 1952, loss_cls: 0.8052, loss_bbox: 0.8596, loss: 1.6648, grad_norm: 1.6557\n",
      "2023-05-11 07:41:12,720 - mmdet - INFO - Epoch [1][400/979]\tlr: 3.198e-02, eta: 0:40:46, time: 0.228, data_time: 0.015, memory: 1952, loss_cls: 0.6704, loss_bbox: 0.8032, loss: 1.4736, grad_norm: 1.3661\n",
      "2023-05-11 07:41:14,926 - mmdet - INFO - Epoch [1][410/979]\tlr: 3.278e-02, eta: 0:40:45, time: 0.221, data_time: 0.015, memory: 1952, loss_cls: 0.7328, loss_bbox: 0.7395, loss: 1.4723, grad_norm: 1.2944\n",
      "2023-05-11 07:41:17,265 - mmdet - INFO - Epoch [1][420/979]\tlr: 3.358e-02, eta: 0:40:48, time: 0.234, data_time: 0.021, memory: 1952, loss_cls: 0.6760, loss_bbox: 0.7132, loss: 1.3892, grad_norm: 1.0889\n",
      "2023-05-11 07:41:19,455 - mmdet - INFO - Epoch [1][430/979]\tlr: 3.438e-02, eta: 0:40:46, time: 0.219, data_time: 0.017, memory: 1952, loss_cls: 0.7341, loss_bbox: 0.7283, loss: 1.4624, grad_norm: 1.4005\n",
      "2023-05-11 07:41:21,529 - mmdet - INFO - Epoch [1][440/979]\tlr: 3.518e-02, eta: 0:40:42, time: 0.208, data_time: 0.015, memory: 1952, loss_cls: 0.7805, loss_bbox: 0.6706, loss: 1.4511, grad_norm: 4.7889\n",
      "2023-05-11 07:41:23,650 - mmdet - INFO - Epoch [1][450/979]\tlr: 3.598e-02, eta: 0:40:39, time: 0.212, data_time: 0.016, memory: 1952, loss_cls: 0.9677, loss_bbox: 0.7815, loss: 1.7492, grad_norm: 2.5925\n",
      "2023-05-11 07:41:25,947 - mmdet - INFO - Epoch [1][460/979]\tlr: 3.678e-02, eta: 0:40:40, time: 0.230, data_time: 0.016, memory: 1952, loss_cls: 0.7527, loss_bbox: 0.8345, loss: 1.5872, grad_norm: 2.3985\n",
      "2023-05-11 07:41:28,162 - mmdet - INFO - Epoch [1][470/979]\tlr: 3.757e-02, eta: 0:40:39, time: 0.222, data_time: 0.015, memory: 1952, loss_cls: 1.3980, loss_bbox: 0.8819, loss: 2.2799, grad_norm: 9.8785\n",
      "2023-05-11 07:41:30,326 - mmdet - INFO - Epoch [1][480/979]\tlr: 3.837e-02, eta: 0:40:37, time: 0.216, data_time: 0.014, memory: 1952, loss_cls: 0.8938, loss_bbox: 0.7806, loss: 1.6743, grad_norm: 3.1098\n",
      "2023-05-11 07:41:32,480 - mmdet - INFO - Epoch [1][490/979]\tlr: 3.917e-02, eta: 0:40:34, time: 0.215, data_time: 0.017, memory: 1952, loss_cls: 0.9188, loss_bbox: 0.6580, loss: 1.5768, grad_norm: 3.2626\n",
      "2023-05-11 07:41:34,312 - mmdet - INFO - Epoch [1][500/979]\tlr: 3.997e-02, eta: 0:40:25, time: 0.183, data_time: 0.013, memory: 1952, loss_cls: 1.0173, loss_bbox: 0.7154, loss: 1.7327, grad_norm: 4.1201\n",
      "2023-05-11 07:41:36,300 - mmdet - INFO - Epoch [1][510/979]\tlr: 4.077e-02, eta: 0:40:19, time: 0.199, data_time: 0.016, memory: 1952, loss_cls: 0.9746, loss_bbox: 0.7101, loss: 1.6847, grad_norm: 2.9056\n",
      "2023-05-11 07:41:38,348 - mmdet - INFO - Epoch [1][520/979]\tlr: 4.157e-02, eta: 0:40:14, time: 0.205, data_time: 0.013, memory: 1952, loss_cls: 0.8171, loss_bbox: 0.7821, loss: 1.5992, grad_norm: 1.6574\n",
      "2023-05-11 07:41:40,490 - mmdet - INFO - Epoch [1][530/979]\tlr: 4.237e-02, eta: 0:40:12, time: 0.214, data_time: 0.015, memory: 1952, loss_cls: 0.7699, loss_bbox: 0.8422, loss: 1.6121, grad_norm: 1.2354\n",
      "2023-05-11 07:41:42,545 - mmdet - INFO - Epoch [1][540/979]\tlr: 4.317e-02, eta: 0:40:08, time: 0.206, data_time: 0.013, memory: 1952, loss_cls: 0.7605, loss_bbox: 0.7569, loss: 1.5175, grad_norm: 1.5141\n",
      "2023-05-11 07:41:44,302 - mmdet - INFO - Epoch [1][550/979]\tlr: 4.397e-02, eta: 0:39:58, time: 0.176, data_time: 0.014, memory: 1952, loss_cls: 0.6443, loss_bbox: 0.7601, loss: 1.4044, grad_norm: 0.8367\n",
      "2023-05-11 07:41:46,017 - mmdet - INFO - Epoch [1][560/979]\tlr: 4.477e-02, eta: 0:39:47, time: 0.172, data_time: 0.013, memory: 1952, loss_cls: 0.7287, loss_bbox: 0.8010, loss: 1.5297, grad_norm: 1.3147\n",
      "2023-05-11 07:41:48,070 - mmdet - INFO - Epoch [1][570/979]\tlr: 4.557e-02, eta: 0:39:43, time: 0.205, data_time: 0.017, memory: 1952, loss_cls: 0.6930, loss_bbox: 0.7762, loss: 1.4692, grad_norm: 1.2062\n",
      "2023-05-11 07:41:49,964 - mmdet - INFO - Epoch [1][580/979]\tlr: 4.637e-02, eta: 0:39:37, time: 0.190, data_time: 0.016, memory: 1952, loss_cls: 0.6784, loss_bbox: 0.7516, loss: 1.4299, grad_norm: 1.0922\n",
      "2023-05-11 07:41:52,058 - mmdet - INFO - Epoch [1][590/979]\tlr: 4.717e-02, eta: 0:39:34, time: 0.209, data_time: 0.013, memory: 1952, loss_cls: 0.6822, loss_bbox: 0.7674, loss: 1.4496, grad_norm: 1.0087\n",
      "2023-05-11 07:41:54,034 - mmdet - INFO - Epoch [1][600/979]\tlr: 4.797e-02, eta: 0:39:29, time: 0.198, data_time: 0.017, memory: 1952, loss_cls: 0.6982, loss_bbox: 0.7707, loss: 1.4689, grad_norm: 1.1670\n",
      "2023-05-11 07:41:56,095 - mmdet - INFO - Epoch [1][610/979]\tlr: 4.877e-02, eta: 0:39:26, time: 0.206, data_time: 0.013, memory: 1952, loss_cls: 0.6608, loss_bbox: 0.8811, loss: 1.5419, grad_norm: 0.9286\n",
      "2023-05-11 07:41:58,208 - mmdet - INFO - Epoch [1][620/979]\tlr: 4.957e-02, eta: 0:39:23, time: 0.211, data_time: 0.016, memory: 1952, loss_cls: 0.6658, loss_bbox: 0.8466, loss: 1.5123, grad_norm: 0.8553\n",
      "2023-05-11 07:42:00,336 - mmdet - INFO - Epoch [1][630/979]\tlr: 5.037e-02, eta: 0:39:21, time: 0.213, data_time: 0.016, memory: 1952, loss_cls: 0.6892, loss_bbox: 0.7037, loss: 1.3929, grad_norm: 1.0661\n",
      "2023-05-11 07:42:02,225 - mmdet - INFO - Epoch [1][640/979]\tlr: 5.117e-02, eta: 0:39:15, time: 0.189, data_time: 0.015, memory: 1952, loss_cls: 0.7503, loss_bbox: 0.7004, loss: 1.4507, grad_norm: 1.2513\n",
      "2023-05-11 07:42:04,378 - mmdet - INFO - Epoch [1][650/979]\tlr: 5.197e-02, eta: 0:39:14, time: 0.215, data_time: 0.013, memory: 1952, loss_cls: 0.6634, loss_bbox: 0.7719, loss: 1.4353, grad_norm: 0.8844\n",
      "2023-05-11 07:42:06,445 - mmdet - INFO - Epoch [1][660/979]\tlr: 5.276e-02, eta: 0:39:11, time: 0.207, data_time: 0.015, memory: 1952, loss_cls: 0.6971, loss_bbox: 0.7484, loss: 1.4455, grad_norm: 0.8383\n",
      "2023-05-11 07:42:08,053 - mmdet - INFO - Epoch [1][670/979]\tlr: 5.356e-02, eta: 0:39:00, time: 0.161, data_time: 0.010, memory: 1952, loss_cls: 0.7172, loss_bbox: 0.7978, loss: 1.5150, grad_norm: 0.8998\n",
      "2023-05-11 07:42:09,957 - mmdet - INFO - Epoch [1][680/979]\tlr: 5.436e-02, eta: 0:38:54, time: 0.190, data_time: 0.013, memory: 1952, loss_cls: 0.7042, loss_bbox: 0.6932, loss: 1.3975, grad_norm: 0.9212\n",
      "2023-05-11 07:42:11,714 - mmdet - INFO - Epoch [1][690/979]\tlr: 5.516e-02, eta: 0:38:47, time: 0.176, data_time: 0.010, memory: 1952, loss_cls: 0.6538, loss_bbox: 0.7653, loss: 1.4191, grad_norm: 0.6788\n",
      "2023-05-11 07:42:13,486 - mmdet - INFO - Epoch [1][700/979]\tlr: 5.596e-02, eta: 0:38:39, time: 0.177, data_time: 0.013, memory: 1952, loss_cls: 0.6753, loss_bbox: 0.7048, loss: 1.3801, grad_norm: 0.8430\n",
      "2023-05-11 07:42:15,631 - mmdet - INFO - Epoch [1][710/979]\tlr: 5.676e-02, eta: 0:38:38, time: 0.215, data_time: 0.013, memory: 1952, loss_cls: 0.6808, loss_bbox: 0.8511, loss: 1.5319, grad_norm: 0.7487\n",
      "2023-05-11 07:42:17,791 - mmdet - INFO - Epoch [1][720/979]\tlr: 5.756e-02, eta: 0:38:37, time: 0.216, data_time: 0.014, memory: 1952, loss_cls: 0.7117, loss_bbox: 0.7006, loss: 1.4122, grad_norm: 1.0056\n",
      "2023-05-11 07:42:19,798 - mmdet - INFO - Epoch [1][730/979]\tlr: 5.836e-02, eta: 0:38:33, time: 0.201, data_time: 0.012, memory: 1952, loss_cls: 0.6844, loss_bbox: 0.7414, loss: 1.4258, grad_norm: 0.8238\n",
      "2023-05-11 07:42:21,870 - mmdet - INFO - Epoch [1][740/979]\tlr: 5.916e-02, eta: 0:38:31, time: 0.207, data_time: 0.015, memory: 1952, loss_cls: 0.6825, loss_bbox: 0.7957, loss: 1.4782, grad_norm: 0.9646\n",
      "2023-05-11 07:42:23,847 - mmdet - INFO - Epoch [1][750/979]\tlr: 5.996e-02, eta: 0:38:27, time: 0.198, data_time: 0.013, memory: 1952, loss_cls: 0.6470, loss_bbox: 0.9025, loss: 1.5495, grad_norm: 0.6789\n",
      "2023-05-11 07:42:26,034 - mmdet - INFO - Epoch [1][760/979]\tlr: 6.076e-02, eta: 0:38:26, time: 0.219, data_time: 0.016, memory: 1952, loss_cls: 0.7040, loss_bbox: 0.6800, loss: 1.3840, grad_norm: 0.8525\n",
      "2023-05-11 07:42:27,982 - mmdet - INFO - Epoch [1][770/979]\tlr: 6.156e-02, eta: 0:38:22, time: 0.195, data_time: 0.017, memory: 1952, loss_cls: 0.6720, loss_bbox: 0.8062, loss: 1.4782, grad_norm: 0.8261\n",
      "2023-05-11 07:42:30,148 - mmdet - INFO - Epoch [1][780/979]\tlr: 6.236e-02, eta: 0:38:21, time: 0.217, data_time: 0.017, memory: 1952, loss_cls: 0.6794, loss_bbox: 0.7545, loss: 1.4339, grad_norm: 0.6975\n",
      "2023-05-11 07:42:32,104 - mmdet - INFO - Epoch [1][790/979]\tlr: 6.316e-02, eta: 0:38:17, time: 0.196, data_time: 0.012, memory: 1952, loss_cls: 0.6654, loss_bbox: 0.6818, loss: 1.3471, grad_norm: 0.8189\n",
      "2023-05-11 07:42:34,229 - mmdet - INFO - Epoch [1][800/979]\tlr: 6.396e-02, eta: 0:38:15, time: 0.212, data_time: 0.014, memory: 1952, loss_cls: 0.6062, loss_bbox: 0.7588, loss: 1.3650, grad_norm: 0.5176\n",
      "2023-05-11 07:42:36,221 - mmdet - INFO - Epoch [1][810/979]\tlr: 6.476e-02, eta: 0:38:11, time: 0.199, data_time: 0.018, memory: 1952, loss_cls: 0.6122, loss_bbox: 0.7417, loss: 1.3540, grad_norm: 0.5281\n",
      "2023-05-11 07:42:38,208 - mmdet - INFO - Epoch [1][820/979]\tlr: 6.556e-02, eta: 0:38:08, time: 0.199, data_time: 0.011, memory: 1952, loss_cls: 0.6545, loss_bbox: 0.6624, loss: 1.3170, grad_norm: 0.5881\n",
      "2023-05-11 07:42:40,270 - mmdet - INFO - Epoch [1][830/979]\tlr: 6.636e-02, eta: 0:38:05, time: 0.206, data_time: 0.018, memory: 1952, loss_cls: 0.6516, loss_bbox: 0.7723, loss: 1.4239, grad_norm: 0.6040\n",
      "2023-05-11 07:42:42,304 - mmdet - INFO - Epoch [1][840/979]\tlr: 6.716e-02, eta: 0:38:02, time: 0.203, data_time: 0.011, memory: 1952, loss_cls: 0.6256, loss_bbox: 0.7210, loss: 1.3465, grad_norm: 0.5974\n",
      "2023-05-11 07:42:44,472 - mmdet - INFO - Epoch [1][850/979]\tlr: 6.795e-02, eta: 0:38:01, time: 0.217, data_time: 0.015, memory: 1952, loss_cls: 0.6571, loss_bbox: 0.7481, loss: 1.4052, grad_norm: 0.6167\n",
      "2023-05-11 07:42:46,505 - mmdet - INFO - Epoch [1][860/979]\tlr: 6.875e-02, eta: 0:37:58, time: 0.203, data_time: 0.014, memory: 1952, loss_cls: 0.6350, loss_bbox: 0.7503, loss: 1.3853, grad_norm: 0.5762\n",
      "2023-05-11 07:42:48,468 - mmdet - INFO - Epoch [1][870/979]\tlr: 6.955e-02, eta: 0:37:55, time: 0.196, data_time: 0.014, memory: 1952, loss_cls: 0.6514, loss_bbox: 0.6980, loss: 1.3494, grad_norm: 0.5974\n",
      "2023-05-11 07:42:50,570 - mmdet - INFO - Epoch [1][880/979]\tlr: 7.035e-02, eta: 0:37:53, time: 0.210, data_time: 0.016, memory: 1952, loss_cls: 0.6287, loss_bbox: 0.8503, loss: 1.4789, grad_norm: 0.5711\n",
      "2023-05-11 07:42:52,296 - mmdet - INFO - Epoch [1][890/979]\tlr: 7.115e-02, eta: 0:37:46, time: 0.172, data_time: 0.017, memory: 1952, loss_cls: 0.6774, loss_bbox: 0.7453, loss: 1.4227, grad_norm: 0.6899\n",
      "2023-05-11 07:42:54,372 - mmdet - INFO - Epoch [1][900/979]\tlr: 7.195e-02, eta: 0:37:44, time: 0.208, data_time: 0.014, memory: 1952, loss_cls: 0.6593, loss_bbox: 0.7723, loss: 1.4317, grad_norm: 0.6043\n",
      "2023-05-11 07:42:56,450 - mmdet - INFO - Epoch [1][910/979]\tlr: 7.275e-02, eta: 0:37:42, time: 0.208, data_time: 0.012, memory: 1952, loss_cls: 0.6872, loss_bbox: 0.7032, loss: 1.3904, grad_norm: 0.7564\n",
      "2023-05-11 07:42:58,722 - mmdet - INFO - Epoch [1][920/979]\tlr: 7.355e-02, eta: 0:37:42, time: 0.227, data_time: 0.018, memory: 1952, loss_cls: 0.6461, loss_bbox: 0.7213, loss: 1.3674, grad_norm: 0.5972\n",
      "2023-05-11 07:43:00,766 - mmdet - INFO - Epoch [1][930/979]\tlr: 7.435e-02, eta: 0:37:39, time: 0.204, data_time: 0.015, memory: 1952, loss_cls: 0.6732, loss_bbox: 0.7541, loss: 1.4272, grad_norm: 0.6723\n",
      "2023-05-11 07:43:02,732 - mmdet - INFO - Epoch [1][940/979]\tlr: 7.515e-02, eta: 0:37:36, time: 0.197, data_time: 0.017, memory: 1952, loss_cls: 0.6793, loss_bbox: 0.7635, loss: 1.4428, grad_norm: 0.6266\n",
      "2023-05-11 07:43:04,711 - mmdet - INFO - Epoch [1][950/979]\tlr: 7.595e-02, eta: 0:37:32, time: 0.198, data_time: 0.017, memory: 1952, loss_cls: 0.6055, loss_bbox: 0.7762, loss: 1.3817, grad_norm: 0.4617\n",
      "2023-05-11 07:43:06,783 - mmdet - INFO - Epoch [1][960/979]\tlr: 7.675e-02, eta: 0:37:30, time: 0.207, data_time: 0.014, memory: 1952, loss_cls: 0.6391, loss_bbox: 0.7619, loss: 1.4009, grad_norm: 0.5488\n",
      "2023-05-11 07:43:08,613 - mmdet - INFO - Epoch [1][970/979]\tlr: 7.755e-02, eta: 0:37:25, time: 0.183, data_time: 0.012, memory: 1952, loss_cls: 0.6205, loss_bbox: 0.7798, loss: 1.4004, grad_norm: 0.5079\n",
      "2023-05-11 07:43:10,550 - mmdet - INFO - Saving checkpoint at 1 epochs\n"
     ]
    },
    {
     "name": "stdout",
     "output_type": "stream",
     "text": [
      "[>>>>>>>>>>>>>>>>>>>>>>>>>>>>>] 969/969, 30.7 task/s, elapsed: 32s, ETA:     0s"
     ]
    },
    {
     "name": "stderr",
     "output_type": "stream",
     "text": [
      "2023-05-11 07:43:47,379 - mmdet - INFO - Evaluating bbox...\n"
     ]
    },
    {
     "name": "stdout",
     "output_type": "stream",
     "text": [
      "Loading and preparing results...\n",
      "DONE (t=0.41s)\n",
      "creating index...\n",
      "index created!\n",
      "Running per image evaluation...\n",
      "Evaluate annotation type *bbox*\n",
      "DONE (t=5.59s).\n",
      "Accumulating evaluation results...\n"
     ]
    },
    {
     "name": "stderr",
     "output_type": "stream",
     "text": [
      "2023-05-11 07:43:57,472 - mmdet - INFO - \n",
      " Average Precision  (AP) @[ IoU=0.50:0.95 | area=   all | maxDets=100 ] = 0.002\n",
      " Average Precision  (AP) @[ IoU=0.50      | area=   all | maxDets=1000 ] = 0.009\n",
      " Average Precision  (AP) @[ IoU=0.75      | area=   all | maxDets=1000 ] = 0.000\n",
      " Average Precision  (AP) @[ IoU=0.50:0.95 | area= small | maxDets=1000 ] = 0.000\n",
      " Average Precision  (AP) @[ IoU=0.50:0.95 | area=medium | maxDets=1000 ] = 0.000\n",
      " Average Precision  (AP) @[ IoU=0.50:0.95 | area= large | maxDets=1000 ] = 0.002\n",
      " Average Recall     (AR) @[ IoU=0.50:0.95 | area=   all | maxDets=100 ] = 0.046\n",
      " Average Recall     (AR) @[ IoU=0.50:0.95 | area=   all | maxDets=300 ] = 0.046\n",
      " Average Recall     (AR) @[ IoU=0.50:0.95 | area=   all | maxDets=1000 ] = 0.046\n",
      " Average Recall     (AR) @[ IoU=0.50:0.95 | area= small | maxDets=1000 ] = 0.000\n",
      " Average Recall     (AR) @[ IoU=0.50:0.95 | area=medium | maxDets=1000 ] = 0.000\n",
      " Average Recall     (AR) @[ IoU=0.50:0.95 | area= large | maxDets=1000 ] = 0.059\n",
      "\n",
      "2023-05-11 07:43:57,616 - mmdet - INFO - Epoch(val) [1][969]\tbbox_mAP: 0.0020, bbox_mAP_50: 0.0090, bbox_mAP_75: 0.0000, bbox_mAP_s: 0.0000, bbox_mAP_m: 0.0000, bbox_mAP_l: 0.0020, bbox_mAP_copypaste: 0.002 0.009 0.000 0.000 0.000 0.002\n"
     ]
    },
    {
     "name": "stdout",
     "output_type": "stream",
     "text": [
      "DONE (t=3.13s).\n"
     ]
    },
    {
     "name": "stderr",
     "output_type": "stream",
     "text": [
      "2023-05-11 07:44:02,522 - mmdet - INFO - Epoch [2][10/979]\tlr: 7.907e-02, eta: 0:37:31, time: 0.489, data_time: 0.291, memory: 1952, loss_cls: 0.6204, loss_bbox: 0.8147, loss: 1.4350, grad_norm: 0.5272\n",
      "2023-05-11 07:44:04,459 - mmdet - INFO - Epoch [2][20/979]\tlr: 7.987e-02, eta: 0:37:28, time: 0.194, data_time: 0.007, memory: 1952, loss_cls: 0.6305, loss_bbox: 0.7262, loss: 1.3567, grad_norm: 0.5137\n",
      "2023-05-11 07:44:06,382 - mmdet - INFO - Epoch [2][30/979]\tlr: 8.067e-02, eta: 0:37:24, time: 0.192, data_time: 0.009, memory: 1952, loss_cls: 0.6180, loss_bbox: 0.8227, loss: 1.4408, grad_norm: 0.4853\n",
      "2023-05-11 07:44:08,366 - mmdet - INFO - Epoch [2][40/979]\tlr: 8.147e-02, eta: 0:37:21, time: 0.198, data_time: 0.010, memory: 1952, loss_cls: 0.6188, loss_bbox: 0.7424, loss: 1.3613, grad_norm: 0.5083\n",
      "2023-05-11 07:44:11,022 - mmdet - INFO - Epoch [2][50/979]\tlr: 8.227e-02, eta: 0:37:24, time: 0.265, data_time: 0.015, memory: 1952, loss_cls: 0.6494, loss_bbox: 0.6856, loss: 1.3350, grad_norm: 0.6531\n",
      "2023-05-11 07:44:13,039 - mmdet - INFO - Epoch [2][60/979]\tlr: 8.306e-02, eta: 0:37:21, time: 0.202, data_time: 0.018, memory: 1952, loss_cls: 0.6490, loss_bbox: 0.7449, loss: 1.3939, grad_norm: 0.5964\n",
      "2023-05-11 07:44:15,434 - mmdet - INFO - Epoch [2][70/979]\tlr: 8.386e-02, eta: 0:37:22, time: 0.239, data_time: 0.013, memory: 1952, loss_cls: 0.6204, loss_bbox: 0.7485, loss: 1.3690, grad_norm: 0.4774\n",
      "2023-05-11 07:44:17,723 - mmdet - INFO - Epoch [2][80/979]\tlr: 8.466e-02, eta: 0:37:22, time: 0.229, data_time: 0.016, memory: 1952, loss_cls: 0.6422, loss_bbox: 0.7547, loss: 1.3970, grad_norm: 0.5764\n",
      "2023-05-11 07:44:20,012 - mmdet - INFO - Epoch [2][90/979]\tlr: 8.546e-02, eta: 0:37:22, time: 0.229, data_time: 0.013, memory: 1952, loss_cls: 0.6417, loss_bbox: 0.7806, loss: 1.4223, grad_norm: 0.5637\n",
      "2023-05-11 07:44:22,249 - mmdet - INFO - Epoch [2][100/979]\tlr: 8.626e-02, eta: 0:37:21, time: 0.224, data_time: 0.016, memory: 1952, loss_cls: 0.6372, loss_bbox: 0.7583, loss: 1.3955, grad_norm: 0.5415\n",
      "2023-05-11 07:44:24,724 - mmdet - INFO - Epoch [2][110/979]\tlr: 8.706e-02, eta: 0:37:23, time: 0.247, data_time: 0.015, memory: 1952, loss_cls: 0.6365, loss_bbox: 0.8285, loss: 1.4650, grad_norm: 0.5856\n",
      "2023-05-11 07:44:27,468 - mmdet - INFO - Epoch [2][120/979]\tlr: 8.786e-02, eta: 0:37:27, time: 0.273, data_time: 0.016, memory: 1952, loss_cls: 0.6278, loss_bbox: 0.8736, loss: 1.5014, grad_norm: 0.5240\n",
      "2023-05-11 07:44:29,737 - mmdet - INFO - Epoch [2][130/979]\tlr: 8.866e-02, eta: 0:37:26, time: 0.229, data_time: 0.018, memory: 1952, loss_cls: 0.6141, loss_bbox: 0.7566, loss: 1.3707, grad_norm: 0.5318\n",
      "2023-05-11 07:44:32,402 - mmdet - INFO - Epoch [2][140/979]\tlr: 8.946e-02, eta: 0:37:30, time: 0.267, data_time: 0.019, memory: 1952, loss_cls: 0.6161, loss_bbox: 0.8656, loss: 1.4817, grad_norm: 0.9017\n",
      "2023-05-11 07:44:34,848 - mmdet - INFO - Epoch [2][150/979]\tlr: 9.026e-02, eta: 0:37:31, time: 0.245, data_time: 0.017, memory: 1952, loss_cls: 0.6630, loss_bbox: 0.7299, loss: 1.3929, grad_norm: 0.7065\n",
      "2023-05-11 07:44:37,188 - mmdet - INFO - Epoch [2][160/979]\tlr: 9.106e-02, eta: 0:37:30, time: 0.234, data_time: 0.018, memory: 1952, loss_cls: 0.6587, loss_bbox: 0.8185, loss: 1.4772, grad_norm: 0.8296\n",
      "2023-05-11 07:44:39,290 - mmdet - INFO - Epoch [2][170/979]\tlr: 9.186e-02, eta: 0:37:28, time: 0.210, data_time: 0.015, memory: 1952, loss_cls: 0.6985, loss_bbox: 0.7616, loss: 1.4602, grad_norm: 0.7181\n",
      "2023-05-11 07:44:41,203 - mmdet - INFO - Epoch [2][180/979]\tlr: 9.266e-02, eta: 0:37:24, time: 0.191, data_time: 0.013, memory: 1952, loss_cls: 0.7081, loss_bbox: 0.6983, loss: 1.4064, grad_norm: 0.8120\n",
      "2023-05-11 07:44:43,114 - mmdet - INFO - Epoch [2][190/979]\tlr: 9.346e-02, eta: 0:37:20, time: 0.191, data_time: 0.013, memory: 1952, loss_cls: 0.6621, loss_bbox: 0.7108, loss: 1.3729, grad_norm: 0.5251\n",
      "2023-05-11 07:44:44,897 - mmdet - INFO - Epoch [2][200/979]\tlr: 9.426e-02, eta: 0:37:15, time: 0.178, data_time: 0.011, memory: 1952, loss_cls: 0.8451, loss_bbox: 0.6846, loss: 1.5297, grad_norm: 1.5005\n",
      "2023-05-11 07:44:46,762 - mmdet - INFO - Epoch [2][210/979]\tlr: 9.506e-02, eta: 0:37:11, time: 0.187, data_time: 0.013, memory: 1952, loss_cls: 0.6840, loss_bbox: 0.7501, loss: 1.4342, grad_norm: 0.6066\n",
      "2023-05-11 07:44:48,779 - mmdet - INFO - Epoch [2][220/979]\tlr: 9.586e-02, eta: 0:37:08, time: 0.202, data_time: 0.017, memory: 1952, loss_cls: 0.6480, loss_bbox: 0.8371, loss: 1.4851, grad_norm: 0.4805\n",
      "2023-05-11 07:44:50,679 - mmdet - INFO - Epoch [2][230/979]\tlr: 9.666e-02, eta: 0:37:04, time: 0.190, data_time: 0.014, memory: 1952, loss_cls: 0.7059, loss_bbox: 0.7756, loss: 1.4815, grad_norm: 0.6272\n",
      "2023-05-11 07:44:52,562 - mmdet - INFO - Epoch [2][240/979]\tlr: 9.746e-02, eta: 0:37:00, time: 0.188, data_time: 0.011, memory: 1952, loss_cls: 0.6470, loss_bbox: 0.7400, loss: 1.3870, grad_norm: 0.5089\n",
      "2023-05-11 07:44:54,660 - mmdet - INFO - Epoch [2][250/979]\tlr: 9.825e-02, eta: 0:36:57, time: 0.210, data_time: 0.013, memory: 1952, loss_cls: 0.6632, loss_bbox: 0.7274, loss: 1.3906, grad_norm: 0.5252\n",
      "2023-05-11 07:44:56,698 - mmdet - INFO - Epoch [2][260/979]\tlr: 9.905e-02, eta: 0:36:55, time: 0.203, data_time: 0.014, memory: 1952, loss_cls: 0.6574, loss_bbox: 0.6651, loss: 1.3225, grad_norm: 0.6059\n",
      "2023-05-11 07:44:58,687 - mmdet - INFO - Epoch [2][270/979]\tlr: 9.985e-02, eta: 0:36:52, time: 0.200, data_time: 0.013, memory: 1952, loss_cls: 0.6602, loss_bbox: 0.6441, loss: 1.3042, grad_norm: 0.6402\n",
      "2023-05-11 07:45:00,758 - mmdet - INFO - Epoch [2][280/979]\tlr: 1.007e-01, eta: 0:36:49, time: 0.207, data_time: 0.015, memory: 1952, loss_cls: 0.6456, loss_bbox: 0.6503, loss: 1.2959, grad_norm: 0.4699\n",
      "2023-05-11 07:45:02,746 - mmdet - INFO - Epoch [2][290/979]\tlr: 1.015e-01, eta: 0:36:46, time: 0.199, data_time: 0.013, memory: 1952, loss_cls: 0.6213, loss_bbox: 0.7884, loss: 1.4097, grad_norm: 0.4955\n",
      "2023-05-11 07:45:04,857 - mmdet - INFO - Epoch [2][300/979]\tlr: 1.023e-01, eta: 0:36:44, time: 0.210, data_time: 0.014, memory: 1952, loss_cls: 0.6326, loss_bbox: 0.7812, loss: 1.4138, grad_norm: 0.5592\n",
      "2023-05-11 07:45:07,154 - mmdet - INFO - Epoch [2][310/979]\tlr: 1.031e-01, eta: 0:36:44, time: 0.231, data_time: 0.019, memory: 1952, loss_cls: 0.6272, loss_bbox: 0.8402, loss: 1.4674, grad_norm: 0.5076\n",
      "2023-05-11 07:45:09,314 - mmdet - INFO - Epoch [2][320/979]\tlr: 1.039e-01, eta: 0:36:42, time: 0.216, data_time: 0.017, memory: 1952, loss_cls: 0.6286, loss_bbox: 0.8209, loss: 1.4495, grad_norm: 0.5092\n",
      "2023-05-11 07:45:11,356 - mmdet - INFO - Epoch [2][330/979]\tlr: 1.047e-01, eta: 0:36:39, time: 0.204, data_time: 0.014, memory: 1952, loss_cls: 0.6590, loss_bbox: 0.7210, loss: 1.3800, grad_norm: 0.5815\n",
      "2023-05-11 07:45:13,291 - mmdet - INFO - Epoch [2][340/979]\tlr: 1.054e-01, eta: 0:36:36, time: 0.194, data_time: 0.013, memory: 1952, loss_cls: 0.7252, loss_bbox: 0.6418, loss: 1.3670, grad_norm: 0.7742\n",
      "2023-05-11 07:45:15,156 - mmdet - INFO - Epoch [2][350/979]\tlr: 1.062e-01, eta: 0:36:32, time: 0.187, data_time: 0.011, memory: 1952, loss_cls: 0.5993, loss_bbox: 0.7790, loss: 1.3783, grad_norm: 0.4585\n",
      "2023-05-11 07:45:16,928 - mmdet - INFO - Epoch [2][360/979]\tlr: 1.070e-01, eta: 0:36:27, time: 0.177, data_time: 0.009, memory: 1952, loss_cls: 0.6953, loss_bbox: 0.7163, loss: 1.4116, grad_norm: 0.6691\n",
      "2023-05-11 07:45:18,873 - mmdet - INFO - Epoch [2][370/979]\tlr: 1.078e-01, eta: 0:36:24, time: 0.195, data_time: 0.011, memory: 1952, loss_cls: 0.6542, loss_bbox: 0.6631, loss: 1.3173, grad_norm: 0.5987\n",
      "2023-05-11 07:45:20,994 - mmdet - INFO - Epoch [2][380/979]\tlr: 1.086e-01, eta: 0:36:22, time: 0.212, data_time: 0.017, memory: 1952, loss_cls: 0.6494, loss_bbox: 0.7462, loss: 1.3956, grad_norm: 0.5579\n",
      "2023-05-11 07:45:23,249 - mmdet - INFO - Epoch [2][390/979]\tlr: 1.094e-01, eta: 0:36:21, time: 0.225, data_time: 0.017, memory: 1952, loss_cls: 0.6348, loss_bbox: 0.7310, loss: 1.3658, grad_norm: 1.0701\n",
      "2023-05-11 07:45:25,424 - mmdet - INFO - Epoch [2][400/979]\tlr: 1.102e-01, eta: 0:36:19, time: 0.217, data_time: 0.013, memory: 1952, loss_cls: 0.7020, loss_bbox: 0.7053, loss: 1.4072, grad_norm: 0.6725\n",
      "2023-05-11 07:45:27,419 - mmdet - INFO - Epoch [2][410/979]\tlr: 1.110e-01, eta: 0:36:16, time: 0.200, data_time: 0.017, memory: 1952, loss_cls: 0.7201, loss_bbox: 0.7526, loss: 1.4727, grad_norm: 0.7145\n",
      "2023-05-11 07:45:29,523 - mmdet - INFO - Epoch [2][420/979]\tlr: 1.118e-01, eta: 0:36:14, time: 0.209, data_time: 0.013, memory: 1952, loss_cls: 0.6502, loss_bbox: 0.7984, loss: 1.4485, grad_norm: 1.9486\n",
      "2023-05-11 07:45:31,583 - mmdet - INFO - Epoch [2][430/979]\tlr: 1.126e-01, eta: 0:36:12, time: 0.207, data_time: 0.015, memory: 1952, loss_cls: 0.6462, loss_bbox: 0.7650, loss: 1.4112, grad_norm: 0.5355\n",
      "2023-05-11 07:45:33,843 - mmdet - INFO - Epoch [2][440/979]\tlr: 1.134e-01, eta: 0:36:11, time: 0.226, data_time: 0.014, memory: 1952, loss_cls: 0.7296, loss_bbox: 0.6865, loss: 1.4161, grad_norm: 1.0430\n",
      "2023-05-11 07:45:35,913 - mmdet - INFO - Epoch [2][450/979]\tlr: 1.142e-01, eta: 0:36:09, time: 0.207, data_time: 0.015, memory: 1952, loss_cls: 0.7620, loss_bbox: 0.7977, loss: 1.5597, grad_norm: 1.1277\n",
      "2023-05-11 07:45:38,045 - mmdet - INFO - Epoch [2][460/979]\tlr: 1.150e-01, eta: 0:36:07, time: 0.213, data_time: 0.014, memory: 1952, loss_cls: 0.6396, loss_bbox: 0.7704, loss: 1.4100, grad_norm: 0.5681\n",
      "2023-05-11 07:45:40,122 - mmdet - INFO - Epoch [2][470/979]\tlr: 1.158e-01, eta: 0:36:04, time: 0.208, data_time: 0.012, memory: 1952, loss_cls: 0.8493, loss_bbox: 0.9064, loss: 1.7557, grad_norm: 1.6644\n",
      "2023-05-11 07:45:42,353 - mmdet - INFO - Epoch [2][480/979]\tlr: 1.166e-01, eta: 0:36:03, time: 0.222, data_time: 0.015, memory: 1952, loss_cls: 0.7093, loss_bbox: 0.8493, loss: 1.5586, grad_norm: 0.7098\n",
      "2023-05-11 07:45:44,494 - mmdet - INFO - Epoch [2][490/979]\tlr: 1.174e-01, eta: 0:36:01, time: 0.215, data_time: 0.016, memory: 1952, loss_cls: 0.6786, loss_bbox: 0.7407, loss: 1.4192, grad_norm: 0.6362\n",
      "2023-05-11 07:45:46,457 - mmdet - INFO - Epoch [2][500/979]\tlr: 1.182e-01, eta: 0:35:58, time: 0.196, data_time: 0.013, memory: 1952, loss_cls: 0.6882, loss_bbox: 0.7655, loss: 1.4536, grad_norm: 0.7890\n",
      "2023-05-11 07:45:48,589 - mmdet - INFO - Epoch [2][510/979]\tlr: 1.190e-01, eta: 0:35:56, time: 0.213, data_time: 0.016, memory: 1952, loss_cls: 0.6495, loss_bbox: 0.7897, loss: 1.4391, grad_norm: 0.5350\n",
      "2023-05-11 07:45:50,742 - mmdet - INFO - Epoch [2][520/979]\tlr: 1.198e-01, eta: 0:35:55, time: 0.215, data_time: 0.014, memory: 1952, loss_cls: 0.6650, loss_bbox: 0.6984, loss: 1.3634, grad_norm: 0.5673\n",
      "2023-05-11 07:45:52,922 - mmdet - INFO - Epoch [2][530/979]\tlr: 1.200e-01, eta: 0:35:53, time: 0.218, data_time: 0.011, memory: 1952, loss_cls: 0.6462, loss_bbox: 0.7871, loss: 1.4333, grad_norm: 0.4985\n",
      "2023-05-11 07:45:55,005 - mmdet - INFO - Epoch [2][540/979]\tlr: 1.200e-01, eta: 0:35:51, time: 0.208, data_time: 0.012, memory: 1952, loss_cls: 0.6380, loss_bbox: 0.7042, loss: 1.3422, grad_norm: 0.4572\n",
      "2023-05-11 07:45:57,160 - mmdet - INFO - Epoch [2][550/979]\tlr: 1.200e-01, eta: 0:35:49, time: 0.216, data_time: 0.021, memory: 1952, loss_cls: 0.6245, loss_bbox: 0.7358, loss: 1.3603, grad_norm: 0.4003\n",
      "2023-05-11 07:45:59,373 - mmdet - INFO - Epoch [2][560/979]\tlr: 1.200e-01, eta: 0:35:48, time: 0.221, data_time: 0.014, memory: 1952, loss_cls: 0.6099, loss_bbox: 0.8013, loss: 1.4112, grad_norm: 0.3355\n",
      "2023-05-11 07:46:01,445 - mmdet - INFO - Epoch [2][570/979]\tlr: 1.200e-01, eta: 0:35:45, time: 0.207, data_time: 0.013, memory: 1952, loss_cls: 0.6097, loss_bbox: 0.8778, loss: 1.4875, grad_norm: 0.4121\n",
      "2023-05-11 07:46:03,450 - mmdet - INFO - Epoch [2][580/979]\tlr: 1.200e-01, eta: 0:35:43, time: 0.200, data_time: 0.019, memory: 1952, loss_cls: 0.6686, loss_bbox: 0.7527, loss: 1.4212, grad_norm: 0.5024\n",
      "2023-05-11 07:46:05,652 - mmdet - INFO - Epoch [2][590/979]\tlr: 1.200e-01, eta: 0:35:41, time: 0.220, data_time: 0.014, memory: 1952, loss_cls: 0.6057, loss_bbox: 0.7907, loss: 1.3964, grad_norm: 0.3788\n",
      "2023-05-11 07:46:07,702 - mmdet - INFO - Epoch [2][600/979]\tlr: 1.200e-01, eta: 0:35:39, time: 0.205, data_time: 0.013, memory: 1952, loss_cls: 0.6515, loss_bbox: 0.7362, loss: 1.3876, grad_norm: 0.5656\n",
      "2023-05-11 07:46:09,926 - mmdet - INFO - Epoch [2][610/979]\tlr: 1.200e-01, eta: 0:35:37, time: 0.222, data_time: 0.014, memory: 1952, loss_cls: 0.6972, loss_bbox: 0.7404, loss: 1.4376, grad_norm: 0.9751\n",
      "2023-05-11 07:46:11,876 - mmdet - INFO - Epoch [2][620/979]\tlr: 1.200e-01, eta: 0:35:34, time: 0.195, data_time: 0.013, memory: 1952, loss_cls: 0.6573, loss_bbox: 0.7313, loss: 1.3886, grad_norm: 0.6670\n",
      "2023-05-11 07:46:14,014 - mmdet - INFO - Epoch [2][630/979]\tlr: 1.200e-01, eta: 0:35:32, time: 0.214, data_time: 0.013, memory: 1952, loss_cls: 0.6225, loss_bbox: 0.7050, loss: 1.3275, grad_norm: 0.4441\n",
      "2023-05-11 07:46:16,047 - mmdet - INFO - Epoch [2][640/979]\tlr: 1.200e-01, eta: 0:35:30, time: 0.203, data_time: 0.015, memory: 1952, loss_cls: 0.6081, loss_bbox: 0.7514, loss: 1.3594, grad_norm: 0.3999\n",
      "2023-05-11 07:46:18,053 - mmdet - INFO - Epoch [2][650/979]\tlr: 1.200e-01, eta: 0:35:27, time: 0.201, data_time: 0.012, memory: 1952, loss_cls: 0.6196, loss_bbox: 0.7848, loss: 1.4044, grad_norm: 0.4476\n",
      "2023-05-11 07:46:20,062 - mmdet - INFO - Epoch [2][660/979]\tlr: 1.200e-01, eta: 0:35:25, time: 0.201, data_time: 0.016, memory: 1952, loss_cls: 0.6152, loss_bbox: 0.6828, loss: 1.2980, grad_norm: 0.3717\n",
      "2023-05-11 07:46:21,954 - mmdet - INFO - Epoch [2][670/979]\tlr: 1.200e-01, eta: 0:35:21, time: 0.189, data_time: 0.016, memory: 1952, loss_cls: 0.6125, loss_bbox: 0.7548, loss: 1.3672, grad_norm: 0.4438\n",
      "2023-05-11 07:46:24,103 - mmdet - INFO - Epoch [2][680/979]\tlr: 1.200e-01, eta: 0:35:19, time: 0.215, data_time: 0.015, memory: 1952, loss_cls: 0.6050, loss_bbox: 0.6997, loss: 1.3047, grad_norm: 0.4224\n",
      "2023-05-11 07:46:26,014 - mmdet - INFO - Epoch [2][690/979]\tlr: 1.200e-01, eta: 0:35:16, time: 0.191, data_time: 0.015, memory: 1952, loss_cls: 0.6155, loss_bbox: 0.7284, loss: 1.3439, grad_norm: 0.4023\n",
      "2023-05-11 07:46:28,130 - mmdet - INFO - Epoch [2][700/979]\tlr: 1.200e-01, eta: 0:35:14, time: 0.212, data_time: 0.013, memory: 1952, loss_cls: 0.6166, loss_bbox: 0.7198, loss: 1.3364, grad_norm: 0.4576\n",
      "2023-05-11 07:46:30,244 - mmdet - INFO - Epoch [2][710/979]\tlr: 1.200e-01, eta: 0:35:12, time: 0.211, data_time: 0.014, memory: 1952, loss_cls: 0.5782, loss_bbox: 0.7204, loss: 1.2986, grad_norm: 0.3488\n",
      "2023-05-11 07:46:32,289 - mmdet - INFO - Epoch [2][720/979]\tlr: 1.200e-01, eta: 0:35:10, time: 0.204, data_time: 0.015, memory: 1952, loss_cls: 0.6131, loss_bbox: 0.7014, loss: 1.3145, grad_norm: 0.4374\n",
      "2023-05-11 07:46:34,406 - mmdet - INFO - Epoch [2][730/979]\tlr: 1.200e-01, eta: 0:35:08, time: 0.212, data_time: 0.014, memory: 1952, loss_cls: 0.6104, loss_bbox: 0.7135, loss: 1.3239, grad_norm: 0.4133\n",
      "2023-05-11 07:46:36,388 - mmdet - INFO - Epoch [2][740/979]\tlr: 1.200e-01, eta: 0:35:05, time: 0.198, data_time: 0.015, memory: 1952, loss_cls: 0.6298, loss_bbox: 0.6993, loss: 1.3291, grad_norm: 0.6175\n",
      "2023-05-11 07:46:38,263 - mmdet - INFO - Epoch [2][750/979]\tlr: 1.200e-01, eta: 0:35:01, time: 0.187, data_time: 0.015, memory: 1952, loss_cls: 0.6155, loss_bbox: 0.6731, loss: 1.2886, grad_norm: 0.4708\n",
      "2023-05-11 07:46:40,298 - mmdet - INFO - Epoch [2][760/979]\tlr: 1.200e-01, eta: 0:34:59, time: 0.204, data_time: 0.016, memory: 1952, loss_cls: 0.6257, loss_bbox: 0.6732, loss: 1.2988, grad_norm: 0.4208\n",
      "2023-05-11 07:46:42,218 - mmdet - INFO - Epoch [2][770/979]\tlr: 1.200e-01, eta: 0:34:56, time: 0.192, data_time: 0.012, memory: 1952, loss_cls: 0.6371, loss_bbox: 0.7121, loss: 1.3492, grad_norm: 0.5396\n",
      "2023-05-11 07:46:44,345 - mmdet - INFO - Epoch [2][780/979]\tlr: 1.200e-01, eta: 0:34:54, time: 0.213, data_time: 0.022, memory: 1952, loss_cls: 0.6123, loss_bbox: 0.6880, loss: 1.3003, grad_norm: 0.4658\n",
      "2023-05-11 07:46:46,509 - mmdet - INFO - Epoch [2][790/979]\tlr: 1.200e-01, eta: 0:34:52, time: 0.215, data_time: 0.019, memory: 1952, loss_cls: 0.6253, loss_bbox: 0.7636, loss: 1.3889, grad_norm: 0.4713\n",
      "2023-05-11 07:46:48,655 - mmdet - INFO - Epoch [2][800/979]\tlr: 1.200e-01, eta: 0:34:50, time: 0.215, data_time: 0.018, memory: 1952, loss_cls: 0.6111, loss_bbox: 0.8894, loss: 1.5005, grad_norm: 0.3937\n",
      "2023-05-11 07:46:50,696 - mmdet - INFO - Epoch [2][810/979]\tlr: 1.200e-01, eta: 0:34:48, time: 0.204, data_time: 0.012, memory: 1952, loss_cls: 0.6045, loss_bbox: 0.7258, loss: 1.3302, grad_norm: 0.4309\n",
      "2023-05-11 07:46:52,936 - mmdet - INFO - Epoch [2][820/979]\tlr: 1.200e-01, eta: 0:34:47, time: 0.224, data_time: 0.014, memory: 1952, loss_cls: 0.6186, loss_bbox: 0.7473, loss: 1.3660, grad_norm: 0.4796\n",
      "2023-05-11 07:46:54,885 - mmdet - INFO - Epoch [2][830/979]\tlr: 1.200e-01, eta: 0:34:44, time: 0.195, data_time: 0.016, memory: 1952, loss_cls: 0.6024, loss_bbox: 0.6846, loss: 1.2870, grad_norm: 0.4206\n",
      "2023-05-11 07:46:56,996 - mmdet - INFO - Epoch [2][840/979]\tlr: 1.200e-01, eta: 0:34:42, time: 0.211, data_time: 0.015, memory: 1952, loss_cls: 0.6237, loss_bbox: 0.7210, loss: 1.3446, grad_norm: 0.4370\n",
      "2023-05-11 07:46:59,101 - mmdet - INFO - Epoch [2][850/979]\tlr: 1.200e-01, eta: 0:34:40, time: 0.210, data_time: 0.013, memory: 1952, loss_cls: 0.6251, loss_bbox: 0.7029, loss: 1.3280, grad_norm: 0.4104\n",
      "2023-05-11 07:47:01,059 - mmdet - INFO - Epoch [2][860/979]\tlr: 1.200e-01, eta: 0:34:37, time: 0.196, data_time: 0.013, memory: 1952, loss_cls: 0.6015, loss_bbox: 0.8009, loss: 1.4023, grad_norm: 0.4021\n",
      "2023-05-11 07:47:03,030 - mmdet - INFO - Epoch [2][870/979]\tlr: 1.200e-01, eta: 0:34:34, time: 0.197, data_time: 0.015, memory: 1952, loss_cls: 0.6258, loss_bbox: 0.9447, loss: 1.5705, grad_norm: 0.4737\n",
      "2023-05-11 07:47:05,154 - mmdet - INFO - Epoch [2][880/979]\tlr: 1.200e-01, eta: 0:34:32, time: 0.212, data_time: 0.014, memory: 1952, loss_cls: 0.6003, loss_bbox: 0.7513, loss: 1.3517, grad_norm: 0.4869\n",
      "2023-05-11 07:47:07,388 - mmdet - INFO - Epoch [2][890/979]\tlr: 1.200e-01, eta: 0:34:31, time: 0.224, data_time: 0.019, memory: 1952, loss_cls: 0.6033, loss_bbox: 0.7363, loss: 1.3396, grad_norm: 0.3574\n",
      "2023-05-11 07:47:09,396 - mmdet - INFO - Epoch [2][900/979]\tlr: 1.200e-01, eta: 0:34:28, time: 0.201, data_time: 0.014, memory: 1952, loss_cls: 0.5921, loss_bbox: 0.6942, loss: 1.2863, grad_norm: 0.4135\n",
      "2023-05-11 07:47:11,415 - mmdet - INFO - Epoch [2][910/979]\tlr: 1.200e-01, eta: 0:34:26, time: 0.202, data_time: 0.015, memory: 1952, loss_cls: 0.5884, loss_bbox: 0.7934, loss: 1.3817, grad_norm: 0.4743\n",
      "2023-05-11 07:47:13,551 - mmdet - INFO - Epoch [2][920/979]\tlr: 1.200e-01, eta: 0:34:24, time: 0.214, data_time: 0.023, memory: 1952, loss_cls: 0.5924, loss_bbox: 0.7425, loss: 1.3348, grad_norm: 0.4785\n",
      "2023-05-11 07:47:15,764 - mmdet - INFO - Epoch [2][930/979]\tlr: 1.200e-01, eta: 0:34:22, time: 0.221, data_time: 0.016, memory: 1952, loss_cls: 0.5980, loss_bbox: 0.7053, loss: 1.3033, grad_norm: 0.3890\n",
      "2023-05-11 07:47:17,706 - mmdet - INFO - Epoch [2][940/979]\tlr: 1.200e-01, eta: 0:34:19, time: 0.194, data_time: 0.013, memory: 1952, loss_cls: 0.6259, loss_bbox: 0.7455, loss: 1.3714, grad_norm: 0.4627\n",
      "2023-05-11 07:47:19,748 - mmdet - INFO - Epoch [2][950/979]\tlr: 1.200e-01, eta: 0:34:17, time: 0.204, data_time: 0.017, memory: 1952, loss_cls: 0.5927, loss_bbox: 0.7507, loss: 1.3434, grad_norm: 0.4131\n",
      "2023-05-11 07:47:21,369 - mmdet - INFO - Epoch [2][960/979]\tlr: 1.200e-01, eta: 0:34:13, time: 0.162, data_time: 0.015, memory: 1952, loss_cls: 0.5916, loss_bbox: 0.6744, loss: 1.2660, grad_norm: 0.4447\n",
      "2023-05-11 07:47:22,800 - mmdet - INFO - Epoch [2][970/979]\tlr: 1.200e-01, eta: 0:34:07, time: 0.143, data_time: 0.009, memory: 1952, loss_cls: 0.6197, loss_bbox: 0.8166, loss: 1.4363, grad_norm: 0.4571\n",
      "2023-05-11 07:47:24,431 - mmdet - INFO - Saving checkpoint at 2 epochs\n"
     ]
    },
    {
     "name": "stdout",
     "output_type": "stream",
     "text": [
      "[>>>>>>>>>>>>>>>>>>>>>>>>>>>>>] 969/969, 31.2 task/s, elapsed: 31s, ETA:     0s"
     ]
    },
    {
     "name": "stderr",
     "output_type": "stream",
     "text": [
      "2023-05-11 07:48:00,150 - mmdet - INFO - Evaluating bbox...\n"
     ]
    },
    {
     "name": "stdout",
     "output_type": "stream",
     "text": [
      "Loading and preparing results...\n",
      "DONE (t=0.54s)\n",
      "creating index...\n",
      "index created!\n",
      "Running per image evaluation...\n",
      "Evaluate annotation type *bbox*\n",
      "DONE (t=5.52s).\n",
      "Accumulating evaluation results...\n"
     ]
    },
    {
     "name": "stderr",
     "output_type": "stream",
     "text": [
      "2023-05-11 07:48:10,091 - mmdet - INFO - \n",
      " Average Precision  (AP) @[ IoU=0.50:0.95 | area=   all | maxDets=100 ] = 0.002\n",
      " Average Precision  (AP) @[ IoU=0.50      | area=   all | maxDets=1000 ] = 0.008\n",
      " Average Precision  (AP) @[ IoU=0.75      | area=   all | maxDets=1000 ] = 0.001\n",
      " Average Precision  (AP) @[ IoU=0.50:0.95 | area= small | maxDets=1000 ] = 0.000\n",
      " Average Precision  (AP) @[ IoU=0.50:0.95 | area=medium | maxDets=1000 ] = 0.000\n",
      " Average Precision  (AP) @[ IoU=0.50:0.95 | area= large | maxDets=1000 ] = 0.003\n",
      " Average Recall     (AR) @[ IoU=0.50:0.95 | area=   all | maxDets=100 ] = 0.045\n",
      " Average Recall     (AR) @[ IoU=0.50:0.95 | area=   all | maxDets=300 ] = 0.045\n",
      " Average Recall     (AR) @[ IoU=0.50:0.95 | area=   all | maxDets=1000 ] = 0.045\n",
      " Average Recall     (AR) @[ IoU=0.50:0.95 | area= small | maxDets=1000 ] = 0.000\n",
      " Average Recall     (AR) @[ IoU=0.50:0.95 | area=medium | maxDets=1000 ] = 0.000\n",
      " Average Recall     (AR) @[ IoU=0.50:0.95 | area= large | maxDets=1000 ] = 0.058\n",
      "\n",
      "2023-05-11 07:48:10,228 - mmdet - INFO - Epoch(val) [2][969]\tbbox_mAP: 0.0020, bbox_mAP_50: 0.0080, bbox_mAP_75: 0.0010, bbox_mAP_s: 0.0000, bbox_mAP_m: 0.0000, bbox_mAP_l: 0.0030, bbox_mAP_copypaste: 0.002 0.008 0.001 0.000 0.000 0.003\n"
     ]
    },
    {
     "name": "stdout",
     "output_type": "stream",
     "text": [
      "DONE (t=2.93s).\n"
     ]
    },
    {
     "name": "stderr",
     "output_type": "stream",
     "text": [
      "2023-05-11 07:48:15,260 - mmdet - INFO - Epoch [3][10/979]\tlr: 1.200e-01, eta: 0:34:08, time: 0.502, data_time: 0.301, memory: 1952, loss_cls: 0.5901, loss_bbox: 0.7316, loss: 1.3217, grad_norm: 0.4243\n",
      "2023-05-11 07:48:17,354 - mmdet - INFO - Epoch [3][20/979]\tlr: 1.200e-01, eta: 0:34:06, time: 0.210, data_time: 0.014, memory: 1952, loss_cls: 0.5714, loss_bbox: 0.7473, loss: 1.3187, grad_norm: 0.4406\n",
      "2023-05-11 07:48:19,368 - mmdet - INFO - Epoch [3][30/979]\tlr: 1.200e-01, eta: 0:34:04, time: 0.201, data_time: 0.011, memory: 1952, loss_cls: 0.6156, loss_bbox: 0.6798, loss: 1.2954, grad_norm: 0.4104\n",
      "2023-05-11 07:48:21,472 - mmdet - INFO - Epoch [3][40/979]\tlr: 1.200e-01, eta: 0:34:02, time: 0.210, data_time: 0.010, memory: 1952, loss_cls: 0.5775, loss_bbox: 0.6601, loss: 1.2376, grad_norm: 0.3860\n",
      "2023-05-11 07:48:23,685 - mmdet - INFO - Epoch [3][50/979]\tlr: 1.200e-01, eta: 0:34:00, time: 0.221, data_time: 0.015, memory: 1952, loss_cls: 0.5887, loss_bbox: 0.8076, loss: 1.3963, grad_norm: 0.3762\n",
      "2023-05-11 07:48:25,247 - mmdet - INFO - Epoch [3][60/979]\tlr: 1.200e-01, eta: 0:33:56, time: 0.156, data_time: 0.011, memory: 1952, loss_cls: 0.6713, loss_bbox: 0.6549, loss: 1.3262, grad_norm: 0.5581\n",
      "2023-05-11 07:48:26,804 - mmdet - INFO - Epoch [3][70/979]\tlr: 1.200e-01, eta: 0:33:51, time: 0.156, data_time: 0.009, memory: 1952, loss_cls: 0.6129, loss_bbox: 0.7209, loss: 1.3338, grad_norm: 0.3794\n",
      "2023-05-11 07:48:29,010 - mmdet - INFO - Epoch [3][80/979]\tlr: 1.200e-01, eta: 0:33:49, time: 0.221, data_time: 0.016, memory: 1952, loss_cls: 0.6143, loss_bbox: 0.7979, loss: 1.4121, grad_norm: 0.3958\n",
      "2023-05-11 07:48:31,047 - mmdet - INFO - Epoch [3][90/979]\tlr: 1.200e-01, eta: 0:33:47, time: 0.204, data_time: 0.013, memory: 1952, loss_cls: 0.5996, loss_bbox: 0.7775, loss: 1.3770, grad_norm: 0.4932\n",
      "2023-05-11 07:48:32,992 - mmdet - INFO - Epoch [3][100/979]\tlr: 1.200e-01, eta: 0:33:44, time: 0.194, data_time: 0.013, memory: 1952, loss_cls: 0.5819, loss_bbox: 0.7520, loss: 1.3339, grad_norm: 0.5587\n",
      "2023-05-11 07:48:34,909 - mmdet - INFO - Epoch [3][110/979]\tlr: 1.200e-01, eta: 0:33:41, time: 0.192, data_time: 0.017, memory: 1952, loss_cls: 0.6217, loss_bbox: 0.6625, loss: 1.2842, grad_norm: 0.4578\n",
      "2023-05-11 07:48:36,995 - mmdet - INFO - Epoch [3][120/979]\tlr: 1.200e-01, eta: 0:33:39, time: 0.209, data_time: 0.015, memory: 1952, loss_cls: 0.5899, loss_bbox: 0.7373, loss: 1.3272, grad_norm: 0.4658\n",
      "2023-05-11 07:48:39,068 - mmdet - INFO - Epoch [3][130/979]\tlr: 1.200e-01, eta: 0:33:37, time: 0.207, data_time: 0.015, memory: 1952, loss_cls: 0.6076, loss_bbox: 0.8668, loss: 1.4744, grad_norm: 0.4428\n",
      "2023-05-11 07:48:41,169 - mmdet - INFO - Epoch [3][140/979]\tlr: 1.200e-01, eta: 0:33:35, time: 0.210, data_time: 0.015, memory: 1952, loss_cls: 0.5718, loss_bbox: 0.7115, loss: 1.2833, grad_norm: 0.3684\n",
      "2023-05-11 07:48:43,549 - mmdet - INFO - Epoch [3][150/979]\tlr: 1.200e-01, eta: 0:33:34, time: 0.238, data_time: 0.019, memory: 1952, loss_cls: 0.5816, loss_bbox: 0.6858, loss: 1.2674, grad_norm: 0.4178\n",
      "2023-05-11 07:48:45,491 - mmdet - INFO - Epoch [3][160/979]\tlr: 1.200e-01, eta: 0:33:32, time: 0.194, data_time: 0.014, memory: 1952, loss_cls: 0.5968, loss_bbox: 0.6714, loss: 1.2682, grad_norm: 0.5049\n",
      "2023-05-11 07:48:47,713 - mmdet - INFO - Epoch [3][170/979]\tlr: 1.200e-01, eta: 0:33:30, time: 0.222, data_time: 0.015, memory: 1952, loss_cls: 0.5727, loss_bbox: 0.6194, loss: 1.1921, grad_norm: 0.4208\n",
      "2023-05-11 07:48:49,849 - mmdet - INFO - Epoch [3][180/979]\tlr: 1.200e-01, eta: 0:33:28, time: 0.214, data_time: 0.014, memory: 1952, loss_cls: 0.6068, loss_bbox: 0.7879, loss: 1.3948, grad_norm: 0.4644\n",
      "2023-05-11 07:48:51,893 - mmdet - INFO - Epoch [3][190/979]\tlr: 1.200e-01, eta: 0:33:26, time: 0.204, data_time: 0.014, memory: 1952, loss_cls: 0.5757, loss_bbox: 0.6937, loss: 1.2694, grad_norm: 0.4646\n",
      "2023-05-11 07:48:53,672 - mmdet - INFO - Epoch [3][200/979]\tlr: 1.200e-01, eta: 0:33:22, time: 0.178, data_time: 0.012, memory: 1952, loss_cls: 0.5968, loss_bbox: 0.7305, loss: 1.3273, grad_norm: 0.5075\n",
      "2023-05-11 07:48:55,990 - mmdet - INFO - Epoch [3][210/979]\tlr: 1.200e-01, eta: 0:33:21, time: 0.232, data_time: 0.014, memory: 1952, loss_cls: 0.6002, loss_bbox: 0.7088, loss: 1.3090, grad_norm: 0.4654\n",
      "2023-05-11 07:48:58,089 - mmdet - INFO - Epoch [3][220/979]\tlr: 1.200e-01, eta: 0:33:19, time: 0.210, data_time: 0.017, memory: 1952, loss_cls: 0.6036, loss_bbox: 0.6615, loss: 1.2651, grad_norm: 0.4548\n",
      "2023-05-11 07:49:00,131 - mmdet - INFO - Epoch [3][230/979]\tlr: 1.200e-01, eta: 0:33:17, time: 0.204, data_time: 0.014, memory: 1952, loss_cls: 0.5837, loss_bbox: 0.7725, loss: 1.3562, grad_norm: 0.5327\n",
      "2023-05-11 07:49:02,269 - mmdet - INFO - Epoch [3][240/979]\tlr: 1.200e-01, eta: 0:33:15, time: 0.214, data_time: 0.016, memory: 1952, loss_cls: 0.5701, loss_bbox: 0.7832, loss: 1.3533, grad_norm: 0.4246\n",
      "2023-05-11 07:49:04,369 - mmdet - INFO - Epoch [3][250/979]\tlr: 1.200e-01, eta: 0:33:13, time: 0.210, data_time: 0.013, memory: 1952, loss_cls: 0.6009, loss_bbox: 0.6691, loss: 1.2700, grad_norm: 0.5918\n",
      "2023-05-11 07:49:06,380 - mmdet - INFO - Epoch [3][260/979]\tlr: 1.200e-01, eta: 0:33:11, time: 0.201, data_time: 0.013, memory: 1952, loss_cls: 0.6014, loss_bbox: 0.7359, loss: 1.3372, grad_norm: 0.4630\n",
      "2023-05-11 07:49:08,547 - mmdet - INFO - Epoch [3][270/979]\tlr: 1.200e-01, eta: 0:33:09, time: 0.217, data_time: 0.014, memory: 1952, loss_cls: 0.5911, loss_bbox: 0.6927, loss: 1.2837, grad_norm: 0.4784\n",
      "2023-05-11 07:49:10,570 - mmdet - INFO - Epoch [3][280/979]\tlr: 1.200e-01, eta: 0:33:07, time: 0.202, data_time: 0.012, memory: 1952, loss_cls: 0.5780, loss_bbox: 0.7170, loss: 1.2949, grad_norm: 0.4911\n",
      "2023-05-11 07:49:12,630 - mmdet - INFO - Epoch [3][290/979]\tlr: 1.200e-01, eta: 0:33:04, time: 0.206, data_time: 0.017, memory: 1952, loss_cls: 0.5949, loss_bbox: 0.7376, loss: 1.3325, grad_norm: 0.4415\n",
      "2023-05-11 07:49:14,689 - mmdet - INFO - Epoch [3][300/979]\tlr: 1.200e-01, eta: 0:33:02, time: 0.206, data_time: 0.019, memory: 1952, loss_cls: 0.6312, loss_bbox: 0.7134, loss: 1.3445, grad_norm: 0.6290\n",
      "2023-05-11 07:49:16,751 - mmdet - INFO - Epoch [3][310/979]\tlr: 1.200e-01, eta: 0:33:00, time: 0.206, data_time: 0.016, memory: 1952, loss_cls: 0.6054, loss_bbox: 0.7313, loss: 1.3367, grad_norm: 0.4413\n",
      "2023-05-11 07:49:18,838 - mmdet - INFO - Epoch [3][320/979]\tlr: 1.200e-01, eta: 0:32:58, time: 0.209, data_time: 0.015, memory: 1952, loss_cls: 0.6138, loss_bbox: 0.7522, loss: 1.3660, grad_norm: 0.4101\n",
      "2023-05-11 07:49:20,838 - mmdet - INFO - Epoch [3][330/979]\tlr: 1.200e-01, eta: 0:32:55, time: 0.200, data_time: 0.017, memory: 1952, loss_cls: 0.5584, loss_bbox: 0.7819, loss: 1.3403, grad_norm: 0.4753\n",
      "2023-05-11 07:49:22,903 - mmdet - INFO - Epoch [3][340/979]\tlr: 1.200e-01, eta: 0:32:53, time: 0.206, data_time: 0.013, memory: 1952, loss_cls: 0.5780, loss_bbox: 0.7768, loss: 1.3548, grad_norm: 0.4909\n",
      "2023-05-11 07:49:25,046 - mmdet - INFO - Epoch [3][350/979]\tlr: 1.200e-01, eta: 0:32:51, time: 0.214, data_time: 0.014, memory: 1952, loss_cls: 0.5989, loss_bbox: 0.7100, loss: 1.3090, grad_norm: 0.5485\n",
      "2023-05-11 07:49:27,045 - mmdet - INFO - Epoch [3][360/979]\tlr: 1.200e-01, eta: 0:32:49, time: 0.200, data_time: 0.013, memory: 1952, loss_cls: 0.6179, loss_bbox: 0.7233, loss: 1.3412, grad_norm: 0.4980\n",
      "2023-05-11 07:49:29,109 - mmdet - INFO - Epoch [3][370/979]\tlr: 1.200e-01, eta: 0:32:47, time: 0.206, data_time: 0.014, memory: 1952, loss_cls: 0.6023, loss_bbox: 0.7041, loss: 1.3064, grad_norm: 0.5511\n",
      "2023-05-11 07:49:31,177 - mmdet - INFO - Epoch [3][380/979]\tlr: 1.200e-01, eta: 0:32:44, time: 0.207, data_time: 0.013, memory: 1952, loss_cls: 0.5684, loss_bbox: 0.7371, loss: 1.3055, grad_norm: 0.4447\n",
      "2023-05-11 07:49:33,276 - mmdet - INFO - Epoch [3][390/979]\tlr: 1.200e-01, eta: 0:32:42, time: 0.210, data_time: 0.015, memory: 1952, loss_cls: 0.5882, loss_bbox: 0.7577, loss: 1.3459, grad_norm: 0.4343\n",
      "2023-05-11 07:49:35,429 - mmdet - INFO - Epoch [3][400/979]\tlr: 1.200e-01, eta: 0:32:41, time: 0.215, data_time: 0.014, memory: 1952, loss_cls: 0.5864, loss_bbox: 0.7272, loss: 1.3136, grad_norm: 0.4421\n",
      "2023-05-11 07:49:37,385 - mmdet - INFO - Epoch [3][410/979]\tlr: 1.200e-01, eta: 0:32:38, time: 0.196, data_time: 0.017, memory: 1952, loss_cls: 0.5900, loss_bbox: 0.7382, loss: 1.3282, grad_norm: 0.4723\n",
      "2023-05-11 07:49:39,393 - mmdet - INFO - Epoch [3][420/979]\tlr: 1.200e-01, eta: 0:32:36, time: 0.201, data_time: 0.015, memory: 1952, loss_cls: 0.5970, loss_bbox: 0.6115, loss: 1.2084, grad_norm: 0.6432\n",
      "2023-05-11 07:49:41,611 - mmdet - INFO - Epoch [3][430/979]\tlr: 1.200e-01, eta: 0:32:34, time: 0.222, data_time: 0.017, memory: 1952, loss_cls: 0.5572, loss_bbox: 0.7056, loss: 1.2629, grad_norm: 0.6007\n",
      "2023-05-11 07:49:43,732 - mmdet - INFO - Epoch [3][440/979]\tlr: 1.200e-01, eta: 0:32:32, time: 0.212, data_time: 0.012, memory: 1952, loss_cls: 0.5695, loss_bbox: 0.7180, loss: 1.2875, grad_norm: 0.4807\n",
      "2023-05-11 07:49:45,962 - mmdet - INFO - Epoch [3][450/979]\tlr: 1.200e-01, eta: 0:32:30, time: 0.223, data_time: 0.013, memory: 1952, loss_cls: 0.5877, loss_bbox: 0.6620, loss: 1.2498, grad_norm: 0.4568\n",
      "2023-05-11 07:49:48,092 - mmdet - INFO - Epoch [3][460/979]\tlr: 1.200e-01, eta: 0:32:29, time: 0.212, data_time: 0.018, memory: 1952, loss_cls: 0.5769, loss_bbox: 0.6765, loss: 1.2534, grad_norm: 0.4975\n",
      "2023-05-11 07:49:50,242 - mmdet - INFO - Epoch [3][470/979]\tlr: 1.200e-01, eta: 0:32:27, time: 0.216, data_time: 0.017, memory: 1952, loss_cls: 0.6136, loss_bbox: 0.7748, loss: 1.3884, grad_norm: 0.5226\n",
      "2023-05-11 07:49:52,412 - mmdet - INFO - Epoch [3][480/979]\tlr: 1.200e-01, eta: 0:32:25, time: 0.217, data_time: 0.017, memory: 1952, loss_cls: 0.6252, loss_bbox: 0.6814, loss: 1.3067, grad_norm: 0.4776\n",
      "2023-05-11 07:49:54,475 - mmdet - INFO - Epoch [3][490/979]\tlr: 1.200e-01, eta: 0:32:23, time: 0.206, data_time: 0.015, memory: 1952, loss_cls: 0.5869, loss_bbox: 0.6717, loss: 1.2586, grad_norm: 0.4989\n",
      "2023-05-11 07:49:56,515 - mmdet - INFO - Epoch [3][500/979]\tlr: 1.200e-01, eta: 0:32:20, time: 0.204, data_time: 0.012, memory: 1952, loss_cls: 0.6002, loss_bbox: 0.6860, loss: 1.2862, grad_norm: 0.5271\n",
      "2023-05-11 07:49:58,810 - mmdet - INFO - Epoch [3][510/979]\tlr: 1.200e-01, eta: 0:32:19, time: 0.230, data_time: 0.016, memory: 1952, loss_cls: 0.5990, loss_bbox: 0.7582, loss: 1.3572, grad_norm: 0.5774\n",
      "2023-05-11 07:50:00,757 - mmdet - INFO - Epoch [3][520/979]\tlr: 1.200e-01, eta: 0:32:17, time: 0.195, data_time: 0.017, memory: 1952, loss_cls: 0.5823, loss_bbox: 0.7194, loss: 1.3017, grad_norm: 0.4706\n",
      "2023-05-11 07:50:02,784 - mmdet - INFO - Epoch [3][530/979]\tlr: 1.200e-01, eta: 0:32:14, time: 0.203, data_time: 0.013, memory: 1952, loss_cls: 0.6196, loss_bbox: 0.6471, loss: 1.2667, grad_norm: 0.5575\n",
      "2023-05-11 07:50:04,854 - mmdet - INFO - Epoch [3][540/979]\tlr: 1.200e-01, eta: 0:32:12, time: 0.207, data_time: 0.018, memory: 1952, loss_cls: 0.5840, loss_bbox: 0.7815, loss: 1.3655, grad_norm: 0.4497\n",
      "2023-05-11 07:50:06,901 - mmdet - INFO - Epoch [3][550/979]\tlr: 1.200e-01, eta: 0:32:10, time: 0.205, data_time: 0.012, memory: 1952, loss_cls: 0.6009, loss_bbox: 0.8336, loss: 1.4345, grad_norm: 0.4939\n",
      "2023-05-11 07:50:08,969 - mmdet - INFO - Epoch [3][560/979]\tlr: 1.200e-01, eta: 0:32:08, time: 0.207, data_time: 0.022, memory: 1952, loss_cls: 0.5833, loss_bbox: 0.6825, loss: 1.2658, grad_norm: 0.4902\n",
      "2023-05-11 07:50:11,101 - mmdet - INFO - Epoch [3][570/979]\tlr: 1.200e-01, eta: 0:32:06, time: 0.213, data_time: 0.017, memory: 1952, loss_cls: 0.5962, loss_bbox: 0.7077, loss: 1.3039, grad_norm: 0.5290\n",
      "2023-05-11 07:50:13,237 - mmdet - INFO - Epoch [3][580/979]\tlr: 1.200e-01, eta: 0:32:04, time: 0.214, data_time: 0.019, memory: 1952, loss_cls: 0.6120, loss_bbox: 0.7427, loss: 1.3546, grad_norm: 0.5239\n",
      "2023-05-11 07:50:15,137 - mmdet - INFO - Epoch [3][590/979]\tlr: 1.200e-01, eta: 0:32:01, time: 0.190, data_time: 0.014, memory: 1952, loss_cls: 0.6127, loss_bbox: 0.7215, loss: 1.3342, grad_norm: 0.5824\n",
      "2023-05-11 07:50:17,192 - mmdet - INFO - Epoch [3][600/979]\tlr: 1.200e-01, eta: 0:31:59, time: 0.205, data_time: 0.015, memory: 1952, loss_cls: 0.6017, loss_bbox: 0.6724, loss: 1.2741, grad_norm: 0.5283\n",
      "2023-05-11 07:50:19,239 - mmdet - INFO - Epoch [3][610/979]\tlr: 1.200e-01, eta: 0:31:57, time: 0.205, data_time: 0.015, memory: 1952, loss_cls: 0.6244, loss_bbox: 0.7145, loss: 1.3390, grad_norm: 0.5710\n",
      "2023-05-11 07:50:21,306 - mmdet - INFO - Epoch [3][620/979]\tlr: 1.200e-01, eta: 0:31:54, time: 0.207, data_time: 0.014, memory: 1952, loss_cls: 0.5788, loss_bbox: 0.7924, loss: 1.3711, grad_norm: 0.4305\n",
      "2023-05-11 07:50:23,208 - mmdet - INFO - Epoch [3][630/979]\tlr: 1.200e-01, eta: 0:31:52, time: 0.190, data_time: 0.014, memory: 1952, loss_cls: 0.6037, loss_bbox: 0.7432, loss: 1.3469, grad_norm: 0.4724\n",
      "2023-05-11 07:50:25,247 - mmdet - INFO - Epoch [3][640/979]\tlr: 1.200e-01, eta: 0:31:49, time: 0.204, data_time: 0.017, memory: 1952, loss_cls: 0.5731, loss_bbox: 0.7703, loss: 1.3434, grad_norm: 0.4754\n",
      "2023-05-11 07:50:27,400 - mmdet - INFO - Epoch [3][650/979]\tlr: 1.200e-01, eta: 0:31:48, time: 0.215, data_time: 0.014, memory: 1952, loss_cls: 0.5963, loss_bbox: 0.7547, loss: 1.3510, grad_norm: 0.4355\n",
      "2023-05-11 07:50:29,729 - mmdet - INFO - Epoch [3][660/979]\tlr: 1.200e-01, eta: 0:31:46, time: 0.233, data_time: 0.015, memory: 1952, loss_cls: 0.5996, loss_bbox: 0.7834, loss: 1.3830, grad_norm: 0.5198\n",
      "2023-05-11 07:50:31,755 - mmdet - INFO - Epoch [3][670/979]\tlr: 1.200e-01, eta: 0:31:44, time: 0.203, data_time: 0.014, memory: 1952, loss_cls: 0.5807, loss_bbox: 0.6563, loss: 1.2369, grad_norm: 0.5478\n",
      "2023-05-11 07:50:33,829 - mmdet - INFO - Epoch [3][680/979]\tlr: 1.200e-01, eta: 0:31:42, time: 0.207, data_time: 0.013, memory: 1952, loss_cls: 0.6030, loss_bbox: 0.7396, loss: 1.3426, grad_norm: 0.5432\n",
      "2023-05-11 07:50:35,822 - mmdet - INFO - Epoch [3][690/979]\tlr: 1.200e-01, eta: 0:31:39, time: 0.199, data_time: 0.015, memory: 1952, loss_cls: 0.5497, loss_bbox: 0.8954, loss: 1.4451, grad_norm: 0.3957\n",
      "2023-05-11 07:50:37,917 - mmdet - INFO - Epoch [3][700/979]\tlr: 1.200e-01, eta: 0:31:37, time: 0.209, data_time: 0.017, memory: 1952, loss_cls: 0.5922, loss_bbox: 0.7939, loss: 1.3862, grad_norm: 0.4721\n",
      "2023-05-11 07:50:40,183 - mmdet - INFO - Epoch [3][710/979]\tlr: 1.200e-01, eta: 0:31:36, time: 0.226, data_time: 0.019, memory: 1952, loss_cls: 0.5875, loss_bbox: 0.7992, loss: 1.3867, grad_norm: 0.4697\n",
      "2023-05-11 07:50:42,167 - mmdet - INFO - Epoch [3][720/979]\tlr: 1.200e-01, eta: 0:31:33, time: 0.198, data_time: 0.015, memory: 1952, loss_cls: 0.6151, loss_bbox: 0.6265, loss: 1.2415, grad_norm: 0.5783\n",
      "2023-05-11 07:50:44,181 - mmdet - INFO - Epoch [3][730/979]\tlr: 1.200e-01, eta: 0:31:31, time: 0.201, data_time: 0.016, memory: 1952, loss_cls: 0.5831, loss_bbox: 0.7259, loss: 1.3090, grad_norm: 0.5326\n",
      "2023-05-11 07:50:46,008 - mmdet - INFO - Epoch [3][740/979]\tlr: 1.200e-01, eta: 0:31:28, time: 0.183, data_time: 0.014, memory: 1952, loss_cls: 0.6045, loss_bbox: 0.7090, loss: 1.3135, grad_norm: 0.5515\n",
      "2023-05-11 07:50:47,871 - mmdet - INFO - Epoch [3][750/979]\tlr: 1.200e-01, eta: 0:31:25, time: 0.186, data_time: 0.015, memory: 1952, loss_cls: 0.5743, loss_bbox: 0.7181, loss: 1.2924, grad_norm: 0.4456\n",
      "2023-05-11 07:50:50,078 - mmdet - INFO - Epoch [3][760/979]\tlr: 1.200e-01, eta: 0:31:24, time: 0.221, data_time: 0.018, memory: 1952, loss_cls: 0.6013, loss_bbox: 0.6724, loss: 1.2736, grad_norm: 0.5944\n",
      "2023-05-11 07:50:52,108 - mmdet - INFO - Epoch [3][770/979]\tlr: 1.200e-01, eta: 0:31:21, time: 0.203, data_time: 0.014, memory: 1952, loss_cls: 0.5583, loss_bbox: 0.6820, loss: 1.2402, grad_norm: 0.4377\n",
      "2023-05-11 07:50:54,185 - mmdet - INFO - Epoch [3][780/979]\tlr: 1.200e-01, eta: 0:31:19, time: 0.208, data_time: 0.016, memory: 1952, loss_cls: 0.5815, loss_bbox: 0.7424, loss: 1.3239, grad_norm: 0.4111\n",
      "2023-05-11 07:50:56,326 - mmdet - INFO - Epoch [3][790/979]\tlr: 1.200e-01, eta: 0:31:17, time: 0.214, data_time: 0.015, memory: 1952, loss_cls: 0.5567, loss_bbox: 0.7876, loss: 1.3443, grad_norm: 0.4708\n",
      "2023-05-11 07:50:58,299 - mmdet - INFO - Epoch [3][800/979]\tlr: 1.200e-01, eta: 0:31:15, time: 0.197, data_time: 0.013, memory: 1952, loss_cls: 0.5795, loss_bbox: 0.7150, loss: 1.2945, grad_norm: 0.4652\n",
      "2023-05-11 07:51:00,275 - mmdet - INFO - Epoch [3][810/979]\tlr: 1.200e-01, eta: 0:31:12, time: 0.197, data_time: 0.016, memory: 1952, loss_cls: 0.5842, loss_bbox: 0.6382, loss: 1.2224, grad_norm: 0.6307\n",
      "2023-05-11 07:51:02,441 - mmdet - INFO - Epoch [3][820/979]\tlr: 1.200e-01, eta: 0:31:11, time: 0.217, data_time: 0.016, memory: 1952, loss_cls: 0.5886, loss_bbox: 0.7099, loss: 1.2985, grad_norm: 0.4803\n",
      "2023-05-11 07:51:04,567 - mmdet - INFO - Epoch [3][830/979]\tlr: 1.200e-01, eta: 0:31:09, time: 0.213, data_time: 0.017, memory: 1952, loss_cls: 0.5687, loss_bbox: 0.6791, loss: 1.2478, grad_norm: 0.4781\n",
      "2023-05-11 07:51:06,665 - mmdet - INFO - Epoch [3][840/979]\tlr: 1.200e-01, eta: 0:31:07, time: 0.210, data_time: 0.015, memory: 1952, loss_cls: 0.5536, loss_bbox: 0.8068, loss: 1.3604, grad_norm: 0.4150\n",
      "2023-05-11 07:51:08,727 - mmdet - INFO - Epoch [3][850/979]\tlr: 1.200e-01, eta: 0:31:04, time: 0.206, data_time: 0.023, memory: 1952, loss_cls: 0.5483, loss_bbox: 0.6800, loss: 1.2283, grad_norm: 0.4833\n",
      "2023-05-11 07:51:10,671 - mmdet - INFO - Epoch [3][860/979]\tlr: 1.200e-01, eta: 0:31:02, time: 0.194, data_time: 0.013, memory: 1952, loss_cls: 0.5455, loss_bbox: 0.8567, loss: 1.4022, grad_norm: 0.5033\n",
      "2023-05-11 07:51:12,747 - mmdet - INFO - Epoch [3][870/979]\tlr: 1.200e-01, eta: 0:31:00, time: 0.208, data_time: 0.018, memory: 1952, loss_cls: 0.5877, loss_bbox: 0.6982, loss: 1.2858, grad_norm: 0.5821\n",
      "2023-05-11 07:51:14,903 - mmdet - INFO - Epoch [3][880/979]\tlr: 1.200e-01, eta: 0:30:58, time: 0.216, data_time: 0.016, memory: 1952, loss_cls: 0.6055, loss_bbox: 0.7468, loss: 1.3523, grad_norm: 0.5486\n",
      "2023-05-11 07:51:16,846 - mmdet - INFO - Epoch [3][890/979]\tlr: 1.200e-01, eta: 0:30:55, time: 0.194, data_time: 0.015, memory: 1952, loss_cls: 0.6005, loss_bbox: 0.6956, loss: 1.2961, grad_norm: 0.5290\n",
      "2023-05-11 07:51:19,055 - mmdet - INFO - Epoch [3][900/979]\tlr: 1.200e-01, eta: 0:30:54, time: 0.221, data_time: 0.016, memory: 1952, loss_cls: 0.5531, loss_bbox: 0.7168, loss: 1.2699, grad_norm: 0.4810\n",
      "2023-05-11 07:51:21,120 - mmdet - INFO - Epoch [3][910/979]\tlr: 1.200e-01, eta: 0:30:51, time: 0.206, data_time: 0.013, memory: 1952, loss_cls: 0.5781, loss_bbox: 0.6807, loss: 1.2588, grad_norm: 0.5191\n",
      "2023-05-11 07:51:23,113 - mmdet - INFO - Epoch [3][920/979]\tlr: 1.200e-01, eta: 0:30:49, time: 0.199, data_time: 0.021, memory: 1952, loss_cls: 0.5717, loss_bbox: 0.7534, loss: 1.3251, grad_norm: 0.4758\n",
      "2023-05-11 07:51:25,306 - mmdet - INFO - Epoch [3][930/979]\tlr: 1.200e-01, eta: 0:30:47, time: 0.219, data_time: 0.017, memory: 1952, loss_cls: 0.5806, loss_bbox: 0.7356, loss: 1.3161, grad_norm: 0.4611\n",
      "2023-05-11 07:51:27,313 - mmdet - INFO - Epoch [3][940/979]\tlr: 1.200e-01, eta: 0:30:45, time: 0.201, data_time: 0.012, memory: 1952, loss_cls: 0.5330, loss_bbox: 0.8461, loss: 1.3791, grad_norm: 0.4105\n",
      "2023-05-11 07:51:29,336 - mmdet - INFO - Epoch [3][950/979]\tlr: 1.200e-01, eta: 0:30:43, time: 0.202, data_time: 0.015, memory: 1952, loss_cls: 0.5963, loss_bbox: 0.6783, loss: 1.2746, grad_norm: 0.5945\n",
      "2023-05-11 07:51:31,196 - mmdet - INFO - Epoch [3][960/979]\tlr: 1.200e-01, eta: 0:30:40, time: 0.186, data_time: 0.012, memory: 1952, loss_cls: 0.6004, loss_bbox: 0.6662, loss: 1.2666, grad_norm: 0.5203\n",
      "2023-05-11 07:51:33,191 - mmdet - INFO - Epoch [3][970/979]\tlr: 1.200e-01, eta: 0:30:38, time: 0.199, data_time: 0.014, memory: 1952, loss_cls: 0.5654, loss_bbox: 0.8021, loss: 1.3676, grad_norm: 0.4204\n",
      "2023-05-11 07:51:35,124 - mmdet - INFO - Saving checkpoint at 3 epochs\n"
     ]
    },
    {
     "name": "stdout",
     "output_type": "stream",
     "text": [
      "[>>>>>>>>>>>>>>>>>>>>>>>>>>>>>] 969/969, 29.9 task/s, elapsed: 32s, ETA:     0s"
     ]
    },
    {
     "name": "stderr",
     "output_type": "stream",
     "text": [
      "2023-05-11 07:52:11,183 - mmdet - INFO - Evaluating bbox...\n"
     ]
    },
    {
     "name": "stdout",
     "output_type": "stream",
     "text": [
      "Loading and preparing results...\n",
      "DONE (t=0.41s)\n",
      "creating index...\n",
      "index created!\n",
      "Running per image evaluation...\n",
      "Evaluate annotation type *bbox*\n",
      "DONE (t=5.41s).\n",
      "Accumulating evaluation results...\n"
     ]
    },
    {
     "name": "stderr",
     "output_type": "stream",
     "text": [
      "2023-05-11 07:52:20,552 - mmdet - INFO - \n",
      " Average Precision  (AP) @[ IoU=0.50:0.95 | area=   all | maxDets=100 ] = 0.004\n",
      " Average Precision  (AP) @[ IoU=0.50      | area=   all | maxDets=1000 ] = 0.016\n",
      " Average Precision  (AP) @[ IoU=0.75      | area=   all | maxDets=1000 ] = 0.000\n",
      " Average Precision  (AP) @[ IoU=0.50:0.95 | area= small | maxDets=1000 ] = 0.000\n",
      " Average Precision  (AP) @[ IoU=0.50:0.95 | area=medium | maxDets=1000 ] = 0.000\n",
      " Average Precision  (AP) @[ IoU=0.50:0.95 | area= large | maxDets=1000 ] = 0.005\n",
      " Average Recall     (AR) @[ IoU=0.50:0.95 | area=   all | maxDets=100 ] = 0.070\n",
      " Average Recall     (AR) @[ IoU=0.50:0.95 | area=   all | maxDets=300 ] = 0.070\n",
      " Average Recall     (AR) @[ IoU=0.50:0.95 | area=   all | maxDets=1000 ] = 0.070\n",
      " Average Recall     (AR) @[ IoU=0.50:0.95 | area= small | maxDets=1000 ] = 0.000\n",
      " Average Recall     (AR) @[ IoU=0.50:0.95 | area=medium | maxDets=1000 ] = 0.000\n",
      " Average Recall     (AR) @[ IoU=0.50:0.95 | area= large | maxDets=1000 ] = 0.091\n",
      "\n",
      "2023-05-11 07:52:20,701 - mmdet - INFO - Epoch(val) [3][969]\tbbox_mAP: 0.0040, bbox_mAP_50: 0.0160, bbox_mAP_75: 0.0000, bbox_mAP_s: 0.0000, bbox_mAP_m: 0.0000, bbox_mAP_l: 0.0050, bbox_mAP_copypaste: 0.004 0.016 0.000 0.000 0.000 0.005\n"
     ]
    },
    {
     "name": "stdout",
     "output_type": "stream",
     "text": [
      "DONE (t=2.87s).\n"
     ]
    },
    {
     "name": "stderr",
     "output_type": "stream",
     "text": [
      "2023-05-11 07:52:25,558 - mmdet - INFO - Epoch [4][10/979]\tlr: 1.200e-01, eta: 0:30:36, time: 0.484, data_time: 0.303, memory: 1952, loss_cls: 0.5915, loss_bbox: 0.7094, loss: 1.3009, grad_norm: 0.5874\n",
      "2023-05-11 07:52:27,443 - mmdet - INFO - Epoch [4][20/979]\tlr: 1.200e-01, eta: 0:30:34, time: 0.189, data_time: 0.013, memory: 1952, loss_cls: 0.5590, loss_bbox: 0.6972, loss: 1.2561, grad_norm: 0.4045\n",
      "2023-05-11 07:52:29,489 - mmdet - INFO - Epoch [4][30/979]\tlr: 1.200e-01, eta: 0:30:31, time: 0.205, data_time: 0.016, memory: 1952, loss_cls: 0.5674, loss_bbox: 0.7573, loss: 1.3247, grad_norm: 0.4483\n",
      "2023-05-11 07:52:31,320 - mmdet - INFO - Epoch [4][40/979]\tlr: 1.200e-01, eta: 0:30:29, time: 0.183, data_time: 0.010, memory: 1952, loss_cls: 0.5453, loss_bbox: 0.7191, loss: 1.2643, grad_norm: 0.4152\n",
      "2023-05-11 07:52:33,213 - mmdet - INFO - Epoch [4][50/979]\tlr: 1.200e-01, eta: 0:30:26, time: 0.189, data_time: 0.008, memory: 1952, loss_cls: 0.5712, loss_bbox: 0.7055, loss: 1.2767, grad_norm: 0.5206\n",
      "2023-05-11 07:52:35,467 - mmdet - INFO - Epoch [4][60/979]\tlr: 1.200e-01, eta: 0:30:24, time: 0.225, data_time: 0.019, memory: 1952, loss_cls: 0.5718, loss_bbox: 0.7690, loss: 1.3408, grad_norm: 0.4852\n",
      "2023-05-11 07:52:37,534 - mmdet - INFO - Epoch [4][70/979]\tlr: 1.200e-01, eta: 0:30:22, time: 0.207, data_time: 0.016, memory: 1952, loss_cls: 0.5793, loss_bbox: 0.6914, loss: 1.2707, grad_norm: 0.4502\n",
      "2023-05-11 07:52:39,605 - mmdet - INFO - Epoch [4][80/979]\tlr: 1.200e-01, eta: 0:30:20, time: 0.207, data_time: 0.017, memory: 1952, loss_cls: 0.5613, loss_bbox: 0.7508, loss: 1.3120, grad_norm: 0.3857\n",
      "2023-05-11 07:52:41,703 - mmdet - INFO - Epoch [4][90/979]\tlr: 1.200e-01, eta: 0:30:18, time: 0.210, data_time: 0.016, memory: 1952, loss_cls: 0.5914, loss_bbox: 0.6706, loss: 1.2620, grad_norm: 0.5516\n",
      "2023-05-11 07:52:43,655 - mmdet - INFO - Epoch [4][100/979]\tlr: 1.200e-01, eta: 0:30:16, time: 0.195, data_time: 0.011, memory: 1952, loss_cls: 0.5907, loss_bbox: 0.5575, loss: 1.1481, grad_norm: 0.6107\n",
      "2023-05-11 07:52:45,875 - mmdet - INFO - Epoch [4][110/979]\tlr: 1.200e-01, eta: 0:30:14, time: 0.221, data_time: 0.014, memory: 1952, loss_cls: 0.6203, loss_bbox: 0.7236, loss: 1.3440, grad_norm: 0.5436\n",
      "2023-05-11 07:52:47,931 - mmdet - INFO - Epoch [4][120/979]\tlr: 1.200e-01, eta: 0:30:12, time: 0.207, data_time: 0.013, memory: 1952, loss_cls: 0.5147, loss_bbox: 0.7050, loss: 1.2197, grad_norm: 0.5063\n",
      "2023-05-11 07:52:50,092 - mmdet - INFO - Epoch [4][130/979]\tlr: 1.200e-01, eta: 0:30:10, time: 0.216, data_time: 0.014, memory: 1952, loss_cls: 0.5941, loss_bbox: 0.7323, loss: 1.3264, grad_norm: 0.5140\n",
      "2023-05-11 07:52:52,195 - mmdet - INFO - Epoch [4][140/979]\tlr: 1.200e-01, eta: 0:30:08, time: 0.210, data_time: 0.012, memory: 1952, loss_cls: 0.5725, loss_bbox: 0.7027, loss: 1.2751, grad_norm: 0.4716\n",
      "2023-05-11 07:52:54,301 - mmdet - INFO - Epoch [4][150/979]\tlr: 1.200e-01, eta: 0:30:06, time: 0.211, data_time: 0.017, memory: 1952, loss_cls: 0.5608, loss_bbox: 0.6365, loss: 1.1973, grad_norm: 0.5167\n",
      "2023-05-11 07:52:56,522 - mmdet - INFO - Epoch [4][160/979]\tlr: 1.200e-01, eta: 0:30:04, time: 0.222, data_time: 0.015, memory: 1952, loss_cls: 0.5773, loss_bbox: 0.7049, loss: 1.2822, grad_norm: 0.4608\n",
      "2023-05-11 07:52:58,581 - mmdet - INFO - Epoch [4][170/979]\tlr: 1.200e-01, eta: 0:30:02, time: 0.206, data_time: 0.015, memory: 1952, loss_cls: 0.5486, loss_bbox: 0.7260, loss: 1.2746, grad_norm: 0.4178\n",
      "2023-05-11 07:53:00,599 - mmdet - INFO - Epoch [4][180/979]\tlr: 1.200e-01, eta: 0:30:00, time: 0.202, data_time: 0.017, memory: 1952, loss_cls: 0.6003, loss_bbox: 0.6830, loss: 1.2833, grad_norm: 0.5186\n",
      "2023-05-11 07:53:02,542 - mmdet - INFO - Epoch [4][190/979]\tlr: 1.200e-01, eta: 0:29:57, time: 0.194, data_time: 0.017, memory: 1952, loss_cls: 0.5623, loss_bbox: 0.7021, loss: 1.2643, grad_norm: 0.5151\n",
      "2023-05-11 07:53:04,616 - mmdet - INFO - Epoch [4][200/979]\tlr: 1.200e-01, eta: 0:29:55, time: 0.207, data_time: 0.012, memory: 1952, loss_cls: 0.5929, loss_bbox: 0.7098, loss: 1.3027, grad_norm: 0.5426\n",
      "2023-05-11 07:53:06,680 - mmdet - INFO - Epoch [4][210/979]\tlr: 1.200e-01, eta: 0:29:53, time: 0.206, data_time: 0.014, memory: 1952, loss_cls: 0.5652, loss_bbox: 0.6959, loss: 1.2611, grad_norm: 0.5052\n",
      "2023-05-11 07:53:08,781 - mmdet - INFO - Epoch [4][220/979]\tlr: 1.200e-01, eta: 0:29:51, time: 0.210, data_time: 0.014, memory: 1952, loss_cls: 0.5695, loss_bbox: 0.6948, loss: 1.2643, grad_norm: 0.6264\n",
      "2023-05-11 07:53:10,630 - mmdet - INFO - Epoch [4][230/979]\tlr: 1.200e-01, eta: 0:29:48, time: 0.185, data_time: 0.011, memory: 1952, loss_cls: 0.5918, loss_bbox: 0.7739, loss: 1.3657, grad_norm: 0.6656\n",
      "2023-05-11 07:53:12,789 - mmdet - INFO - Epoch [4][240/979]\tlr: 1.200e-01, eta: 0:29:46, time: 0.216, data_time: 0.020, memory: 1952, loss_cls: 0.5593, loss_bbox: 0.8730, loss: 1.4323, grad_norm: 0.5117\n",
      "2023-05-11 07:53:14,689 - mmdet - INFO - Epoch [4][250/979]\tlr: 1.200e-01, eta: 0:29:44, time: 0.190, data_time: 0.015, memory: 1952, loss_cls: 0.5462, loss_bbox: 0.6959, loss: 1.2421, grad_norm: 0.5270\n",
      "2023-05-11 07:53:16,653 - mmdet - INFO - Epoch [4][260/979]\tlr: 1.200e-01, eta: 0:29:41, time: 0.196, data_time: 0.016, memory: 1952, loss_cls: 0.5922, loss_bbox: 0.7275, loss: 1.3197, grad_norm: 0.5833\n",
      "2023-05-11 07:53:18,566 - mmdet - INFO - Epoch [4][270/979]\tlr: 1.200e-01, eta: 0:29:39, time: 0.191, data_time: 0.013, memory: 1952, loss_cls: 0.5550, loss_bbox: 0.7491, loss: 1.3042, grad_norm: 0.4965\n",
      "2023-05-11 07:53:20,561 - mmdet - INFO - Epoch [4][280/979]\tlr: 1.200e-01, eta: 0:29:36, time: 0.199, data_time: 0.022, memory: 1952, loss_cls: 0.5734, loss_bbox: 0.8336, loss: 1.4070, grad_norm: 0.5878\n",
      "2023-05-11 07:53:22,598 - mmdet - INFO - Epoch [4][290/979]\tlr: 1.200e-01, eta: 0:29:34, time: 0.204, data_time: 0.014, memory: 1952, loss_cls: 0.5693, loss_bbox: 0.7395, loss: 1.3088, grad_norm: 0.5450\n",
      "2023-05-11 07:53:24,678 - mmdet - INFO - Epoch [4][300/979]\tlr: 1.200e-01, eta: 0:29:32, time: 0.208, data_time: 0.013, memory: 1952, loss_cls: 0.5782, loss_bbox: 0.8737, loss: 1.4519, grad_norm: 0.5051\n",
      "2023-05-11 07:53:26,773 - mmdet - INFO - Epoch [4][310/979]\tlr: 1.200e-01, eta: 0:29:30, time: 0.209, data_time: 0.018, memory: 1952, loss_cls: 0.5745, loss_bbox: 0.7342, loss: 1.3088, grad_norm: 0.5037\n",
      "2023-05-11 07:53:29,010 - mmdet - INFO - Epoch [4][320/979]\tlr: 1.200e-01, eta: 0:29:28, time: 0.224, data_time: 0.014, memory: 1952, loss_cls: 0.5558, loss_bbox: 0.7345, loss: 1.2903, grad_norm: 0.5167\n",
      "2023-05-11 07:53:31,135 - mmdet - INFO - Epoch [4][330/979]\tlr: 1.200e-01, eta: 0:29:26, time: 0.212, data_time: 0.017, memory: 1952, loss_cls: 0.5723, loss_bbox: 0.7317, loss: 1.3040, grad_norm: 0.5958\n",
      "2023-05-11 07:53:33,184 - mmdet - INFO - Epoch [4][340/979]\tlr: 1.200e-01, eta: 0:29:24, time: 0.205, data_time: 0.018, memory: 1952, loss_cls: 0.5481, loss_bbox: 0.7799, loss: 1.3280, grad_norm: 0.4761\n",
      "2023-05-11 07:53:35,170 - mmdet - INFO - Epoch [4][350/979]\tlr: 1.200e-01, eta: 0:29:22, time: 0.199, data_time: 0.012, memory: 1952, loss_cls: 0.6080, loss_bbox: 0.6385, loss: 1.2465, grad_norm: 0.5790\n",
      "2023-05-11 07:53:37,318 - mmdet - INFO - Epoch [4][360/979]\tlr: 1.200e-01, eta: 0:29:20, time: 0.215, data_time: 0.018, memory: 1952, loss_cls: 0.5916, loss_bbox: 0.6429, loss: 1.2345, grad_norm: 0.6029\n",
      "2023-05-11 07:53:39,363 - mmdet - INFO - Epoch [4][370/979]\tlr: 1.200e-01, eta: 0:29:18, time: 0.204, data_time: 0.010, memory: 1952, loss_cls: 0.5761, loss_bbox: 0.8273, loss: 1.4034, grad_norm: 0.4903\n",
      "2023-05-11 07:53:41,603 - mmdet - INFO - Epoch [4][380/979]\tlr: 1.200e-01, eta: 0:29:16, time: 0.224, data_time: 0.014, memory: 1952, loss_cls: 0.5584, loss_bbox: 0.7934, loss: 1.3518, grad_norm: 0.4651\n",
      "2023-05-11 07:53:43,793 - mmdet - INFO - Epoch [4][390/979]\tlr: 1.200e-01, eta: 0:29:14, time: 0.219, data_time: 0.014, memory: 1952, loss_cls: 0.5615, loss_bbox: 0.7879, loss: 1.3494, grad_norm: 0.5885\n",
      "2023-05-11 07:53:46,105 - mmdet - INFO - Epoch [4][400/979]\tlr: 1.200e-01, eta: 0:29:13, time: 0.231, data_time: 0.013, memory: 1952, loss_cls: 0.5411, loss_bbox: 0.7072, loss: 1.2483, grad_norm: 0.5223\n",
      "2023-05-11 07:53:48,370 - mmdet - INFO - Epoch [4][410/979]\tlr: 1.200e-01, eta: 0:29:11, time: 0.226, data_time: 0.013, memory: 1952, loss_cls: 0.5511, loss_bbox: 0.6359, loss: 1.1870, grad_norm: 0.5531\n",
      "2023-05-11 07:53:50,516 - mmdet - INFO - Epoch [4][420/979]\tlr: 1.200e-01, eta: 0:29:09, time: 0.215, data_time: 0.018, memory: 1952, loss_cls: 0.5954, loss_bbox: 0.7670, loss: 1.3623, grad_norm: 0.6062\n",
      "2023-05-11 07:53:52,439 - mmdet - INFO - Epoch [4][430/979]\tlr: 1.200e-01, eta: 0:29:07, time: 0.192, data_time: 0.013, memory: 1952, loss_cls: 0.5634, loss_bbox: 0.7435, loss: 1.3069, grad_norm: 0.5002\n",
      "2023-05-11 07:53:54,483 - mmdet - INFO - Epoch [4][440/979]\tlr: 1.200e-01, eta: 0:29:05, time: 0.204, data_time: 0.012, memory: 1952, loss_cls: 0.5625, loss_bbox: 0.6768, loss: 1.2393, grad_norm: 0.4897\n",
      "2023-05-11 07:53:56,275 - mmdet - INFO - Epoch [4][450/979]\tlr: 1.200e-01, eta: 0:29:02, time: 0.179, data_time: 0.012, memory: 1952, loss_cls: 0.5838, loss_bbox: 0.7423, loss: 1.3261, grad_norm: 0.5146\n",
      "2023-05-11 07:53:58,518 - mmdet - INFO - Epoch [4][460/979]\tlr: 1.200e-01, eta: 0:29:00, time: 0.224, data_time: 0.013, memory: 1952, loss_cls: 0.5818, loss_bbox: 0.7002, loss: 1.2820, grad_norm: 0.5368\n",
      "2023-05-11 07:54:00,487 - mmdet - INFO - Epoch [4][470/979]\tlr: 1.200e-01, eta: 0:28:58, time: 0.197, data_time: 0.013, memory: 1952, loss_cls: 0.5696, loss_bbox: 0.6189, loss: 1.1885, grad_norm: 0.6063\n",
      "2023-05-11 07:54:02,279 - mmdet - INFO - Epoch [4][480/979]\tlr: 1.200e-01, eta: 0:28:55, time: 0.179, data_time: 0.015, memory: 1952, loss_cls: 0.5527, loss_bbox: 0.6065, loss: 1.1592, grad_norm: 0.5917\n",
      "2023-05-11 07:54:04,455 - mmdet - INFO - Epoch [4][490/979]\tlr: 1.200e-01, eta: 0:28:53, time: 0.218, data_time: 0.015, memory: 1952, loss_cls: 0.5927, loss_bbox: 0.7471, loss: 1.3398, grad_norm: 0.5245\n",
      "2023-05-11 07:54:06,386 - mmdet - INFO - Epoch [4][500/979]\tlr: 1.200e-01, eta: 0:28:51, time: 0.193, data_time: 0.014, memory: 1952, loss_cls: 0.5766, loss_bbox: 0.7523, loss: 1.3289, grad_norm: 0.5636\n",
      "2023-05-11 07:54:08,423 - mmdet - INFO - Epoch [4][510/979]\tlr: 1.200e-01, eta: 0:28:48, time: 0.204, data_time: 0.015, memory: 1952, loss_cls: 0.5812, loss_bbox: 0.7321, loss: 1.3133, grad_norm: 0.5901\n",
      "2023-05-11 07:54:10,655 - mmdet - INFO - Epoch [4][520/979]\tlr: 1.200e-01, eta: 0:28:47, time: 0.223, data_time: 0.019, memory: 1952, loss_cls: 0.5723, loss_bbox: 0.7125, loss: 1.2848, grad_norm: 0.5161\n",
      "2023-05-11 07:54:12,678 - mmdet - INFO - Epoch [4][530/979]\tlr: 1.200e-01, eta: 0:28:44, time: 0.202, data_time: 0.016, memory: 1952, loss_cls: 0.5903, loss_bbox: 0.6560, loss: 1.2463, grad_norm: 0.5924\n",
      "2023-05-11 07:54:14,753 - mmdet - INFO - Epoch [4][540/979]\tlr: 1.200e-01, eta: 0:28:42, time: 0.208, data_time: 0.019, memory: 1952, loss_cls: 0.5529, loss_bbox: 0.7611, loss: 1.3139, grad_norm: 0.4744\n",
      "2023-05-11 07:54:16,815 - mmdet - INFO - Epoch [4][550/979]\tlr: 1.200e-01, eta: 0:28:40, time: 0.206, data_time: 0.016, memory: 1952, loss_cls: 0.5400, loss_bbox: 0.7306, loss: 1.2707, grad_norm: 0.5145\n",
      "2023-05-11 07:54:18,902 - mmdet - INFO - Epoch [4][560/979]\tlr: 1.200e-01, eta: 0:28:38, time: 0.209, data_time: 0.017, memory: 1952, loss_cls: 0.5511, loss_bbox: 0.8025, loss: 1.3537, grad_norm: 0.5788\n",
      "2023-05-11 07:54:20,995 - mmdet - INFO - Epoch [4][570/979]\tlr: 1.200e-01, eta: 0:28:36, time: 0.209, data_time: 0.021, memory: 1952, loss_cls: 0.5718, loss_bbox: 0.7699, loss: 1.3417, grad_norm: 0.5716\n",
      "2023-05-11 07:54:23,060 - mmdet - INFO - Epoch [4][580/979]\tlr: 1.200e-01, eta: 0:28:34, time: 0.207, data_time: 0.013, memory: 1952, loss_cls: 0.5827, loss_bbox: 0.6852, loss: 1.2679, grad_norm: 0.5722\n",
      "2023-05-11 07:54:25,075 - mmdet - INFO - Epoch [4][590/979]\tlr: 1.200e-01, eta: 0:28:32, time: 0.201, data_time: 0.013, memory: 1952, loss_cls: 0.5533, loss_bbox: 0.6666, loss: 1.2200, grad_norm: 0.5810\n",
      "2023-05-11 07:54:27,178 - mmdet - INFO - Epoch [4][600/979]\tlr: 1.200e-01, eta: 0:28:30, time: 0.210, data_time: 0.017, memory: 1952, loss_cls: 0.5889, loss_bbox: 0.6902, loss: 1.2791, grad_norm: 0.5759\n",
      "2023-05-11 07:54:28,925 - mmdet - INFO - Epoch [4][610/979]\tlr: 1.200e-01, eta: 0:28:27, time: 0.175, data_time: 0.013, memory: 1952, loss_cls: 0.5849, loss_bbox: 0.6358, loss: 1.2207, grad_norm: 0.7203\n",
      "2023-05-11 07:54:30,785 - mmdet - INFO - Epoch [4][620/979]\tlr: 1.200e-01, eta: 0:28:24, time: 0.186, data_time: 0.015, memory: 1952, loss_cls: 0.5726, loss_bbox: 0.6953, loss: 1.2678, grad_norm: 0.5294\n",
      "2023-05-11 07:54:32,778 - mmdet - INFO - Epoch [4][630/979]\tlr: 1.200e-01, eta: 0:28:22, time: 0.199, data_time: 0.014, memory: 1952, loss_cls: 0.5469, loss_bbox: 0.7137, loss: 1.2606, grad_norm: 0.5384\n",
      "2023-05-11 07:54:34,804 - mmdet - INFO - Epoch [4][640/979]\tlr: 1.200e-01, eta: 0:28:20, time: 0.203, data_time: 0.014, memory: 1952, loss_cls: 0.5588, loss_bbox: 0.6843, loss: 1.2432, grad_norm: 0.5714\n",
      "2023-05-11 07:54:36,995 - mmdet - INFO - Epoch [4][650/979]\tlr: 1.200e-01, eta: 0:28:18, time: 0.219, data_time: 0.012, memory: 1952, loss_cls: 0.5686, loss_bbox: 0.7129, loss: 1.2815, grad_norm: 0.5750\n",
      "2023-05-11 07:54:39,001 - mmdet - INFO - Epoch [4][660/979]\tlr: 1.200e-01, eta: 0:28:16, time: 0.201, data_time: 0.013, memory: 1952, loss_cls: 0.5476, loss_bbox: 0.5785, loss: 1.1261, grad_norm: 0.5761\n",
      "2023-05-11 07:54:41,143 - mmdet - INFO - Epoch [4][670/979]\tlr: 1.200e-01, eta: 0:28:14, time: 0.214, data_time: 0.020, memory: 1952, loss_cls: 0.5669, loss_bbox: 0.7212, loss: 1.2882, grad_norm: 0.5940\n",
      "2023-05-11 07:54:43,154 - mmdet - INFO - Epoch [4][680/979]\tlr: 1.200e-01, eta: 0:28:11, time: 0.201, data_time: 0.017, memory: 1952, loss_cls: 0.5613, loss_bbox: 0.6606, loss: 1.2220, grad_norm: 0.5514\n",
      "2023-05-11 07:54:45,226 - mmdet - INFO - Epoch [4][690/979]\tlr: 1.200e-01, eta: 0:28:09, time: 0.207, data_time: 0.015, memory: 1952, loss_cls: 0.5801, loss_bbox: 0.7755, loss: 1.3556, grad_norm: 0.4859\n",
      "2023-05-11 07:54:47,334 - mmdet - INFO - Epoch [4][700/979]\tlr: 1.200e-01, eta: 0:28:07, time: 0.211, data_time: 0.013, memory: 1952, loss_cls: 0.5847, loss_bbox: 0.6096, loss: 1.1944, grad_norm: 0.6918\n",
      "2023-05-11 07:54:49,332 - mmdet - INFO - Epoch [4][710/979]\tlr: 1.200e-01, eta: 0:28:05, time: 0.199, data_time: 0.015, memory: 1952, loss_cls: 0.5760, loss_bbox: 0.6670, loss: 1.2430, grad_norm: 0.5719\n",
      "2023-05-11 07:54:51,382 - mmdet - INFO - Epoch [4][720/979]\tlr: 1.200e-01, eta: 0:28:03, time: 0.205, data_time: 0.014, memory: 1952, loss_cls: 0.5386, loss_bbox: 0.6726, loss: 1.2112, grad_norm: 0.4811\n",
      "2023-05-11 07:54:53,545 - mmdet - INFO - Epoch [4][730/979]\tlr: 1.200e-01, eta: 0:28:01, time: 0.216, data_time: 0.013, memory: 1952, loss_cls: 0.5727, loss_bbox: 0.6827, loss: 1.2554, grad_norm: 0.5733\n",
      "2023-05-11 07:54:55,798 - mmdet - INFO - Epoch [4][740/979]\tlr: 1.200e-01, eta: 0:27:59, time: 0.225, data_time: 0.019, memory: 1952, loss_cls: 0.5843, loss_bbox: 0.6887, loss: 1.2730, grad_norm: 0.5311\n",
      "2023-05-11 07:54:57,916 - mmdet - INFO - Epoch [4][750/979]\tlr: 1.200e-01, eta: 0:27:57, time: 0.211, data_time: 0.014, memory: 1952, loss_cls: 0.5508, loss_bbox: 0.6733, loss: 1.2240, grad_norm: 0.5357\n",
      "2023-05-11 07:54:59,868 - mmdet - INFO - Epoch [4][760/979]\tlr: 1.200e-01, eta: 0:27:55, time: 0.196, data_time: 0.014, memory: 1952, loss_cls: 0.5889, loss_bbox: 0.7654, loss: 1.3543, grad_norm: 0.6348\n",
      "2023-05-11 07:55:01,578 - mmdet - INFO - Epoch [4][770/979]\tlr: 1.200e-01, eta: 0:27:52, time: 0.171, data_time: 0.009, memory: 1952, loss_cls: 0.5548, loss_bbox: 0.6871, loss: 1.2418, grad_norm: 0.4721\n",
      "2023-05-11 07:55:03,445 - mmdet - INFO - Epoch [4][780/979]\tlr: 1.200e-01, eta: 0:27:50, time: 0.187, data_time: 0.012, memory: 1952, loss_cls: 0.5667, loss_bbox: 0.8327, loss: 1.3993, grad_norm: 0.5486\n",
      "2023-05-11 07:55:05,414 - mmdet - INFO - Epoch [4][790/979]\tlr: 1.200e-01, eta: 0:27:47, time: 0.197, data_time: 0.014, memory: 1952, loss_cls: 0.5325, loss_bbox: 0.6851, loss: 1.2176, grad_norm: 0.5006\n",
      "2023-05-11 07:55:07,519 - mmdet - INFO - Epoch [4][800/979]\tlr: 1.200e-01, eta: 0:27:45, time: 0.210, data_time: 0.016, memory: 1952, loss_cls: 0.5688, loss_bbox: 0.6366, loss: 1.2054, grad_norm: 0.6091\n",
      "2023-05-11 07:55:09,582 - mmdet - INFO - Epoch [4][810/979]\tlr: 1.200e-01, eta: 0:27:43, time: 0.206, data_time: 0.016, memory: 1952, loss_cls: 0.5463, loss_bbox: 0.6213, loss: 1.1676, grad_norm: 0.5670\n",
      "2023-05-11 07:55:11,870 - mmdet - INFO - Epoch [4][820/979]\tlr: 1.200e-01, eta: 0:27:41, time: 0.228, data_time: 0.019, memory: 1952, loss_cls: 0.5592, loss_bbox: 0.5946, loss: 1.1537, grad_norm: 0.5503\n",
      "2023-05-11 07:55:13,642 - mmdet - INFO - Epoch [4][830/979]\tlr: 1.200e-01, eta: 0:27:39, time: 0.178, data_time: 0.018, memory: 1952, loss_cls: 0.5675, loss_bbox: 0.6431, loss: 1.2106, grad_norm: 0.6038\n"
     ]
    },
    {
     "ename": "KeyboardInterrupt",
     "evalue": "",
     "output_type": "error",
     "traceback": [
      "\u001b[0;31m---------------------------------------------------------------------------\u001b[0m",
      "\u001b[0;31mKeyboardInterrupt\u001b[0m                         Traceback (most recent call last)",
      "\u001b[0;32m/tmp/ipykernel_21552/3237593312.py\u001b[0m in \u001b[0;36m<module>\u001b[0;34m\u001b[0m\n\u001b[1;32m     31\u001b[0m \u001b[0;31m# 모델 학습\u001b[0m\u001b[0;34m\u001b[0m\u001b[0;34m\u001b[0m\u001b[0;34m\u001b[0m\u001b[0m\n\u001b[1;32m     32\u001b[0m \u001b[0;34m\u001b[0m\u001b[0m\n\u001b[0;32m---> 33\u001b[0;31m \u001b[0mtrain_detector\u001b[0m\u001b[0;34m(\u001b[0m\u001b[0mmodel\u001b[0m\u001b[0;34m,\u001b[0m \u001b[0mdatasets\u001b[0m\u001b[0;34m,\u001b[0m \u001b[0mcfg\u001b[0m\u001b[0;34m,\u001b[0m \u001b[0mdistributed\u001b[0m\u001b[0;34m=\u001b[0m\u001b[0;32mFalse\u001b[0m\u001b[0;34m,\u001b[0m \u001b[0mvalidate\u001b[0m\u001b[0;34m=\u001b[0m\u001b[0;32mTrue\u001b[0m\u001b[0;34m)\u001b[0m\u001b[0;34m\u001b[0m\u001b[0;34m\u001b[0m\u001b[0m\n\u001b[0m\u001b[1;32m     34\u001b[0m \u001b[0;34m\u001b[0m\u001b[0m\n\u001b[1;32m     35\u001b[0m \u001b[0;31m# preds = []\u001b[0m\u001b[0;34m\u001b[0m\u001b[0;34m\u001b[0m\u001b[0;34m\u001b[0m\u001b[0m\n",
      "\u001b[0;32m~/baseline/mmdetection/mmdet/apis/train.py\u001b[0m in \u001b[0;36mtrain_detector\u001b[0;34m(model, dataset, cfg, distributed, validate, timestamp, meta)\u001b[0m\n\u001b[1;32m    245\u001b[0m     \u001b[0;32melif\u001b[0m \u001b[0mcfg\u001b[0m\u001b[0;34m.\u001b[0m\u001b[0mload_from\u001b[0m\u001b[0;34m:\u001b[0m\u001b[0;34m\u001b[0m\u001b[0;34m\u001b[0m\u001b[0m\n\u001b[1;32m    246\u001b[0m         \u001b[0mrunner\u001b[0m\u001b[0;34m.\u001b[0m\u001b[0mload_checkpoint\u001b[0m\u001b[0;34m(\u001b[0m\u001b[0mcfg\u001b[0m\u001b[0;34m.\u001b[0m\u001b[0mload_from\u001b[0m\u001b[0;34m)\u001b[0m\u001b[0;34m\u001b[0m\u001b[0;34m\u001b[0m\u001b[0m\n\u001b[0;32m--> 247\u001b[0;31m     \u001b[0mrunner\u001b[0m\u001b[0;34m.\u001b[0m\u001b[0mrun\u001b[0m\u001b[0;34m(\u001b[0m\u001b[0mdata_loaders\u001b[0m\u001b[0;34m,\u001b[0m \u001b[0mcfg\u001b[0m\u001b[0;34m.\u001b[0m\u001b[0mworkflow\u001b[0m\u001b[0;34m)\u001b[0m\u001b[0;34m\u001b[0m\u001b[0;34m\u001b[0m\u001b[0m\n\u001b[0m",
      "\u001b[0;32m/opt/conda/envs/detection/lib/python3.7/site-packages/mmcv/runner/epoch_based_runner.py\u001b[0m in \u001b[0;36mrun\u001b[0;34m(self, data_loaders, workflow, max_epochs, **kwargs)\u001b[0m\n\u001b[1;32m    134\u001b[0m                     \u001b[0;32mif\u001b[0m \u001b[0mmode\u001b[0m \u001b[0;34m==\u001b[0m \u001b[0;34m'train'\u001b[0m \u001b[0;32mand\u001b[0m \u001b[0mself\u001b[0m\u001b[0;34m.\u001b[0m\u001b[0mepoch\u001b[0m \u001b[0;34m>=\u001b[0m \u001b[0mself\u001b[0m\u001b[0;34m.\u001b[0m\u001b[0m_max_epochs\u001b[0m\u001b[0;34m:\u001b[0m\u001b[0;34m\u001b[0m\u001b[0;34m\u001b[0m\u001b[0m\n\u001b[1;32m    135\u001b[0m                         \u001b[0;32mbreak\u001b[0m\u001b[0;34m\u001b[0m\u001b[0;34m\u001b[0m\u001b[0m\n\u001b[0;32m--> 136\u001b[0;31m                     \u001b[0mepoch_runner\u001b[0m\u001b[0;34m(\u001b[0m\u001b[0mdata_loaders\u001b[0m\u001b[0;34m[\u001b[0m\u001b[0mi\u001b[0m\u001b[0;34m]\u001b[0m\u001b[0;34m,\u001b[0m \u001b[0;34m**\u001b[0m\u001b[0mkwargs\u001b[0m\u001b[0;34m)\u001b[0m\u001b[0;34m\u001b[0m\u001b[0;34m\u001b[0m\u001b[0m\n\u001b[0m\u001b[1;32m    137\u001b[0m \u001b[0;34m\u001b[0m\u001b[0m\n\u001b[1;32m    138\u001b[0m         \u001b[0mtime\u001b[0m\u001b[0;34m.\u001b[0m\u001b[0msleep\u001b[0m\u001b[0;34m(\u001b[0m\u001b[0;36m1\u001b[0m\u001b[0;34m)\u001b[0m  \u001b[0;31m# wait for some hooks like loggers to finish\u001b[0m\u001b[0;34m\u001b[0m\u001b[0;34m\u001b[0m\u001b[0m\n",
      "\u001b[0;32m/opt/conda/envs/detection/lib/python3.7/site-packages/mmcv/runner/epoch_based_runner.py\u001b[0m in \u001b[0;36mtrain\u001b[0;34m(self, data_loader, **kwargs)\u001b[0m\n\u001b[1;32m     52\u001b[0m             \u001b[0mself\u001b[0m\u001b[0;34m.\u001b[0m\u001b[0mcall_hook\u001b[0m\u001b[0;34m(\u001b[0m\u001b[0;34m'before_train_iter'\u001b[0m\u001b[0;34m)\u001b[0m\u001b[0;34m\u001b[0m\u001b[0;34m\u001b[0m\u001b[0m\n\u001b[1;32m     53\u001b[0m             \u001b[0mself\u001b[0m\u001b[0;34m.\u001b[0m\u001b[0mrun_iter\u001b[0m\u001b[0;34m(\u001b[0m\u001b[0mdata_batch\u001b[0m\u001b[0;34m,\u001b[0m \u001b[0mtrain_mode\u001b[0m\u001b[0;34m=\u001b[0m\u001b[0;32mTrue\u001b[0m\u001b[0;34m,\u001b[0m \u001b[0;34m**\u001b[0m\u001b[0mkwargs\u001b[0m\u001b[0;34m)\u001b[0m\u001b[0;34m\u001b[0m\u001b[0;34m\u001b[0m\u001b[0m\n\u001b[0;32m---> 54\u001b[0;31m             \u001b[0mself\u001b[0m\u001b[0;34m.\u001b[0m\u001b[0mcall_hook\u001b[0m\u001b[0;34m(\u001b[0m\u001b[0;34m'after_train_iter'\u001b[0m\u001b[0;34m)\u001b[0m\u001b[0;34m\u001b[0m\u001b[0;34m\u001b[0m\u001b[0m\n\u001b[0m\u001b[1;32m     55\u001b[0m             \u001b[0;32mdel\u001b[0m \u001b[0mself\u001b[0m\u001b[0;34m.\u001b[0m\u001b[0mdata_batch\u001b[0m\u001b[0;34m\u001b[0m\u001b[0;34m\u001b[0m\u001b[0m\n\u001b[1;32m     56\u001b[0m             \u001b[0mself\u001b[0m\u001b[0;34m.\u001b[0m\u001b[0m_iter\u001b[0m \u001b[0;34m+=\u001b[0m \u001b[0;36m1\u001b[0m\u001b[0;34m\u001b[0m\u001b[0;34m\u001b[0m\u001b[0m\n",
      "\u001b[0;32m/opt/conda/envs/detection/lib/python3.7/site-packages/mmcv/runner/base_runner.py\u001b[0m in \u001b[0;36mcall_hook\u001b[0;34m(self, fn_name)\u001b[0m\n\u001b[1;32m    315\u001b[0m         \"\"\"\n\u001b[1;32m    316\u001b[0m         \u001b[0;32mfor\u001b[0m \u001b[0mhook\u001b[0m \u001b[0;32min\u001b[0m \u001b[0mself\u001b[0m\u001b[0;34m.\u001b[0m\u001b[0m_hooks\u001b[0m\u001b[0;34m:\u001b[0m\u001b[0;34m\u001b[0m\u001b[0;34m\u001b[0m\u001b[0m\n\u001b[0;32m--> 317\u001b[0;31m             \u001b[0mgetattr\u001b[0m\u001b[0;34m(\u001b[0m\u001b[0mhook\u001b[0m\u001b[0;34m,\u001b[0m \u001b[0mfn_name\u001b[0m\u001b[0;34m)\u001b[0m\u001b[0;34m(\u001b[0m\u001b[0mself\u001b[0m\u001b[0;34m)\u001b[0m\u001b[0;34m\u001b[0m\u001b[0;34m\u001b[0m\u001b[0m\n\u001b[0m\u001b[1;32m    318\u001b[0m \u001b[0;34m\u001b[0m\u001b[0m\n\u001b[1;32m    319\u001b[0m     \u001b[0;32mdef\u001b[0m \u001b[0mget_hook_info\u001b[0m\u001b[0;34m(\u001b[0m\u001b[0mself\u001b[0m\u001b[0;34m)\u001b[0m \u001b[0;34m->\u001b[0m \u001b[0mstr\u001b[0m\u001b[0;34m:\u001b[0m\u001b[0;34m\u001b[0m\u001b[0;34m\u001b[0m\u001b[0m\n",
      "\u001b[0;32m/opt/conda/envs/detection/lib/python3.7/site-packages/mmcv/runner/hooks/optimizer.py\u001b[0m in \u001b[0;36mafter_train_iter\u001b[0;34m(self, runner)\u001b[0m\n\u001b[1;32m     66\u001b[0m \u001b[0;34m\u001b[0m\u001b[0m\n\u001b[1;32m     67\u001b[0m         \u001b[0;32mif\u001b[0m \u001b[0mself\u001b[0m\u001b[0;34m.\u001b[0m\u001b[0mgrad_clip\u001b[0m \u001b[0;32mis\u001b[0m \u001b[0;32mnot\u001b[0m \u001b[0;32mNone\u001b[0m\u001b[0;34m:\u001b[0m\u001b[0;34m\u001b[0m\u001b[0;34m\u001b[0m\u001b[0m\n\u001b[0;32m---> 68\u001b[0;31m             \u001b[0mgrad_norm\u001b[0m \u001b[0;34m=\u001b[0m \u001b[0mself\u001b[0m\u001b[0;34m.\u001b[0m\u001b[0mclip_grads\u001b[0m\u001b[0;34m(\u001b[0m\u001b[0mrunner\u001b[0m\u001b[0;34m.\u001b[0m\u001b[0mmodel\u001b[0m\u001b[0;34m.\u001b[0m\u001b[0mparameters\u001b[0m\u001b[0;34m(\u001b[0m\u001b[0;34m)\u001b[0m\u001b[0;34m)\u001b[0m\u001b[0;34m\u001b[0m\u001b[0;34m\u001b[0m\u001b[0m\n\u001b[0m\u001b[1;32m     69\u001b[0m             \u001b[0;32mif\u001b[0m \u001b[0mgrad_norm\u001b[0m \u001b[0;32mis\u001b[0m \u001b[0;32mnot\u001b[0m \u001b[0;32mNone\u001b[0m\u001b[0;34m:\u001b[0m\u001b[0;34m\u001b[0m\u001b[0;34m\u001b[0m\u001b[0m\n\u001b[1;32m     70\u001b[0m                 \u001b[0;31m# Add grad norm to the logger\u001b[0m\u001b[0;34m\u001b[0m\u001b[0;34m\u001b[0m\u001b[0;34m\u001b[0m\u001b[0m\n",
      "\u001b[0;32m/opt/conda/envs/detection/lib/python3.7/site-packages/mmcv/runner/hooks/optimizer.py\u001b[0m in \u001b[0;36mclip_grads\u001b[0;34m(self, params)\u001b[0m\n\u001b[1;32m     57\u001b[0m             filter(lambda p: p.requires_grad and p.grad is not None, params))\n\u001b[1;32m     58\u001b[0m         \u001b[0;32mif\u001b[0m \u001b[0mlen\u001b[0m\u001b[0;34m(\u001b[0m\u001b[0mparams\u001b[0m\u001b[0;34m)\u001b[0m \u001b[0;34m>\u001b[0m \u001b[0;36m0\u001b[0m\u001b[0;34m:\u001b[0m\u001b[0;34m\u001b[0m\u001b[0;34m\u001b[0m\u001b[0m\n\u001b[0;32m---> 59\u001b[0;31m             \u001b[0;32mreturn\u001b[0m \u001b[0mclip_grad\u001b[0m\u001b[0;34m.\u001b[0m\u001b[0mclip_grad_norm_\u001b[0m\u001b[0;34m(\u001b[0m\u001b[0mparams\u001b[0m\u001b[0;34m,\u001b[0m \u001b[0;34m**\u001b[0m\u001b[0mself\u001b[0m\u001b[0;34m.\u001b[0m\u001b[0mgrad_clip\u001b[0m\u001b[0;34m)\u001b[0m\u001b[0;34m\u001b[0m\u001b[0;34m\u001b[0m\u001b[0m\n\u001b[0m\u001b[1;32m     60\u001b[0m \u001b[0;34m\u001b[0m\u001b[0m\n\u001b[1;32m     61\u001b[0m     \u001b[0;32mdef\u001b[0m \u001b[0mafter_train_iter\u001b[0m\u001b[0;34m(\u001b[0m\u001b[0mself\u001b[0m\u001b[0;34m,\u001b[0m \u001b[0mrunner\u001b[0m\u001b[0;34m)\u001b[0m\u001b[0;34m:\u001b[0m\u001b[0;34m\u001b[0m\u001b[0;34m\u001b[0m\u001b[0m\n",
      "\u001b[0;32m/opt/conda/envs/detection/lib/python3.7/site-packages/torch/nn/utils/clip_grad.py\u001b[0m in \u001b[0;36mclip_grad_norm_\u001b[0;34m(parameters, max_norm, norm_type)\u001b[0m\n\u001b[1;32m     34\u001b[0m         \u001b[0mtotal_norm\u001b[0m \u001b[0;34m=\u001b[0m \u001b[0mmax\u001b[0m\u001b[0;34m(\u001b[0m\u001b[0mp\u001b[0m\u001b[0;34m.\u001b[0m\u001b[0mgrad\u001b[0m\u001b[0;34m.\u001b[0m\u001b[0mdetach\u001b[0m\u001b[0;34m(\u001b[0m\u001b[0;34m)\u001b[0m\u001b[0;34m.\u001b[0m\u001b[0mabs\u001b[0m\u001b[0;34m(\u001b[0m\u001b[0;34m)\u001b[0m\u001b[0;34m.\u001b[0m\u001b[0mmax\u001b[0m\u001b[0;34m(\u001b[0m\u001b[0;34m)\u001b[0m\u001b[0;34m.\u001b[0m\u001b[0mto\u001b[0m\u001b[0;34m(\u001b[0m\u001b[0mdevice\u001b[0m\u001b[0;34m)\u001b[0m \u001b[0;32mfor\u001b[0m \u001b[0mp\u001b[0m \u001b[0;32min\u001b[0m \u001b[0mparameters\u001b[0m\u001b[0;34m)\u001b[0m\u001b[0;34m\u001b[0m\u001b[0;34m\u001b[0m\u001b[0m\n\u001b[1;32m     35\u001b[0m     \u001b[0;32melse\u001b[0m\u001b[0;34m:\u001b[0m\u001b[0;34m\u001b[0m\u001b[0;34m\u001b[0m\u001b[0m\n\u001b[0;32m---> 36\u001b[0;31m         \u001b[0mtotal_norm\u001b[0m \u001b[0;34m=\u001b[0m \u001b[0mtorch\u001b[0m\u001b[0;34m.\u001b[0m\u001b[0mnorm\u001b[0m\u001b[0;34m(\u001b[0m\u001b[0mtorch\u001b[0m\u001b[0;34m.\u001b[0m\u001b[0mstack\u001b[0m\u001b[0;34m(\u001b[0m\u001b[0;34m[\u001b[0m\u001b[0mtorch\u001b[0m\u001b[0;34m.\u001b[0m\u001b[0mnorm\u001b[0m\u001b[0;34m(\u001b[0m\u001b[0mp\u001b[0m\u001b[0;34m.\u001b[0m\u001b[0mgrad\u001b[0m\u001b[0;34m.\u001b[0m\u001b[0mdetach\u001b[0m\u001b[0;34m(\u001b[0m\u001b[0;34m)\u001b[0m\u001b[0;34m,\u001b[0m \u001b[0mnorm_type\u001b[0m\u001b[0;34m)\u001b[0m\u001b[0;34m.\u001b[0m\u001b[0mto\u001b[0m\u001b[0;34m(\u001b[0m\u001b[0mdevice\u001b[0m\u001b[0;34m)\u001b[0m \u001b[0;32mfor\u001b[0m \u001b[0mp\u001b[0m \u001b[0;32min\u001b[0m \u001b[0mparameters\u001b[0m\u001b[0;34m]\u001b[0m\u001b[0;34m)\u001b[0m\u001b[0;34m,\u001b[0m \u001b[0mnorm_type\u001b[0m\u001b[0;34m)\u001b[0m\u001b[0;34m\u001b[0m\u001b[0;34m\u001b[0m\u001b[0m\n\u001b[0m\u001b[1;32m     37\u001b[0m     \u001b[0mclip_coef\u001b[0m \u001b[0;34m=\u001b[0m \u001b[0mmax_norm\u001b[0m \u001b[0;34m/\u001b[0m \u001b[0;34m(\u001b[0m\u001b[0mtotal_norm\u001b[0m \u001b[0;34m+\u001b[0m \u001b[0;36m1e-6\u001b[0m\u001b[0;34m)\u001b[0m\u001b[0;34m\u001b[0m\u001b[0;34m\u001b[0m\u001b[0m\n\u001b[1;32m     38\u001b[0m     \u001b[0;32mif\u001b[0m \u001b[0mclip_coef\u001b[0m \u001b[0;34m<\u001b[0m \u001b[0;36m1\u001b[0m\u001b[0;34m:\u001b[0m\u001b[0;34m\u001b[0m\u001b[0;34m\u001b[0m\u001b[0m\n",
      "\u001b[0;32m/opt/conda/envs/detection/lib/python3.7/site-packages/torch/nn/utils/clip_grad.py\u001b[0m in \u001b[0;36m<listcomp>\u001b[0;34m(.0)\u001b[0m\n\u001b[1;32m     34\u001b[0m         \u001b[0mtotal_norm\u001b[0m \u001b[0;34m=\u001b[0m \u001b[0mmax\u001b[0m\u001b[0;34m(\u001b[0m\u001b[0mp\u001b[0m\u001b[0;34m.\u001b[0m\u001b[0mgrad\u001b[0m\u001b[0;34m.\u001b[0m\u001b[0mdetach\u001b[0m\u001b[0;34m(\u001b[0m\u001b[0;34m)\u001b[0m\u001b[0;34m.\u001b[0m\u001b[0mabs\u001b[0m\u001b[0;34m(\u001b[0m\u001b[0;34m)\u001b[0m\u001b[0;34m.\u001b[0m\u001b[0mmax\u001b[0m\u001b[0;34m(\u001b[0m\u001b[0;34m)\u001b[0m\u001b[0;34m.\u001b[0m\u001b[0mto\u001b[0m\u001b[0;34m(\u001b[0m\u001b[0mdevice\u001b[0m\u001b[0;34m)\u001b[0m \u001b[0;32mfor\u001b[0m \u001b[0mp\u001b[0m \u001b[0;32min\u001b[0m \u001b[0mparameters\u001b[0m\u001b[0;34m)\u001b[0m\u001b[0;34m\u001b[0m\u001b[0;34m\u001b[0m\u001b[0m\n\u001b[1;32m     35\u001b[0m     \u001b[0;32melse\u001b[0m\u001b[0;34m:\u001b[0m\u001b[0;34m\u001b[0m\u001b[0;34m\u001b[0m\u001b[0m\n\u001b[0;32m---> 36\u001b[0;31m         \u001b[0mtotal_norm\u001b[0m \u001b[0;34m=\u001b[0m \u001b[0mtorch\u001b[0m\u001b[0;34m.\u001b[0m\u001b[0mnorm\u001b[0m\u001b[0;34m(\u001b[0m\u001b[0mtorch\u001b[0m\u001b[0;34m.\u001b[0m\u001b[0mstack\u001b[0m\u001b[0;34m(\u001b[0m\u001b[0;34m[\u001b[0m\u001b[0mtorch\u001b[0m\u001b[0;34m.\u001b[0m\u001b[0mnorm\u001b[0m\u001b[0;34m(\u001b[0m\u001b[0mp\u001b[0m\u001b[0;34m.\u001b[0m\u001b[0mgrad\u001b[0m\u001b[0;34m.\u001b[0m\u001b[0mdetach\u001b[0m\u001b[0;34m(\u001b[0m\u001b[0;34m)\u001b[0m\u001b[0;34m,\u001b[0m \u001b[0mnorm_type\u001b[0m\u001b[0;34m)\u001b[0m\u001b[0;34m.\u001b[0m\u001b[0mto\u001b[0m\u001b[0;34m(\u001b[0m\u001b[0mdevice\u001b[0m\u001b[0;34m)\u001b[0m \u001b[0;32mfor\u001b[0m \u001b[0mp\u001b[0m \u001b[0;32min\u001b[0m \u001b[0mparameters\u001b[0m\u001b[0;34m]\u001b[0m\u001b[0;34m)\u001b[0m\u001b[0;34m,\u001b[0m \u001b[0mnorm_type\u001b[0m\u001b[0;34m)\u001b[0m\u001b[0;34m\u001b[0m\u001b[0;34m\u001b[0m\u001b[0m\n\u001b[0m\u001b[1;32m     37\u001b[0m     \u001b[0mclip_coef\u001b[0m \u001b[0;34m=\u001b[0m \u001b[0mmax_norm\u001b[0m \u001b[0;34m/\u001b[0m \u001b[0;34m(\u001b[0m\u001b[0mtotal_norm\u001b[0m \u001b[0;34m+\u001b[0m \u001b[0;36m1e-6\u001b[0m\u001b[0;34m)\u001b[0m\u001b[0;34m\u001b[0m\u001b[0;34m\u001b[0m\u001b[0m\n\u001b[1;32m     38\u001b[0m     \u001b[0;32mif\u001b[0m \u001b[0mclip_coef\u001b[0m \u001b[0;34m<\u001b[0m \u001b[0;36m1\u001b[0m\u001b[0;34m:\u001b[0m\u001b[0;34m\u001b[0m\u001b[0;34m\u001b[0m\u001b[0m\n",
      "\u001b[0;32m/opt/conda/envs/detection/lib/python3.7/site-packages/torch/functional.py\u001b[0m in \u001b[0;36mnorm\u001b[0;34m(input, p, dim, keepdim, out, dtype)\u001b[0m\n\u001b[1;32m   1291\u001b[0m         \u001b[0;32mif\u001b[0m \u001b[0;32mnot\u001b[0m \u001b[0misinstance\u001b[0m\u001b[0;34m(\u001b[0m\u001b[0mp\u001b[0m\u001b[0;34m,\u001b[0m \u001b[0mstr\u001b[0m\u001b[0;34m)\u001b[0m\u001b[0;34m:\u001b[0m\u001b[0;34m\u001b[0m\u001b[0;34m\u001b[0m\u001b[0m\n\u001b[1;32m   1292\u001b[0m             \u001b[0m_dim\u001b[0m \u001b[0;34m=\u001b[0m \u001b[0;34m[\u001b[0m\u001b[0mi\u001b[0m \u001b[0;32mfor\u001b[0m \u001b[0mi\u001b[0m \u001b[0;32min\u001b[0m \u001b[0mrange\u001b[0m\u001b[0;34m(\u001b[0m\u001b[0mndim\u001b[0m\u001b[0;34m)\u001b[0m\u001b[0;34m]\u001b[0m  \u001b[0;31m# noqa: C416 TODO: rewrite as list(range(m))\u001b[0m\u001b[0;34m\u001b[0m\u001b[0;34m\u001b[0m\u001b[0m\n\u001b[0;32m-> 1293\u001b[0;31m             \u001b[0;32mreturn\u001b[0m \u001b[0m_VF\u001b[0m\u001b[0;34m.\u001b[0m\u001b[0mnorm\u001b[0m\u001b[0;34m(\u001b[0m\u001b[0minput\u001b[0m\u001b[0;34m,\u001b[0m \u001b[0mp\u001b[0m\u001b[0;34m,\u001b[0m \u001b[0mdim\u001b[0m\u001b[0;34m=\u001b[0m\u001b[0m_dim\u001b[0m\u001b[0;34m,\u001b[0m \u001b[0mkeepdim\u001b[0m\u001b[0;34m=\u001b[0m\u001b[0mkeepdim\u001b[0m\u001b[0;34m)\u001b[0m  \u001b[0;31m# type: ignore\u001b[0m\u001b[0;34m\u001b[0m\u001b[0;34m\u001b[0m\u001b[0m\n\u001b[0m\u001b[1;32m   1294\u001b[0m \u001b[0;34m\u001b[0m\u001b[0m\n\u001b[1;32m   1295\u001b[0m     \u001b[0;31m# TODO: when https://github.com/pytorch/pytorch/issues/33782 is fixed\u001b[0m\u001b[0;34m\u001b[0m\u001b[0;34m\u001b[0m\u001b[0;34m\u001b[0m\u001b[0m\n",
      "\u001b[0;31mKeyboardInterrupt\u001b[0m: "
     ]
    },
    {
     "name": "stderr",
     "output_type": "stream",
     "text": [
      "--- Logging error ---\n",
      "Traceback (most recent call last):\n",
      "  File \"/opt/conda/envs/detection/lib/python3.7/logging/__init__.py\", line 1029, in emit\n",
      "    self.flush()\n",
      "  File \"/opt/conda/envs/detection/lib/python3.7/logging/__init__.py\", line 1009, in flush\n",
      "    self.stream.flush()\n",
      "OSError: [Errno 28] No space left on device\n",
      "Call stack:\n",
      "  File \"/opt/conda/envs/detection/lib/python3.7/threading.py\", line 890, in _bootstrap\n",
      "    self._bootstrap_inner()\n",
      "  File \"/opt/conda/envs/detection/lib/python3.7/threading.py\", line 926, in _bootstrap_inner\n",
      "    self.run()\n",
      "  File \"/opt/conda/envs/detection/lib/python3.7/site-packages/wandb/sdk/service/streams.py\", line 49, in run\n",
      "    self._target(**self._kwargs)\n",
      "  File \"/opt/conda/envs/detection/lib/python3.7/site-packages/wandb/sdk/internal/internal.py\", line 174, in wandb_internal\n",
      "    logger.error(f\"Thread {thread.name}:\", exc_info=exc_info)\n",
      "Message: 'Thread WriterThread:'\n",
      "Arguments: ()\n",
      "Thread WriterThread:\n",
      "Traceback (most recent call last):\n",
      "  File \"/opt/conda/envs/detection/lib/python3.7/site-packages/wandb/sdk/internal/internal_util.py\", line 49, in run\n",
      "    self._run()\n",
      "  File \"/opt/conda/envs/detection/lib/python3.7/site-packages/wandb/sdk/internal/internal_util.py\", line 100, in _run\n",
      "    self._process(record)\n",
      "  File \"/opt/conda/envs/detection/lib/python3.7/site-packages/wandb/sdk/internal/internal.py\", line 380, in _process\n",
      "    self._wm.write(record)\n",
      "  File \"/opt/conda/envs/detection/lib/python3.7/site-packages/wandb/sdk/internal/writer.py\", line 154, in write\n",
      "    write_handler(record)\n",
      "  File \"/opt/conda/envs/detection/lib/python3.7/site-packages/wandb/sdk/internal/writer.py\", line 135, in _write\n",
      "    self._write_record(record)\n",
      "  File \"/opt/conda/envs/detection/lib/python3.7/site-packages/wandb/sdk/internal/writer.py\", line 109, in _write_record\n",
      "    ret = self._ds.write(record)\n",
      "  File \"/opt/conda/envs/detection/lib/python3.7/site-packages/wandb/sdk/internal/datastore.py\", line 293, in write\n",
      "    ret = self._write_data(s)\n",
      "  File \"/opt/conda/envs/detection/lib/python3.7/site-packages/wandb/sdk/internal/datastore.py\", line 249, in _write_data\n",
      "    self._write_record(s)\n",
      "  File \"/opt/conda/envs/detection/lib/python3.7/site-packages/wandb/sdk/internal/datastore.py\", line 228, in _write_record\n",
      "    self._fp.write(s)\n",
      "OSError: [Errno 28] No space left on device\n",
      "wandb: ERROR Internal wandb error: file data was not synced\n"
     ]
    }
   ],
   "source": [
    "# #wandb테스트 여기서 이렇게 코드를 쳐서 실행하나 ./configs/_base_/default_runtime.py에서 수정하나 똑같은듯?\n",
    "# import wandb\n",
    "# wandb.init(project=\"level2-objectdetection\", entity=\"hi-ai\")\n",
    "# cfg.log_config.hooks=[\n",
    "#     dict(type='TextLoggerHook'),\n",
    "#     dict(type='MMDetWandbHook',\n",
    "#          init_kwargs={'project':'level2-objectdetection'},\n",
    "#          interval=10,\n",
    "#          log_checkpoint=True,\n",
    "#          log_checkpoint_metadata=True,\n",
    "#          num_eval_images=100)]\n",
    "\n",
    "import wandb\n",
    "wandb.init(project=\"Model\", entity=\"hi-ai\")\n",
    "\n",
    "log_config = dict(\n",
    "    interval=10,\n",
    "    hooks=[\n",
    "        dict(type='TextLoggerHook'),\n",
    "        dict(\n",
    "            type='WandbLoggerHook',\n",
    "            init_kwargs=dict(project='Model', name='yolof', entity='hi-ai')\n",
    "            )])\n",
    "# for wandb\n",
    "cfg.log_config = log_config\n",
    "\n",
    "# import wandb\n",
    "# wandb.init(project=\"level2-objectdetection\", entity=\"hi-ai\")\n",
    "\n",
    "\n",
    "# 모델 학습\n",
    "\n",
    "train_detector(model, datasets, cfg, distributed=False, validate=True)\n",
    "\n",
    "# preds = []\n",
    "# gts = []\n",
    "\n",
    "# # 테스트 데이터의 예측 결과를 추출합니다.\n",
    "# for i, data in enumerate(data_loader):\n",
    "#     with torch.no_grad():\n",
    "#         result = single_gpu_test(model, data[\"img\"][0].cuda(), show=False)\n",
    "#     preds.extend(result[0])\n",
    "#     gts.extend(data[\"gt_labels\"][0].tolist())\n",
    "\n",
    "# # confusion matrix와 accuracy를 계산합니다.\n",
    "# cm = eval_map(preds, gts, iou_thr=0.5, print_summary=False, dataset=dataset.CLASSES)\n",
    "# acc = sum([1 for i, j in zip(preds, gts) if i == j]) / len(preds)\n",
    "\n",
    "# wandb에 confusion matrix와 accuracy를 로깅합니다.\n",
    "# wandb.log({\"confusion_matrix\": wandb.plot.confusion_matrix(preds, gts, class_names=dataset.CLASSES),\n",
    "#            \"accuracy\": acc})"
   ]
  },
  {
   "cell_type": "code",
   "execution_count": null,
   "metadata": {
    "tags": []
   },
   "outputs": [],
   "source": []
  },
  {
   "cell_type": "code",
   "execution_count": null,
   "metadata": {},
   "outputs": [],
   "source": []
  },
  {
   "cell_type": "code",
   "execution_count": null,
   "metadata": {},
   "outputs": [],
   "source": []
  }
 ],
 "metadata": {
  "interpreter": {
   "hash": "980dec4bdc0f65d3f181e5891661df87e8769cde5e79cd54bc145a7f830b2685"
  },
  "kernelspec": {
   "display_name": "detection",
   "language": "python",
   "name": "detection"
  },
  "language_info": {
   "codemirror_mode": {
    "name": "ipython",
    "version": 3
   },
   "file_extension": ".py",
   "mimetype": "text/x-python",
   "name": "python",
   "nbconvert_exporter": "python",
   "pygments_lexer": "ipython3",
   "version": "3.7.16"
  }
 },
 "nbformat": 4,
 "nbformat_minor": 4
}
