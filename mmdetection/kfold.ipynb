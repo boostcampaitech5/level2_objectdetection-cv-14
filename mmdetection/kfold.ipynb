{
 "cells": [
  {
   "cell_type": "code",
   "execution_count": 1,
   "metadata": {},
   "outputs": [],
   "source": [
    "import json\n",
    "import os\n",
    "import random\n",
    "import numpy as np\n",
    "from sklearn.model_selection import StratifiedGroupKFold"
   ]
  },
  {
   "cell_type": "code",
   "execution_count": 2,
   "metadata": {},
   "outputs": [],
   "source": [
    "def split_dataset(input_json, output_dir, random_seed):\n",
    "    random.seed(random_seed)\n",
    "\n",
    "    with open(input_json) as json_reader:\n",
    "        dataset = json.load(json_reader)\n",
    "\n",
    "    images = dataset['images']\n",
    "    annotations = dataset['annotations']\n",
    "    categories = dataset['categories']\n",
    "\n",
    "    k_var = [(ann['image_id'], ann['category_id']) for ann in annotations]\n",
    "    X = np.ones((len(annotations),1))\n",
    "    y = np.array([v[1] for v in k_var])\n",
    "    groups = np.array([v[0] for v in k_var])\n",
    "    \n",
    "    #file_name에 prefix 디렉토리까지 포함 (CocoDataset 클래스를 사용하는 경우)\n",
    "    #for image in images:\n",
    "    #    image['file_name'] = '{}/{}'.format(image['file_name'][0], image['file_name'])\n",
    "        \n",
    "    cv = StratifiedGroupKFold(n_splits=5, shuffle=True, random_state=411)\n",
    "    \n",
    "    for k, (train_idx, val_idx) in enumerate(cv.split(X, y, groups)):\n",
    "        train_ids = groups[train_idx]\n",
    "        val_ids = groups[val_idx]\n",
    "        \n",
    "        image_ids_val, image_ids_train = set(val_ids), set(train_ids)\n",
    "\n",
    "        train_images = [x for x in images if x.get('id') in image_ids_train]\n",
    "        val_images = [x for x in images if x.get('id') in image_ids_val]\n",
    "        train_annotations = [x for x in annotations if x.get('image_id') in image_ids_train]\n",
    "        val_annotations = [x for x in annotations if x.get('image_id') in image_ids_val]\n",
    "\n",
    "        train_data = {\n",
    "            'images': train_images,\n",
    "            'annotations': train_annotations,\n",
    "            'categories': categories,\n",
    "        }\n",
    "\n",
    "        val_data = {\n",
    "            'images': val_images,\n",
    "            'annotations': val_annotations,\n",
    "            'categories': categories,\n",
    "        }\n",
    "\n",
    "        output_seed_dir = os.path.join(output_dir, f'seed{random_seed}')\n",
    "        os.makedirs(output_seed_dir, exist_ok=True)\n",
    "        output_train_json = os.path.join(output_seed_dir, f'train_{k}.json')\n",
    "        output_val_json = os.path.join(output_seed_dir, f'val_{k}.json')\n",
    "\n",
    "        print(f'write {output_train_json}')\n",
    "        with open(output_train_json, 'w') as train_writer:\n",
    "            json.dump(train_data, train_writer)\n",
    "\n",
    "        print(f'write {output_val_json}')\n",
    "        with open(output_val_json, 'w') as val_writer:\n",
    "            json.dump(val_data, val_writer)\n",
    "        "
   ]
  },
  {
   "cell_type": "code",
   "execution_count": 3,
   "metadata": {},
   "outputs": [
    {
     "name": "stdout",
     "output_type": "stream",
     "text": [
      "write ../../dataset/seed2022/train_0.json\n",
      "write ../../dataset/seed2022/val_0.json\n",
      "write ../../dataset/seed2022/train_1.json\n",
      "write ../../dataset/seed2022/val_1.json\n",
      "write ../../dataset/seed2022/train_2.json\n",
      "write ../../dataset/seed2022/val_2.json\n",
      "write ../../dataset/seed2022/train_3.json\n",
      "write ../../dataset/seed2022/val_3.json\n",
      "write ../../dataset/seed2022/train_4.json\n",
      "write ../../dataset/seed2022/val_4.json\n"
     ]
    }
   ],
   "source": [
    "split_dataset(\"../../dataset/train.json\", \"../../dataset\", 2022 )"
   ]
  },
  {
   "cell_type": "code",
   "execution_count": 4,
   "metadata": {},
   "outputs": [
    {
     "name": "stdout",
     "output_type": "stream",
     "text": [
      "training data\n",
      "images: 3914\n",
      "annotations: 18633\n",
      "categories: 10\n"
     ]
    }
   ],
   "source": [
    "train_data = json.load(open('../../dataset/seed2022/train_0.json'))\n",
    "\n",
    "print('training data')\n",
    "print(f'images: {len(train_data[\"images\"])}')\n",
    "print(f'annotations: {len(train_data[\"annotations\"])}')\n",
    "print(f'categories: {len(train_data[\"categories\"])}')"
   ]
  },
  {
   "cell_type": "code",
   "execution_count": 5,
   "metadata": {},
   "outputs": [
    {
     "name": "stdout",
     "output_type": "stream",
     "text": [
      "training data\n",
      "images: 3906\n",
      "annotations: 18075\n",
      "categories: 10\n"
     ]
    }
   ],
   "source": [
    "train_data = json.load(open('../../dataset/seed2022/train_1.json'))\n",
    "\n",
    "print('training data')\n",
    "print(f'images: {len(train_data[\"images\"])}')\n",
    "print(f'annotations: {len(train_data[\"annotations\"])}')\n",
    "print(f'categories: {len(train_data[\"categories\"])}')"
   ]
  },
  {
   "cell_type": "code",
   "execution_count": 6,
   "metadata": {},
   "outputs": [
    {
     "name": "stdout",
     "output_type": "stream",
     "text": [
      "validation data\n",
      "images: 969\n",
      "annotations: 4511\n",
      "categories: 10\n"
     ]
    }
   ],
   "source": [
    "val_data = json.load(open('../../dataset/seed2022/val_0.json'))\n",
    "\n",
    "print('validation data')\n",
    "print(f'images: {len(val_data[\"images\"])}')\n",
    "print(f'annotations: {len(val_data[\"annotations\"])}')\n",
    "print(f'categories: {len(val_data[\"categories\"])}')"
   ]
  },
  {
   "cell_type": "code",
   "execution_count": 7,
   "metadata": {},
   "outputs": [
    {
     "name": "stdout",
     "output_type": "stream",
     "text": [
      "validation data\n",
      "images: 977\n",
      "annotations: 5069\n",
      "categories: 10\n"
     ]
    }
   ],
   "source": [
    "val_data = json.load(open('../../dataset/seed2022/val_1.json'))\n",
    "\n",
    "print('validation data')\n",
    "print(f'images: {len(val_data[\"images\"])}')\n",
    "print(f'annotations: {len(val_data[\"annotations\"])}')\n",
    "print(f'categories: {len(val_data[\"categories\"])}')"
   ]
  }
 ],
 "metadata": {
  "kernelspec": {
   "display_name": "detection",
   "language": "python",
   "name": "python3"
  },
  "language_info": {
   "codemirror_mode": {
    "name": "ipython",
    "version": 3
   },
   "file_extension": ".py",
   "mimetype": "text/x-python",
   "name": "python",
   "nbconvert_exporter": "python",
   "pygments_lexer": "ipython3",
   "version": "3.7.16"
  },
  "orig_nbformat": 4
 },
 "nbformat": 4,
 "nbformat_minor": 2
}
